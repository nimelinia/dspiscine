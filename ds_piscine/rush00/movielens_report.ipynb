{
 "cells": [
  {
   "cell_type": "markdown",
   "id": "4faeac35",
   "metadata": {},
   "source": [
    "# MovieLens Report\n",
    "Rush00 (Python DS School 21)"
   ]
  },
  {
   "cell_type": "markdown",
   "id": "1db89ae2",
   "metadata": {},
   "source": [
    "* Any built-in function is allowed\n",
    "* You can import the following libraries: os, sys, urllib, requests, beautifulsoup, json, pytest, collections, functools, datetime, re\n",
    "* Use Jupyter Notebook for creating the report\n",
    "\n",
    "## Task\n",
    "\n",
    "In this rush, you are going to work on your own analytical report. You will analyze data from the MovieLens database. By the end of the rush, you will have two files: movielens_analysis.py and movielens_report.ipynb.In the first file, you will need to create your own module with classes and methods. In the second file, you will create the report itself using only your module.\n",
    "\n",
    "#### Перевод\n",
    "\n",
    "В этой спешке вы будете работать над собственным аналитическим отчетом. Вы проанализируете данные из базы данных MovieLens. К концу спешки у вас будет два файла: movielens_analysis.py и movielens_report.ipynb. В первом файле вам нужно будет создать свой собственный модуль с классами и методами. Во втором файле вы создадите сам отчет, используя только свой модуль."
   ]
  },
  {
   "cell_type": "markdown",
   "id": "81a2c2f2",
   "metadata": {},
   "source": [
    "### Module\n",
    "\n",
    "Remember that the goal of the rush is to strengthen your skills.\n",
    "Try to use as much as you can from what you have learned from the previous days.\n",
    "\n",
    "* Use a smaller version of MovieLens dataset, download it, please\n",
    "* Read the README.txt very carefully. Focus on the file structures\n",
    "* In your module, you will need to create 4 classes corresponding to 4 files from the data and 1 class for testing\n",
    "* The classes and methods below are obligatory but you can add to them anything that suits your needs\n",
    "\n",
    "Class Ratings, Tags, Movies, Links can be found in attachments\n",
    "\n",
    "Class Tests:\n",
    "Create tests using PyTest for each and every method of the classes above.\n",
    "They should check:\n",
    "* if the methods return the correct data types\n",
    "* if the lists elements have the correct data types\n",
    "* if the returned data sorted correctly\n",
    "Run the tests before going to the next stage of the rush.\n",
    "\n",
    "#### Перевод\n",
    "\n",
    "Помните, что цель спешки - укрепить свои навыки.\n",
    "Постарайтесь использовать как можно больше из того, что вы узнали в предыдущие дни.\n",
    "\n",
    "* Используйте уменьшенную версию набора данных MovieLens, загрузите ее, пожалуйста\n",
    "* Внимательно прочтите README.txt. Сосредоточьтесь на файловых структурах\n",
    "* В вашем модуле вам нужно будет создать 4 класса, соответствующие 4 файлам из данных и 1 класс для тестирования\n",
    "* Приведенные ниже классы и методы являются обязательными, но вы можете добавить к ним все, что вам нужно.\n",
    "\n",
    "Рейтинги классов, теги, фильмы, ссылки можно найти во вложениях\n",
    "\n",
    "Классные тесты:\n",
    "Создавайте тесты с помощью PyTest для каждого метода перечисленных выше классов.\n",
    "Им следует проверить:\n",
    "* если методы возвращают правильные типы данных\n",
    "* если элементы списков имеют правильные типы данных\n",
    "* правильно ли отсортированы возвращаемые данные\n",
    "Перед тем, как перейти к следующему этапу раша, запустите тесты. "
   ]
  },
  {
   "cell_type": "markdown",
   "id": "c0fa1987",
   "metadata": {},
   "source": [
    "### Report\n",
    "\n",
    "Using only the classes and methods from movielens_analysis.py,\n",
    "prepare your report.\n",
    "You should do it in Jupyter Notebook.\n",
    "It is a great tool especially if you are a data scientist.\n",
    "It gives you an opportunity to work with the code interactively\n",
    "by launching and relaunching different cells with different values.\n",
    "You do not have to rerun your whole code from the beginning.\n",
    "Also, you can put in the cells not only code but text too,\n",
    "which is a great feature for making reports.\n",
    "Install it to your environment.\n",
    "In this part of the rush, we will give you more freedom.\n",
    "We are not going to define the structure of your report.\n",
    "The goal of the report is to tell us an interesting story\n",
    "about the MovieLens dataset.\n",
    "Find the good structure and the right sequence.\n",
    "\n",
    "The only constraints:\n",
    "* you must use each and every method from movielens_analysis.py except class Tests\n",
    "* every cell in your notebook should contain magic command %timeit\n",
    "* all other imports are prohibited as well as using built-in functions. If you need them, put them in your module in advance\n",
    "\n",
    "#### Перевод\n",
    "\n",
    "Используя только классы и методы из movielens_analysis.py, подготовьте свой отчет.\n",
    "Вы должны сделать это в Jupyter Notebook.\n",
    "Это отличный инструмент, особенно если вы специалист по данным.\n",
    "Дает возможность работать с кодом в интерактивном режиме путем запуска и перезапуска разных ячеек с разными значениями.\n",
    "Вам не нужно перезапускать весь код с самого начала.\n",
    "Также вы можете поместить в ячейки не только код, но и текст, что является отличной функцией для составления отчетов.\n",
    "Установите его в свою среду.\n",
    "В этой части спешки мы дадим вам больше свободы.\n",
    "Мы не собираемся определять структуру вашего отчета.\n",
    "Цель отчета - рассказать нам интересную историю о наборе данных MovieLens.\n",
    "Найдите хорошую структуру и правильную последовательность.\n",
    "\n",
    "Единственные ограничения:\n",
    "* вы должны использовать все методы из movielens_analysis.py, кроме тестов класса\n",
    "* каждая ячейка вашего блокнота должна содержать волшебную команду% timeit\n",
    "* запрещен любой другой импорт, а также использование встроенных функций. Если они вам нужны, заранее вставьте их в свой модуль."
   ]
  },
  {
   "cell_type": "markdown",
   "id": "b8e919fb",
   "metadata": {},
   "source": [
    "# imports"
   ]
  },
  {
   "cell_type": "code",
   "execution_count": 1,
   "id": "d2239086",
   "metadata": {},
   "outputs": [],
   "source": [
    "from movielens_analysis import *\n",
    "\n",
    "# https://stackoverflow.com/questions/5364050/reloading-submodules-in-ipython\n",
    "# import importlib\n",
    "# importlib.reload(movielens_analysis)"
   ]
  },
  {
   "cell_type": "markdown",
   "id": "a74bbd06",
   "metadata": {},
   "source": [
    "# Анализ Movies"
   ]
  },
  {
   "cell_type": "code",
   "execution_count": 2,
   "id": "5b9d59de",
   "metadata": {},
   "outputs": [
    {
     "name": "stdout",
     "output_type": "stream",
     "text": [
      "70.3 ms ± 2.37 ms per loop (mean ± std. dev. of 7 runs, 10 loops each)\n"
     ]
    }
   ],
   "source": [
    "%timeit movies = Movies('data/movies.csv')\n",
    "movies = Movies('data/movies.csv')"
   ]
  },
  {
   "cell_type": "markdown",
   "id": "f2ccecb0",
   "metadata": {},
   "source": [
    "##  Самые плодотворные года ов по выходу фильмов\n",
    "Посмотрим top-10 годов когда выходило больше всего фильмов"
   ]
  },
  {
   "cell_type": "code",
   "execution_count": 3,
   "id": "eec26a27",
   "metadata": {},
   "outputs": [
    {
     "name": "stdout",
     "output_type": "stream",
     "text": [
      "3.53 µs ± 144 ns per loop (mean ± std. dev. of 7 runs, 100000 loops each)\n"
     ]
    },
    {
     "data": {
      "text/plain": [
       "[('2002', 311),\n",
       " ('2006', 295),\n",
       " ('2001', 294),\n",
       " ('2007', 284),\n",
       " ('2000', 283),\n",
       " ('2009', 282),\n",
       " ('2003', 279),\n",
       " ('2004', 279),\n",
       " ('2014', 278),\n",
       " ('1996', 276)]"
      ]
     },
     "execution_count": 3,
     "metadata": {},
     "output_type": "execute_result"
    }
   ],
   "source": [
    "%timeit list(movies.dist_by_release().items())[:10]\n",
    "list(movies.dist_by_release().items())[:10]"
   ]
  },
  {
   "cell_type": "markdown",
   "id": "19be1eef",
   "metadata": {},
   "source": [
    "и когда выходило меньше всего фильмов:"
   ]
  },
  {
   "cell_type": "code",
   "execution_count": 4,
   "id": "5bf87a22",
   "metadata": {},
   "outputs": [
    {
     "name": "stdout",
     "output_type": "stream",
     "text": [
      "3.46 µs ± 115 ns per loop (mean ± std. dev. of 7 runs, 100000 loops each)\n"
     ]
    },
    {
     "data": {
      "text/plain": [
       "[('1916', 4),\n",
       " ('1920', 2),\n",
       " ('1922', 1),\n",
       " ('1919', 1),\n",
       " ('1921', 1),\n",
       " ('1915', 1),\n",
       " ('1917', 1),\n",
       " ('1902', 1),\n",
       " ('1903', 1),\n",
       " ('1908', 1)]"
      ]
     },
     "execution_count": 4,
     "metadata": {},
     "output_type": "execute_result"
    }
   ],
   "source": [
    "%timeit list(movies.dist_by_release().items())[-10::]\n",
    "list(movies.dist_by_release().items())[-10::]"
   ]
  },
  {
   "cell_type": "markdown",
   "id": "a9cdd18b",
   "metadata": {},
   "source": [
    "## Самые распространненные жанры"
   ]
  },
  {
   "cell_type": "markdown",
   "id": "f3afdf29",
   "metadata": {},
   "source": [
    "TOP-10 самых распространенных жанров"
   ]
  },
  {
   "cell_type": "code",
   "execution_count": 5,
   "id": "50098951",
   "metadata": {},
   "outputs": [
    {
     "name": "stdout",
     "output_type": "stream",
     "text": [
      "950 ns ± 20.9 ns per loop (mean ± std. dev. of 7 runs, 1000000 loops each)\n"
     ]
    },
    {
     "data": {
      "text/plain": [
       "[('Drama', 4361),\n",
       " ('Comedy', 3756),\n",
       " ('Thriller', 1894),\n",
       " ('Action', 1828),\n",
       " ('Romance', 1596),\n",
       " ('Adventure', 1263),\n",
       " ('Crime', 1199),\n",
       " ('Sci-Fi', 980),\n",
       " ('Horror', 978),\n",
       " ('Fantasy', 779)]"
      ]
     },
     "execution_count": 5,
     "metadata": {},
     "output_type": "execute_result"
    }
   ],
   "source": [
    "%timeit list(movies.dist_by_genres().items())[:10]\n",
    "list(movies.dist_by_genres().items())[:10]"
   ]
  },
  {
   "cell_type": "markdown",
   "id": "0206e7bd",
   "metadata": {},
   "source": [
    "## Фильмы, вышедшие в самом большом кол-ве жанров \n",
    "TOP-20"
   ]
  },
  {
   "cell_type": "code",
   "execution_count": 6,
   "id": "500dc742",
   "metadata": {},
   "outputs": [
    {
     "name": "stdout",
     "output_type": "stream",
     "text": [
      "522 µs ± 33.7 µs per loop (mean ± std. dev. of 7 runs, 1000 loops each)\n"
     ]
    },
    {
     "data": {
      "text/plain": [
       "{'Rubber': 10,\n",
       " 'Patlabor: The Movie (Kidô keisatsu patorebâ: The Movie)': 8,\n",
       " 'Mulan': 7,\n",
       " 'Who Framed Roger Rabbit?': 7,\n",
       " 'Osmosis Jones': 7,\n",
       " 'Interstate 60': 7,\n",
       " 'Robots': 7,\n",
       " 'Pulse': 7,\n",
       " 'Aqua Teen Hunger Force Colon Movie Film for Theaters': 7,\n",
       " 'Enchanted': 7,\n",
       " 'Aelita: The Queen of Mars (Aelita)': 7,\n",
       " 'Inception': 7,\n",
       " 'Tangled': 7,\n",
       " 'Mars Needs Moms': 7,\n",
       " 'Strange Days': 6,\n",
       " 'Lion King, The': 6,\n",
       " 'Super Mario Bros.': 6,\n",
       " 'All Dogs Go to Heaven 2': 6,\n",
       " 'Space Jam': 6,\n",
       " 'Aladdin and the King of Thieves': 6}"
      ]
     },
     "execution_count": 6,
     "metadata": {},
     "output_type": "execute_result"
    }
   ],
   "source": [
    "%timeit movies.most_genres(20)\n",
    "movies.most_genres(20)"
   ]
  },
  {
   "cell_type": "code",
   "execution_count": 7,
   "id": "db454f4c",
   "metadata": {},
   "outputs": [],
   "source": [
    "#%lsmagic"
   ]
  },
  {
   "cell_type": "markdown",
   "id": "556cafa0",
   "metadata": {},
   "source": [
    "# Анализ Ratings"
   ]
  },
  {
   "cell_type": "code",
   "execution_count": 8,
   "id": "83aedd93",
   "metadata": {},
   "outputs": [
    {
     "name": "stdout",
     "output_type": "stream",
     "text": [
      "925 ms ± 55.2 ms per loop (mean ± std. dev. of 7 runs, 1 loop each)\n"
     ]
    }
   ],
   "source": [
    "%timeit ratings = Ratings('data/ratings.csv')\n",
    "ratings = Ratings('data/ratings.csv')"
   ]
  },
  {
   "cell_type": "markdown",
   "id": "37be919b",
   "metadata": {},
   "source": [
    "## Распределение кол-ва оценок фильмов по годам, отсортированных по годам по возрастанию"
   ]
  },
  {
   "cell_type": "code",
   "execution_count": 9,
   "id": "b8be9327",
   "metadata": {},
   "outputs": [
    {
     "name": "stdout",
     "output_type": "stream",
     "text": [
      "156 ns ± 4.67 ns per loop (mean ± std. dev. of 7 runs, 10000000 loops each)\n"
     ]
    },
    {
     "data": {
      "text/plain": [
       "{1996: 6040,\n",
       " 1997: 1916,\n",
       " 1998: 507,\n",
       " 1999: 2439,\n",
       " 2000: 10061,\n",
       " 2001: 3922,\n",
       " 2002: 3478,\n",
       " 2003: 4014,\n",
       " 2004: 3279,\n",
       " 2005: 5813,\n",
       " 2006: 4059,\n",
       " 2007: 7114,\n",
       " 2008: 4351,\n",
       " 2009: 4158,\n",
       " 2010: 2301,\n",
       " 2011: 1690,\n",
       " 2012: 4656,\n",
       " 2013: 1664,\n",
       " 2014: 1439,\n",
       " 2015: 6616,\n",
       " 2016: 6703,\n",
       " 2017: 8198,\n",
       " 2018: 6418}"
      ]
     },
     "execution_count": 9,
     "metadata": {},
     "output_type": "execute_result"
    }
   ],
   "source": [
    "%timeit ratings.movies.dist_by_year()\n",
    "ratings.movies.dist_by_year()"
   ]
  },
  {
   "cell_type": "markdown",
   "id": "71621c30",
   "metadata": {},
   "source": [
    "## Распределение по кол-ва оценок фильмов по выставленному рейтингу"
   ]
  },
  {
   "cell_type": "code",
   "execution_count": 10,
   "id": "6b5f1078",
   "metadata": {},
   "outputs": [
    {
     "name": "stdout",
     "output_type": "stream",
     "text": [
      "154 ns ± 1.84 ns per loop (mean ± std. dev. of 7 runs, 10000000 loops each)\n"
     ]
    },
    {
     "data": {
      "text/plain": [
       "{0.5: 1370,\n",
       " 1.0: 2811,\n",
       " 1.5: 1791,\n",
       " 2.0: 7551,\n",
       " 2.5: 5550,\n",
       " 3.0: 20047,\n",
       " 3.5: 13136,\n",
       " 4.0: 26818,\n",
       " 4.5: 8551,\n",
       " 5.0: 13211}"
      ]
     },
     "execution_count": 10,
     "metadata": {},
     "output_type": "execute_result"
    }
   ],
   "source": [
    "%timeit ratings.movies.dist_by_rating()\n",
    "ratings.movies.dist_by_rating()"
   ]
  },
  {
   "cell_type": "markdown",
   "id": "70440a8f",
   "metadata": {},
   "source": [
    "## ТОП-20 id фильмов по количеству выставленных оценок "
   ]
  },
  {
   "cell_type": "code",
   "execution_count": 11,
   "id": "dc87cf1b",
   "metadata": {},
   "outputs": [
    {
     "name": "stdout",
     "output_type": "stream",
     "text": [
      "488 µs ± 8.85 µs per loop (mean ± std. dev. of 7 runs, 1000 loops each)\n"
     ]
    },
    {
     "data": {
      "text/plain": [
       "{356: 329,\n",
       " 318: 317,\n",
       " 296: 307,\n",
       " 593: 279,\n",
       " 2571: 278,\n",
       " 260: 251,\n",
       " 480: 238,\n",
       " 110: 237,\n",
       " 589: 224,\n",
       " 527: 220,\n",
       " 2959: 218,\n",
       " 1: 215,\n",
       " 1196: 211,\n",
       " 50: 204,\n",
       " 2858: 204,\n",
       " 47: 203,\n",
       " 780: 202,\n",
       " 150: 201,\n",
       " 1198: 200,\n",
       " 4993: 198}"
      ]
     },
     "execution_count": 11,
     "metadata": {},
     "output_type": "execute_result"
    }
   ],
   "source": [
    "%timeit ratings.movies.top_by_num_of_ratings(20)\n",
    "ratings.movies.top_by_num_of_ratings(20)"
   ]
  },
  {
   "cell_type": "code",
   "execution_count": 12,
   "id": "65f85fb9",
   "metadata": {},
   "outputs": [
    {
     "name": "stdout",
     "output_type": "stream",
     "text": [
      "494 µs ± 6.72 µs per loop (mean ± std. dev. of 7 runs, 1000 loops each)\n"
     ]
    },
    {
     "data": {
      "text/plain": [
       "[356,\n",
       " 318,\n",
       " 296,\n",
       " 593,\n",
       " 2571,\n",
       " 260,\n",
       " 480,\n",
       " 110,\n",
       " 589,\n",
       " 527,\n",
       " 2959,\n",
       " 1,\n",
       " 1196,\n",
       " 50,\n",
       " 2858,\n",
       " 47,\n",
       " 780,\n",
       " 150,\n",
       " 1198,\n",
       " 4993]"
      ]
     },
     "execution_count": 12,
     "metadata": {},
     "output_type": "execute_result"
    }
   ],
   "source": [
    "%timeit list_w_max_count_of_rating = ratings.movies.top_by_num_of_ratings(20).keys()\n",
    "list_w_max_count_of_rating = ratings.movies.top_by_num_of_ratings(20).keys()\n",
    "list_w_max_count_of_rating = list(list_w_max_count_of_rating)\n",
    "list_w_max_count_of_rating"
   ]
  },
  {
   "cell_type": "markdown",
   "id": "b019c823",
   "metadata": {},
   "source": [
    "## ТОП-20 id фильмов по средней оценке пользователей"
   ]
  },
  {
   "cell_type": "code",
   "execution_count": 13,
   "id": "f7529904",
   "metadata": {},
   "outputs": [
    {
     "name": "stdout",
     "output_type": "stream",
     "text": [
      "24.8 ms ± 804 µs per loop (mean ± std. dev. of 7 runs, 10 loops each)\n"
     ]
    },
    {
     "data": {
      "text/plain": [
       "{53: 5.0,\n",
       " 99: 5.0,\n",
       " 148: 5.0,\n",
       " 467: 5.0,\n",
       " 495: 5.0,\n",
       " 496: 5.0,\n",
       " 626: 5.0,\n",
       " 633: 5.0,\n",
       " 876: 5.0,\n",
       " 1140: 5.0,\n",
       " 1151: 5.0,\n",
       " 1310: 5.0,\n",
       " 1349: 5.0,\n",
       " 1631: 5.0,\n",
       " 1759: 5.0,\n",
       " 2075: 5.0,\n",
       " 2196: 5.0,\n",
       " 2512: 5.0,\n",
       " 2824: 5.0,\n",
       " 2969: 5.0}"
      ]
     },
     "execution_count": 13,
     "metadata": {},
     "output_type": "execute_result"
    }
   ],
   "source": [
    "%timeit ratings.movies.top_by_ratings(20)\n",
    "ratings.movies.top_by_ratings(20)"
   ]
  },
  {
   "cell_type": "markdown",
   "id": "bdd14c8f",
   "metadata": {},
   "source": [
    "## ТОП-20 id фильмов по медианной оценке пользователей"
   ]
  },
  {
   "cell_type": "code",
   "execution_count": 14,
   "id": "f4828275",
   "metadata": {},
   "outputs": [
    {
     "name": "stdout",
     "output_type": "stream",
     "text": [
      "25.3 ms ± 472 µs per loop (mean ± std. dev. of 7 runs, 10 loops each)\n"
     ]
    },
    {
     "data": {
      "text/plain": [
       "{53: 5.0,\n",
       " 85: 5.0,\n",
       " 99: 5.0,\n",
       " 148: 5.0,\n",
       " 467: 5.0,\n",
       " 495: 5.0,\n",
       " 496: 5.0,\n",
       " 626: 5.0,\n",
       " 633: 5.0,\n",
       " 876: 5.0,\n",
       " 1041: 5.0,\n",
       " 1105: 5.0,\n",
       " 1140: 5.0,\n",
       " 1151: 5.0,\n",
       " 1310: 5.0,\n",
       " 1349: 5.0,\n",
       " 1631: 5.0,\n",
       " 1759: 5.0,\n",
       " 2075: 5.0,\n",
       " 2196: 5.0}"
      ]
     },
     "execution_count": 14,
     "metadata": {},
     "output_type": "execute_result"
    }
   ],
   "source": [
    "%timeit ratings.movies.top_by_ratings(20, metric=median)\n",
    "ratings.movies.top_by_ratings(20, metric=median)"
   ]
  },
  {
   "cell_type": "markdown",
   "id": "43a88e7e",
   "metadata": {},
   "source": [
    "## ТОП-20 id фильмов по самым спорным оценкам (максимальная дисперсия)"
   ]
  },
  {
   "cell_type": "code",
   "execution_count": 15,
   "id": "0b9e07c0",
   "metadata": {},
   "outputs": [
    {
     "name": "stdout",
     "output_type": "stream",
     "text": [
      "50.7 ms ± 4.13 ms per loop (mean ± std. dev. of 7 runs, 10 loops each)\n"
     ]
    },
    {
     "data": {
      "text/plain": [
       "{2068: 5.06,\n",
       " 32892: 5.06,\n",
       " 70946: 4.5,\n",
       " 484: 4.0,\n",
       " 3223: 4.0,\n",
       " 7564: 4.0,\n",
       " 84847: 4.0,\n",
       " 26171: 3.72,\n",
       " 74754: 3.56,\n",
       " 2488: 3.5,\n",
       " 4794: 3.5,\n",
       " 90888: 3.39,\n",
       " 89118: 3.38,\n",
       " 101577: 3.38,\n",
       " 3837: 3.17,\n",
       " 25850: 3.17,\n",
       " 1999: 3.12,\n",
       " 6140: 3.06,\n",
       " 6994: 3.06,\n",
       " 8138: 3.06}"
      ]
     },
     "execution_count": 15,
     "metadata": {},
     "output_type": "execute_result"
    }
   ],
   "source": [
    "%timeit ratings.movies.top_controversial(20)\n",
    "ratings.movies.top_controversial(20)"
   ]
  },
  {
   "cell_type": "markdown",
   "id": "b98100c7",
   "metadata": {},
   "source": [
    "### ТОП-20 Распределение пользователей по количеству выставленных ими оценок"
   ]
  },
  {
   "cell_type": "code",
   "execution_count": 16,
   "id": "efcf5374",
   "metadata": {},
   "outputs": [
    {
     "name": "stdout",
     "output_type": "stream",
     "text": [
      "17.7 µs ± 413 ns per loop (mean ± std. dev. of 7 runs, 100000 loops each)\n"
     ]
    },
    {
     "data": {
      "text/plain": [
       "[(414, 2698),\n",
       " (599, 2478),\n",
       " (474, 2108),\n",
       " (448, 1864),\n",
       " (274, 1346),\n",
       " (610, 1302),\n",
       " (68, 1260),\n",
       " (380, 1218),\n",
       " (606, 1115),\n",
       " (288, 1055),\n",
       " (249, 1046),\n",
       " (387, 1027),\n",
       " (182, 977),\n",
       " (307, 975),\n",
       " (603, 943),\n",
       " (298, 939),\n",
       " (177, 904),\n",
       " (318, 879),\n",
       " (232, 862),\n",
       " (480, 836)]"
      ]
     },
     "execution_count": 16,
     "metadata": {},
     "output_type": "execute_result"
    }
   ],
   "source": [
    "%timeit list(ratings.users.dist_by_users().items())[:20]\n",
    "list(ratings.users.dist_by_users().items())[:20]"
   ]
  },
  {
   "cell_type": "markdown",
   "id": "a1f03d5b",
   "metadata": {},
   "source": [
    "### ТОП-20 пользователей по максимальным средним оценкам, сделанным ими"
   ]
  },
  {
   "cell_type": "code",
   "execution_count": 17,
   "id": "aec5e2e5",
   "metadata": {},
   "outputs": [
    {
     "name": "stdout",
     "output_type": "stream",
     "text": [
      "2.59 ms ± 83.9 µs per loop (mean ± std. dev. of 7 runs, 100 loops each)\n"
     ]
    },
    {
     "data": {
      "text/plain": [
       "[(53, 5.0),\n",
       " (251, 4.87),\n",
       " (515, 4.85),\n",
       " (25, 4.81),\n",
       " (30, 4.74),\n",
       " (523, 4.69),\n",
       " (348, 4.67),\n",
       " (171, 4.63),\n",
       " (452, 4.56),\n",
       " (43, 4.55),\n",
       " (122, 4.55),\n",
       " (371, 4.55),\n",
       " (441, 4.52),\n",
       " (400, 4.51),\n",
       " (52, 4.48),\n",
       " (538, 4.47),\n",
       " (168, 4.46),\n",
       " (417, 4.46),\n",
       " (543, 4.45),\n",
       " (106, 4.44)]"
      ]
     },
     "execution_count": 17,
     "metadata": {},
     "output_type": "execute_result"
    }
   ],
   "source": [
    "%timeit list(ratings.users.dist_by_metric().items())[:20]\n",
    "list(ratings.users.dist_by_metric().items())[:20]"
   ]
  },
  {
   "cell_type": "markdown",
   "id": "1a42c365",
   "metadata": {},
   "source": [
    "### ТОП-20 распределение пользователей по максимальным медианным оценкам, сделанным ими"
   ]
  },
  {
   "cell_type": "code",
   "execution_count": 18,
   "id": "d0055e7e",
   "metadata": {},
   "outputs": [
    {
     "name": "stdout",
     "output_type": "stream",
     "text": [
      "2.93 ms ± 107 µs per loop (mean ± std. dev. of 7 runs, 100 loops each)\n"
     ]
    },
    {
     "data": {
      "text/plain": [
       "[(1, 5.0),\n",
       " (25, 5.0),\n",
       " (30, 5.0),\n",
       " (43, 5.0),\n",
       " (52, 5.0),\n",
       " (53, 5.0),\n",
       " (59, 5.0),\n",
       " (69, 5.0),\n",
       " (77, 5.0),\n",
       " (106, 5.0),\n",
       " (154, 5.0),\n",
       " (164, 5.0),\n",
       " (171, 5.0),\n",
       " (188, 5.0),\n",
       " (224, 5.0),\n",
       " (236, 5.0),\n",
       " (251, 5.0),\n",
       " (258, 5.0),\n",
       " (267, 5.0),\n",
       " (276, 5.0)]"
      ]
     },
     "execution_count": 18,
     "metadata": {},
     "output_type": "execute_result"
    }
   ],
   "source": [
    "%timeit list(ratings.users.dist_by_metric(metric=median).items())[:20]\n",
    "list(ratings.users.dist_by_metric(metric=median).items())[:20]"
   ]
  },
  {
   "cell_type": "markdown",
   "id": "fc60fa64",
   "metadata": {},
   "source": [
    "### ТОП-20 распределение пользователей по дисперации (разбросу оценок)"
   ]
  },
  {
   "cell_type": "code",
   "execution_count": 19,
   "id": "e043ae0c",
   "metadata": {},
   "outputs": [
    {
     "name": "stdout",
     "output_type": "stream",
     "text": [
      "16.9 ms ± 485 µs per loop (mean ± std. dev. of 7 runs, 100 loops each)\n"
     ]
    },
    {
     "data": {
      "text/plain": [
       "{3: 4.26,\n",
       " 461: 3.1,\n",
       " 55: 3.09,\n",
       " 259: 2.94,\n",
       " 329: 2.92,\n",
       " 502: 2.76,\n",
       " 175: 2.75,\n",
       " 598: 2.7,\n",
       " 393: 2.61,\n",
       " 138: 2.44,\n",
       " 160: 2.39,\n",
       " 22: 2.36,\n",
       " 418: 2.25,\n",
       " 308: 2.23,\n",
       " 360: 2.23,\n",
       " 287: 2.21,\n",
       " 255: 2.2,\n",
       " 338: 2.18,\n",
       " 295: 2.16,\n",
       " 535: 2.16}"
      ]
     },
     "execution_count": 19,
     "metadata": {},
     "output_type": "execute_result"
    }
   ],
   "source": [
    "%timeit ratings.users.top_controversial(20)\n",
    "ratings.users.top_controversial(20)"
   ]
  },
  {
   "cell_type": "markdown",
   "id": "9918937d",
   "metadata": {},
   "source": [
    "# Анализ Tags "
   ]
  },
  {
   "cell_type": "code",
   "execution_count": 20,
   "id": "f0bfcb0e",
   "metadata": {},
   "outputs": [
    {
     "name": "stdout",
     "output_type": "stream",
     "text": [
      "10.5 ms ± 360 µs per loop (mean ± std. dev. of 7 runs, 100 loops each)\n"
     ]
    }
   ],
   "source": [
    "%timeit tags = Tags('data/tags.csv')\n",
    "tags = Tags('data/tags.csv')"
   ]
  },
  {
   "cell_type": "markdown",
   "id": "0c56a321",
   "metadata": {},
   "source": [
    "## Top-10 тегов, в которых больше всего слов"
   ]
  },
  {
   "cell_type": "code",
   "execution_count": 21,
   "id": "02ddfdc2",
   "metadata": {},
   "outputs": [
    {
     "name": "stdout",
     "output_type": "stream",
     "text": [
      "634 µs ± 37.7 µs per loop (mean ± std. dev. of 7 runs, 1000 loops each)\n"
     ]
    },
    {
     "data": {
      "text/plain": [
       "{'something for everyone in this one... saw it without and plan on seeing it with kids!': 16,\n",
       " 'the catholic church is the most corrupt organization in history': 10,\n",
       " 'villain nonexistent or not needed for good story': 8,\n",
       " '06 oscar nominated best movie - animation': 7,\n",
       " 'it was melodramatic and kind of dumb': 7,\n",
       " 'oscar (best music - original score)': 6,\n",
       " 'stop using useless characters for filler': 6,\n",
       " 'oscar (best effects - visual effects)': 6,\n",
       " 'everything you want is here': 5,\n",
       " 'based on a true story': 5}"
      ]
     },
     "execution_count": 21,
     "metadata": {},
     "output_type": "execute_result"
    }
   ],
   "source": [
    "%timeit tags.most_words(10)\n",
    "tags.most_words(10)"
   ]
  },
  {
   "cell_type": "markdown",
   "id": "a1bb59d8",
   "metadata": {},
   "source": [
    "## Топ-20 самых длинных тегов по количеству символов"
   ]
  },
  {
   "cell_type": "code",
   "execution_count": 22,
   "id": "b2ddfb67",
   "metadata": {},
   "outputs": [
    {
     "name": "stdout",
     "output_type": "stream",
     "text": [
      "940 µs ± 60 µs per loop (mean ± std. dev. of 7 runs, 1000 loops each)\n"
     ]
    },
    {
     "data": {
      "text/plain": [
       "['something for everyone in this one... saw it without and plan on seeing it with kids!',\n",
       " 'the catholic church is the most corrupt organization in history',\n",
       " 'villain nonexistent or not needed for good story',\n",
       " 'r:disturbing violent content including rape',\n",
       " '06 oscar nominated best movie - animation',\n",
       " 'stop using useless characters for filler',\n",
       " 'academy award (best supporting actress)',\n",
       " 'oscar (best effects - visual effects)',\n",
       " 'audience intelligence underestimated',\n",
       " 'it was melodramatic and kind of dumb',\n",
       " 'r:sustained strong stylized violence',\n",
       " 'oscar (best music - original score)',\n",
       " 'start of a beautiful friendship',\n",
       " 'oscar (best supporting actress)',\n",
       " 'assassin-in-training (scene)',\n",
       " 'oscar (best cinematography)',\n",
       " 'everything you want is here',\n",
       " 'political right versus left',\n",
       " 'avant-garde romantic comedy',\n",
       " 'r:disturbing violent images']"
      ]
     },
     "execution_count": 22,
     "metadata": {},
     "output_type": "execute_result"
    }
   ],
   "source": [
    "%timeit tags.longest(20)\n",
    "tags.longest(20)"
   ]
  },
  {
   "cell_type": "markdown",
   "id": "65ee474e",
   "metadata": {},
   "source": [
    "## ТОП-20 пересечение между тегами с большинством слов внутри и самых длинных тегов по количеству символов"
   ]
  },
  {
   "cell_type": "code",
   "execution_count": 23,
   "id": "c2b99163",
   "metadata": {},
   "outputs": [
    {
     "name": "stdout",
     "output_type": "stream",
     "text": [
      "1.72 ms ± 74.6 µs per loop (mean ± std. dev. of 7 runs, 1000 loops each)\n"
     ]
    },
    {
     "data": {
      "text/plain": [
       "['something for everyone in this one... saw it without and plan on seeing it with kids!',\n",
       " 'the catholic church is the most corrupt organization in history',\n",
       " 'villain nonexistent or not needed for good story',\n",
       " '06 oscar nominated best movie - animation',\n",
       " 'it was melodramatic and kind of dumb',\n",
       " 'oscar (best music - original score)',\n",
       " 'stop using useless characters for filler',\n",
       " 'oscar (best effects - visual effects)',\n",
       " 'everything you want is here',\n",
       " 'start of a beautiful friendship',\n",
       " 'academy award (best supporting actress)',\n",
       " 'r:disturbing violent content including rape']"
      ]
     },
     "execution_count": 23,
     "metadata": {},
     "output_type": "execute_result"
    }
   ],
   "source": [
    "%timeit tags.most_words_and_longest(20)\n",
    "tags.most_words_and_longest(20)"
   ]
  },
  {
   "cell_type": "markdown",
   "id": "be8f512f",
   "metadata": {},
   "source": [
    "## ТОП-20 самых популярных тегов"
   ]
  },
  {
   "cell_type": "code",
   "execution_count": 24,
   "id": "3426cd2c",
   "metadata": {},
   "outputs": [
    {
     "name": "stdout",
     "output_type": "stream",
     "text": [
      "555 µs ± 27.8 µs per loop (mean ± std. dev. of 7 runs, 1000 loops each)\n"
     ]
    },
    {
     "data": {
      "text/plain": [
       "{'in netflix queue': 131,\n",
       " 'atmospheric': 41,\n",
       " 'funny': 24,\n",
       " 'superhero': 24,\n",
       " 'surreal': 24,\n",
       " 'thought-provoking': 24,\n",
       " 'sci-fi': 23,\n",
       " 'disney': 23,\n",
       " 'quirky': 22,\n",
       " 'religion': 22,\n",
       " 'dark comedy': 21,\n",
       " 'suspense': 21,\n",
       " 'psychology': 21,\n",
       " 'twist ending': 20,\n",
       " 'visually appealing': 20,\n",
       " 'comedy': 19,\n",
       " 'politics': 19,\n",
       " 'crime': 19,\n",
       " 'music': 17,\n",
       " 'dark': 16}"
      ]
     },
     "execution_count": 24,
     "metadata": {},
     "output_type": "execute_result"
    }
   ],
   "source": [
    "%timeit tags.most_popular(20)\n",
    "tags.most_popular(20)"
   ]
  },
  {
   "cell_type": "markdown",
   "id": "3ed03ee2",
   "metadata": {},
   "source": [
    "## Все уникальные теги, которые включают слово"
   ]
  },
  {
   "cell_type": "code",
   "execution_count": 33,
   "id": "b1117d94",
   "metadata": {},
   "outputs": [
    {
     "name": "stdout",
     "output_type": "stream",
     "text": [
      "200 µs ± 4.07 µs per loop (mean ± std. dev. of 7 runs, 1000 loops each)\n"
     ]
    },
    {
     "data": {
      "text/plain": [
       "['stupid but funny', 'not funny', 'very funny', 'funny']"
      ]
     },
     "execution_count": 33,
     "metadata": {},
     "output_type": "execute_result"
    }
   ],
   "source": [
    "%timeit tags.tags_with('funny')\n",
    "tags.tags_with('funny')"
   ]
  },
  {
   "cell_type": "markdown",
   "id": "c7d826b4",
   "metadata": {},
   "source": [
    "# Анализ Links:\n"
   ]
  },
  {
   "cell_type": "code",
   "execution_count": 26,
   "id": "6fdcfe17",
   "metadata": {},
   "outputs": [
    {
     "name": "stdout",
     "output_type": "stream",
     "text": [
      "1.14 µs ± 23.1 ns per loop (mean ± std. dev. of 7 runs, 1000000 loops each)\n"
     ]
    }
   ],
   "source": [
    "%timeit links = Links('data/links.csv')\n",
    "links = Links('data/links.csv')"
   ]
  },
  {
   "cell_type": "markdown",
   "id": "1f3c4eb3",
   "metadata": {},
   "source": [
    "## Запросим id самых оцениваемых фильмов"
   ]
  },
  {
   "cell_type": "code",
   "execution_count": 27,
   "id": "d8671c5a",
   "metadata": {},
   "outputs": [
    {
     "name": "stdout",
     "output_type": "stream",
     "text": [
      "23.5 s ± 1.13 s per loop (mean ± std. dev. of 7 runs, 1 loop each)\n"
     ]
    },
    {
     "data": {
      "text/plain": [
       "[[1,\n",
       "  'История игрушек',\n",
       "  'John Lasseter',\n",
       "  '$30,000,000 (estimated)',\n",
       "  '$394,436,586',\n",
       "  '1 hour 21 minutes'],\n",
       " [47,\n",
       "  'Семь',\n",
       "  'David Fincher',\n",
       "  '$33,000,000 (estimated)',\n",
       "  '$327,333,559',\n",
       "  '2 hours 7 minutes'],\n",
       " [50,\n",
       "  'Подозрительные лица',\n",
       "  'Bryan Singer',\n",
       "  '$6,000,000 (estimated)',\n",
       "  '$23,341,568',\n",
       "  '1 hour 46 minutes'],\n",
       " [110,\n",
       "  'Храброе сердце',\n",
       "  'Mel Gibson',\n",
       "  '$72,000,000 (estimated)',\n",
       "  '$213,216,216',\n",
       "  '2 hours 58 minutes'],\n",
       " [150,\n",
       "  'Аполлон 13',\n",
       "  'Ron Howard',\n",
       "  '$52,000,000 (estimated)',\n",
       "  '$355,237,933',\n",
       "  '2 hours 20 minutes'],\n",
       " [260,\n",
       "  'Звёздные войны. Эпизод 4: Новая надежда',\n",
       "  'George Lucas',\n",
       "  '$11,000,000 (estimated)',\n",
       "  '$775,398,007',\n",
       "  '2 hours 1 minute'],\n",
       " [296,\n",
       "  'Криминальное чтиво',\n",
       "  'Quentin Tarantino',\n",
       "  '$8,000,000 (estimated)',\n",
       "  '$213,928,762',\n",
       "  '2 hours 34 minutes'],\n",
       " [318,\n",
       "  'Побег из Шоушенка',\n",
       "  'Frank Darabont',\n",
       "  '$25,000,000 (estimated)',\n",
       "  '$28,817,291',\n",
       "  '2 hours 22 minutes'],\n",
       " [356,\n",
       "  'Форрест Гамп',\n",
       "  'Robert Zemeckis',\n",
       "  '$55,000,000 (estimated)',\n",
       "  '$678,226,133',\n",
       "  '2 hours 22 minutes'],\n",
       " [480,\n",
       "  'Парк юрского периода',\n",
       "  'Steven Spielberg',\n",
       "  '$63,000,000 (estimated)',\n",
       "  '$1,033,928,303',\n",
       "  '2 hours 7 minutes'],\n",
       " [527,\n",
       "  'Список Шиндлера',\n",
       "  'Steven Spielberg',\n",
       "  '$22,000,000 (estimated)',\n",
       "  '$322,161,245',\n",
       "  '3 hours 15 minutes'],\n",
       " [589,\n",
       "  'Терминатор 2: Судный день',\n",
       "  'James Cameron',\n",
       "  '$102,000,000 (estimated)',\n",
       "  '$520,881,154',\n",
       "  '2 hours 17 minutes'],\n",
       " [593,\n",
       "  'Молчание ягнят',\n",
       "  'Jonathan Demme',\n",
       "  '$19,000,000 (estimated)',\n",
       "  '$272,742,922',\n",
       "  '1 hour 58 minutes'],\n",
       " [780,\n",
       "  'День независимости',\n",
       "  'Roland Emmerich',\n",
       "  '$75,000,000 (estimated)',\n",
       "  '$817,400,891',\n",
       "  '2 hours 25 minutes'],\n",
       " [1196,\n",
       "  'Звёздные войны. Эпизод 5: Империя наносит ответный удар',\n",
       "  'Irvin Kershner',\n",
       "  '$18,000,000 (estimated)',\n",
       "  '$538,375,067',\n",
       "  '2 hours 4 minutes'],\n",
       " [1198,\n",
       "  'Индиана Джонс: В поисках утраченного ковчега',\n",
       "  'Steven Spielberg',\n",
       "  '$18,000,000 (estimated)',\n",
       "  '$389,925,971',\n",
       "  '1 hour 55 minutes'],\n",
       " [2571,\n",
       "  'Матрица',\n",
       "  'Lana Wachowski',\n",
       "  '$63,000,000 (estimated)',\n",
       "  '$466,364,845',\n",
       "  '2 hours 16 minutes'],\n",
       " [2858,\n",
       "  'Красота по-американски',\n",
       "  'Sam Mendes',\n",
       "  '$15,000,000 (estimated)',\n",
       "  '$356,296,601',\n",
       "  '2 hours 2 minutes'],\n",
       " [2959,\n",
       "  'Бойцовский клуб',\n",
       "  'David Fincher',\n",
       "  '$63,000,000 (estimated)',\n",
       "  '$101,209,702',\n",
       "  '2 hours 19 minutes'],\n",
       " [4993,\n",
       "  'Властелин колец: Братство кольца',\n",
       "  'Peter Jackson',\n",
       "  '$93,000,000 (estimated)',\n",
       "  '$897,690,072',\n",
       "  '2 hours 58 minutes']]"
      ]
     },
     "execution_count": 27,
     "metadata": {},
     "output_type": "execute_result"
    }
   ],
   "source": [
    "%timeit links.get_imdb(list_w_max_count_of_rating)\n",
    "links.get_imdb(list_w_max_count_of_rating)"
   ]
  },
  {
   "cell_type": "markdown",
   "id": "8b8e8e47",
   "metadata": {},
   "source": [
    "## Получим директоров по ним "
   ]
  },
  {
   "cell_type": "code",
   "execution_count": 28,
   "id": "dcb39308",
   "metadata": {},
   "outputs": [
    {
     "name": "stdout",
     "output_type": "stream",
     "text": [
      "11.5 µs ± 269 ns per loop (mean ± std. dev. of 7 runs, 100000 loops each)\n"
     ]
    },
    {
     "data": {
      "text/plain": [
       "{'Steven Spielberg': 3,\n",
       " 'David Fincher': 2,\n",
       " 'John Lasseter': 1,\n",
       " 'Bryan Singer': 1,\n",
       " 'Mel Gibson': 1,\n",
       " 'Ron Howard': 1,\n",
       " 'George Lucas': 1,\n",
       " 'Quentin Tarantino': 1,\n",
       " 'Frank Darabont': 1,\n",
       " 'Robert Zemeckis': 1,\n",
       " 'James Cameron': 1,\n",
       " 'Jonathan Demme': 1,\n",
       " 'Roland Emmerich': 1,\n",
       " 'Irvin Kershner': 1,\n",
       " 'Lana Wachowski': 1,\n",
       " 'Sam Mendes': 1,\n",
       " 'Peter Jackson': 1}"
      ]
     },
     "execution_count": 28,
     "metadata": {},
     "output_type": "execute_result"
    }
   ],
   "source": [
    "%timeit links.top_directors(20)\n",
    "links.top_directors(20)"
   ]
  },
  {
   "cell_type": "markdown",
   "id": "4b9cea2d",
   "metadata": {},
   "source": [
    "##  Данные по бюджету"
   ]
  },
  {
   "cell_type": "code",
   "execution_count": 29,
   "id": "ca19c607",
   "metadata": {},
   "outputs": [
    {
     "name": "stdout",
     "output_type": "stream",
     "text": [
      "64.6 µs ± 10.1 µs per loop (mean ± std. dev. of 7 runs, 10000 loops each)\n"
     ]
    },
    {
     "data": {
      "text/plain": [
       "{'Терминатор 2: Судный день': 102000000.0,\n",
       " 'Властелин колец: Братство кольца': 93000000.0,\n",
       " 'День независимости': 75000000.0,\n",
       " 'Храброе сердце': 72000000.0,\n",
       " 'Парк юрского периода': 63000000.0,\n",
       " 'Матрица': 63000000.0,\n",
       " 'Бойцовский клуб': 63000000.0,\n",
       " 'Форрест Гамп': 55000000.0,\n",
       " 'Аполлон 13': 52000000.0,\n",
       " 'Семь': 33000000.0,\n",
       " 'История игрушек': 30000000.0,\n",
       " 'Побег из Шоушенка': 25000000.0,\n",
       " 'Список Шиндлера': 22000000.0,\n",
       " 'Молчание ягнят': 19000000.0,\n",
       " 'Звёздные войны. Эпизод 5: Империя наносит ответный удар': 18000000.0,\n",
       " 'Индиана Джонс: В поисках утраченного ковчега': 18000000.0,\n",
       " 'Красота по-американски': 15000000.0,\n",
       " 'Звёздные войны. Эпизод 4: Новая надежда': 11000000.0,\n",
       " 'Криминальное чтиво': 8000000.0,\n",
       " 'Подозрительные лица': 6000000.0}"
      ]
     },
     "execution_count": 29,
     "metadata": {},
     "output_type": "execute_result"
    }
   ],
   "source": [
    "%timeit links.most_expensive(20)\n",
    "links.most_expensive(20)"
   ]
  },
  {
   "cell_type": "markdown",
   "id": "dc54f451",
   "metadata": {},
   "source": [
    "## Данные по доходности (выручка - затраты)"
   ]
  },
  {
   "cell_type": "code",
   "execution_count": 30,
   "id": "f87c000b",
   "metadata": {},
   "outputs": [
    {
     "name": "stdout",
     "output_type": "stream",
     "text": [
      "90.5 µs ± 2.65 µs per loop (mean ± std. dev. of 7 runs, 10000 loops each)\n"
     ]
    },
    {
     "data": {
      "text/plain": [
       "{'Парк юрского периода': 970928303.0,\n",
       " 'Властелин колец: Братство кольца': 804690072.0,\n",
       " 'Звёздные войны. Эпизод 4: Новая надежда': 764398007.0,\n",
       " 'День независимости': 742400891.0,\n",
       " 'Форрест Гамп': 623226133.0,\n",
       " 'Звёздные войны. Эпизод 5: Империя наносит ответный удар': 520375067.0,\n",
       " 'Терминатор 2: Судный день': 418881154.0,\n",
       " 'Матрица': 403364845.0,\n",
       " 'Индиана Джонс: В поисках утраченного ковчега': 371925971.0,\n",
       " 'История игрушек': 364436586.0,\n",
       " 'Красота по-американски': 341296601.0,\n",
       " 'Аполлон 13': 303237933.0,\n",
       " 'Список Шиндлера': 300161245.0,\n",
       " 'Семь': 294333559.0,\n",
       " 'Молчание ягнят': 253742922.0,\n",
       " 'Криминальное чтиво': 205928762.0,\n",
       " 'Храброе сердце': 141216216.0,\n",
       " 'Бойцовский клуб': 38209702.0,\n",
       " 'Подозрительные лица': 17341568.0,\n",
       " 'Побег из Шоушенка': 3817291.0}"
      ]
     },
     "execution_count": 30,
     "metadata": {},
     "output_type": "execute_result"
    }
   ],
   "source": [
    "%timeit links.most_profitable(20)\n",
    "links.most_profitable(20)"
   ]
  },
  {
   "cell_type": "markdown",
   "id": "1550906d",
   "metadata": {},
   "source": [
    "## Данные по времени в прокате"
   ]
  },
  {
   "cell_type": "code",
   "execution_count": 31,
   "id": "5df33884",
   "metadata": {},
   "outputs": [
    {
     "name": "stdout",
     "output_type": "stream",
     "text": [
      "26.1 µs ± 1.31 µs per loop (mean ± std. dev. of 7 runs, 10000 loops each)\n"
     ]
    },
    {
     "data": {
      "text/plain": [
       "{'Список Шиндлера': datetime.time(3, 15),\n",
       " 'Храброе сердце': datetime.time(2, 58),\n",
       " 'Властелин колец: Братство кольца': datetime.time(2, 58),\n",
       " 'Криминальное чтиво': datetime.time(2, 34),\n",
       " 'День независимости': datetime.time(2, 25),\n",
       " 'Побег из Шоушенка': datetime.time(2, 22),\n",
       " 'Форрест Гамп': datetime.time(2, 22),\n",
       " 'Аполлон 13': datetime.time(2, 20),\n",
       " 'Бойцовский клуб': datetime.time(2, 19),\n",
       " 'Терминатор 2: Судный день': datetime.time(2, 17),\n",
       " 'Матрица': datetime.time(2, 16),\n",
       " 'Семь': datetime.time(2, 7),\n",
       " 'Парк юрского периода': datetime.time(2, 7),\n",
       " 'Звёздные войны. Эпизод 5: Империя наносит ответный удар': datetime.time(2, 4),\n",
       " 'Красота по-американски': datetime.time(2, 2),\n",
       " 'Звёздные войны. Эпизод 4: Новая надежда': datetime.time(2, 1),\n",
       " 'Молчание ягнят': datetime.time(1, 58),\n",
       " 'Индиана Джонс: В поисках утраченного ковчега': datetime.time(1, 55),\n",
       " 'Подозрительные лица': datetime.time(1, 46),\n",
       " 'История игрушек': datetime.time(1, 21)}"
      ]
     },
     "execution_count": 31,
     "metadata": {},
     "output_type": "execute_result"
    }
   ],
   "source": [
    "%timeit links.longest(20)\n",
    "links.longest(20)"
   ]
  },
  {
   "cell_type": "markdown",
   "id": "a38fe599",
   "metadata": {},
   "source": [
    "## Затраты на минуту фильма"
   ]
  },
  {
   "cell_type": "code",
   "execution_count": 32,
   "id": "ddd766b5",
   "metadata": {},
   "outputs": [
    {
     "name": "stdout",
     "output_type": "stream",
     "text": [
      "85.2 µs ± 6.37 µs per loop (mean ± std. dev. of 7 runs, 10000 loops each)\n"
     ]
    },
    {
     "data": {
      "text/plain": [
       "{'Терминатор 2: Судный день': 744525.55,\n",
       " 'Властелин колец: Братство кольца': 522471.91,\n",
       " 'День независимости': 517241.38,\n",
       " 'Парк юрского периода': 496062.99,\n",
       " 'Матрица': 463235.29,\n",
       " 'Бойцовский клуб': 453237.41,\n",
       " 'Храброе сердце': 404494.38,\n",
       " 'Форрест Гамп': 387323.94,\n",
       " 'Аполлон 13': 371428.57,\n",
       " 'История игрушек': 370370.37,\n",
       " 'Семь': 259842.52,\n",
       " 'Побег из Шоушенка': 176056.34,\n",
       " 'Молчание ягнят': 161016.95,\n",
       " 'Индиана Джонс: В поисках утраченного ковчега': 156521.74,\n",
       " 'Звёздные войны. Эпизод 5: Империя наносит ответный удар': 145161.29,\n",
       " 'Красота по-американски': 122950.82,\n",
       " 'Список Шиндлера': 112820.51,\n",
       " 'Звёздные войны. Эпизод 4: Новая надежда': 90909.09,\n",
       " 'Подозрительные лица': 56603.77,\n",
       " 'Криминальное чтиво': 51948.05}"
      ]
     },
     "execution_count": 32,
     "metadata": {},
     "output_type": "execute_result"
    }
   ],
   "source": [
    "%timeit links.top_cost_per_minute(20)\n",
    "links.top_cost_per_minute(20)"
   ]
  },
  {
   "cell_type": "code",
   "execution_count": null,
   "id": "d0237859",
   "metadata": {},
   "outputs": [],
   "source": []
  }
 ],
 "metadata": {
  "kernelspec": {
   "display_name": "Python 3 (ipykernel)",
   "language": "python",
   "name": "python3"
  },
  "language_info": {
   "codemirror_mode": {
    "name": "ipython",
    "version": 3
   },
   "file_extension": ".py",
   "mimetype": "text/x-python",
   "name": "python",
   "nbconvert_exporter": "python",
   "pygments_lexer": "ipython3",
   "version": "3.9.7"
  }
 },
 "nbformat": 4,
 "nbformat_minor": 5
}
