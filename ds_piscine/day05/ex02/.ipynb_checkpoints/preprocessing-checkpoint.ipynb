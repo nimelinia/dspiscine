{
 "cells": [
  {
   "cell_type": "code",
   "execution_count": 1,
   "id": "4cbc7bca-db04-4eea-b6cf-4760c126a857",
   "metadata": {},
   "outputs": [],
   "source": [
    "import pandas as pd"
   ]
  },
  {
   "cell_type": "markdown",
   "id": "14cdb9ca-7035-4421-8d56-c7b7e3fa9fc1",
   "metadata": {},
   "source": [
    "<h2><center>Создание dataframe</center></h2>"
   ]
  },
  {
   "cell_type": "code",
   "execution_count": 2,
   "id": "c88ca1f0-798e-4eef-bdb5-96874fe42244",
   "metadata": {},
   "outputs": [],
   "source": [
    "df = pd.read_csv('../data/auto.csv', index_col='ID')"
   ]
  },
  {
   "cell_type": "code",
   "execution_count": 3,
   "id": "d02d0283-f604-4a7a-9cc2-4558ebdc53e4",
   "metadata": {},
   "outputs": [
    {
     "data": {
      "text/html": [
       "<div>\n",
       "<style scoped>\n",
       "    .dataframe tbody tr th:only-of-type {\n",
       "        vertical-align: middle;\n",
       "    }\n",
       "\n",
       "    .dataframe tbody tr th {\n",
       "        vertical-align: top;\n",
       "    }\n",
       "\n",
       "    .dataframe thead th {\n",
       "        text-align: right;\n",
       "    }\n",
       "</style>\n",
       "<table border=\"1\" class=\"dataframe\">\n",
       "  <thead>\n",
       "    <tr style=\"text-align: right;\">\n",
       "      <th></th>\n",
       "      <th>CarNumber</th>\n",
       "      <th>Make_n_model</th>\n",
       "      <th>Refund</th>\n",
       "      <th>Fines</th>\n",
       "      <th>History</th>\n",
       "    </tr>\n",
       "    <tr>\n",
       "      <th>ID</th>\n",
       "      <th></th>\n",
       "      <th></th>\n",
       "      <th></th>\n",
       "      <th></th>\n",
       "      <th></th>\n",
       "    </tr>\n",
       "  </thead>\n",
       "  <tbody>\n",
       "    <tr>\n",
       "      <th>0</th>\n",
       "      <td>Y163O8161RUS</td>\n",
       "      <td>Ford Focus</td>\n",
       "      <td>2.0</td>\n",
       "      <td>3200.0</td>\n",
       "      <td>NaN</td>\n",
       "    </tr>\n",
       "    <tr>\n",
       "      <th>1</th>\n",
       "      <td>E432XX77RUS</td>\n",
       "      <td>Toyota Camry</td>\n",
       "      <td>1.0</td>\n",
       "      <td>6500.0</td>\n",
       "      <td>NaN</td>\n",
       "    </tr>\n",
       "    <tr>\n",
       "      <th>2</th>\n",
       "      <td>7184TT36RUS</td>\n",
       "      <td>Ford Focus</td>\n",
       "      <td>1.0</td>\n",
       "      <td>2100.0</td>\n",
       "      <td>NaN</td>\n",
       "    </tr>\n",
       "    <tr>\n",
       "      <th>3</th>\n",
       "      <td>X582HE161RUS</td>\n",
       "      <td>Ford Focus</td>\n",
       "      <td>2.0</td>\n",
       "      <td>2000.0</td>\n",
       "      <td>NaN</td>\n",
       "    </tr>\n",
       "    <tr>\n",
       "      <th>4</th>\n",
       "      <td>E34877152RUS</td>\n",
       "      <td>Ford Focus</td>\n",
       "      <td>2.0</td>\n",
       "      <td>6100.0</td>\n",
       "      <td>NaN</td>\n",
       "    </tr>\n",
       "  </tbody>\n",
       "</table>\n",
       "</div>"
      ],
      "text/plain": [
       "       CarNumber  Make_n_model  Refund   Fines  History\n",
       "ID                                                     \n",
       "0   Y163O8161RUS    Ford Focus     2.0  3200.0      NaN\n",
       "1    E432XX77RUS  Toyota Camry     1.0  6500.0      NaN\n",
       "2    7184TT36RUS    Ford Focus     1.0  2100.0      NaN\n",
       "3   X582HE161RUS    Ford Focus     2.0  2000.0      NaN\n",
       "4   E34877152RUS    Ford Focus     2.0  6100.0      NaN"
      ]
     },
     "execution_count": 3,
     "metadata": {},
     "output_type": "execute_result"
    }
   ],
   "source": [
    "df.head()"
   ]
  },
  {
   "cell_type": "code",
   "execution_count": 4,
   "id": "e7fc72b7-f4af-4c19-b209-600b8182b8ee",
   "metadata": {},
   "outputs": [
    {
     "data": {
      "text/plain": [
       "CarNumber       931\n",
       "Make_n_model    931\n",
       "Refund          914\n",
       "Fines           869\n",
       "History          82\n",
       "dtype: int64"
      ]
     },
     "execution_count": 4,
     "metadata": {},
     "output_type": "execute_result"
    }
   ],
   "source": [
    "df.count()"
   ]
  },
  {
   "cell_type": "code",
   "execution_count": 5,
   "id": "752c2785-b798-476b-9774-15bb757ecda7",
   "metadata": {},
   "outputs": [],
   "source": [
    "df = df.drop_duplicates(['CarNumber', 'Make_n_model', 'Fines'], keep='last')"
   ]
  },
  {
   "cell_type": "code",
   "execution_count": 6,
   "id": "e09a218d-6f3c-4dcb-afc2-6c21111eb6b9",
   "metadata": {},
   "outputs": [
    {
     "data": {
      "text/plain": [
       "CarNumber       725\n",
       "Make_n_model    725\n",
       "Refund          713\n",
       "Fines           665\n",
       "History          65\n",
       "dtype: int64"
      ]
     },
     "execution_count": 6,
     "metadata": {},
     "output_type": "execute_result"
    }
   ],
   "source": [
    "df.count()"
   ]
  },
  {
   "cell_type": "markdown",
   "id": "6667b35c-8acf-4437-90b3-ecb5cea8f705",
   "metadata": {},
   "source": [
    "<h2><center>Работа с пропущенными значениями</center></h2>"
   ]
  },
  {
   "cell_type": "code",
   "execution_count": 7,
   "id": "f7c2f2ab-53b5-4fc1-a7dc-a1f1a89eed66",
   "metadata": {},
   "outputs": [
    {
     "data": {
      "text/plain": [
       "0"
      ]
     },
     "execution_count": 7,
     "metadata": {},
     "output_type": "execute_result"
    }
   ],
   "source": [
    "pd.isna(df['CarNumber']).sum()"
   ]
  },
  {
   "cell_type": "code",
   "execution_count": 8,
   "id": "72194c47-072a-42aa-a232-3d16c225bfa6",
   "metadata": {},
   "outputs": [
    {
     "data": {
      "text/plain": [
       "0"
      ]
     },
     "execution_count": 8,
     "metadata": {},
     "output_type": "execute_result"
    }
   ],
   "source": [
    "pd.isna(df['Make_n_model']).sum()"
   ]
  },
  {
   "cell_type": "code",
   "execution_count": 9,
   "id": "b35f57a1-66b4-4ad4-8d0a-421b5533b8f1",
   "metadata": {},
   "outputs": [
    {
     "data": {
      "text/plain": [
       "12"
      ]
     },
     "execution_count": 9,
     "metadata": {},
     "output_type": "execute_result"
    }
   ],
   "source": [
    "pd.isna(df['Refund']).sum()"
   ]
  },
  {
   "cell_type": "code",
   "execution_count": 10,
   "id": "c7e4da32-15a1-4084-b9f7-c18080409c9d",
   "metadata": {},
   "outputs": [
    {
     "data": {
      "text/plain": [
       "60"
      ]
     },
     "execution_count": 10,
     "metadata": {},
     "output_type": "execute_result"
    }
   ],
   "source": [
    "pd.isna(df['Fines']).sum()"
   ]
  },
  {
   "cell_type": "code",
   "execution_count": 11,
   "id": "4fe3217e-a138-49b8-b404-b73d7537b648",
   "metadata": {},
   "outputs": [
    {
     "data": {
      "text/plain": [
       "660"
      ]
     },
     "execution_count": 11,
     "metadata": {},
     "output_type": "execute_result"
    }
   ],
   "source": [
    "pd.isna(df['History']).sum()"
   ]
  },
  {
   "cell_type": "code",
   "execution_count": 12,
   "id": "c1257971-9f6a-4ce7-854d-b472377eab16",
   "metadata": {},
   "outputs": [],
   "source": [
    "df = df.dropna(thresh=500, axis=1)"
   ]
  },
  {
   "cell_type": "code",
   "execution_count": 13,
   "id": "73119f5f-142d-4ed6-80e4-6c5ff3eb39e6",
   "metadata": {},
   "outputs": [],
   "source": [
    "df['Refund'].fillna(method='ffill', inplace=True)"
   ]
  },
  {
   "cell_type": "code",
   "execution_count": 14,
   "id": "b579ff64-f1cb-4159-9be2-4bfc9be9a653",
   "metadata": {},
   "outputs": [
    {
     "data": {
      "text/plain": [
       "0"
      ]
     },
     "execution_count": 14,
     "metadata": {},
     "output_type": "execute_result"
    }
   ],
   "source": [
    "pd.isna(df['Refund']).sum()"
   ]
  },
  {
   "cell_type": "code",
   "execution_count": 15,
   "id": "1839d4b6-42ba-4ff2-943c-6d404b844505",
   "metadata": {},
   "outputs": [
    {
     "data": {
      "text/plain": [
       "0"
      ]
     },
     "execution_count": 15,
     "metadata": {},
     "output_type": "execute_result"
    }
   ],
   "source": [
    "pd.isna(df['CarNumber']).sum()"
   ]
  },
  {
   "cell_type": "code",
   "execution_count": 16,
   "id": "0670307f-da79-461d-b024-5e79e8394820",
   "metadata": {},
   "outputs": [
    {
     "data": {
      "text/plain": [
       "0"
      ]
     },
     "execution_count": 16,
     "metadata": {},
     "output_type": "execute_result"
    }
   ],
   "source": [
    "pd.isna(df['Make_n_model']).sum()"
   ]
  },
  {
   "cell_type": "code",
   "execution_count": 17,
   "id": "eaf90313-d406-40f1-9b7b-f803c32e6e3b",
   "metadata": {},
   "outputs": [
    {
     "data": {
      "text/plain": [
       "60"
      ]
     },
     "execution_count": 17,
     "metadata": {},
     "output_type": "execute_result"
    }
   ],
   "source": [
    "pd.isna(df['Fines']).sum()"
   ]
  },
  {
   "cell_type": "code",
   "execution_count": 18,
   "id": "20e1d28c-cddc-413d-8b04-d96bf13b5713",
   "metadata": {},
   "outputs": [],
   "source": [
    "df.Fines.fillna(value=df.mean(numeric_only=True).Fines, inplace=True)"
   ]
  },
  {
   "cell_type": "code",
   "execution_count": 19,
   "id": "ff3c9066-826d-4e53-8d0c-efd440c1355e",
   "metadata": {},
   "outputs": [
    {
     "data": {
      "text/plain": [
       "0"
      ]
     },
     "execution_count": 19,
     "metadata": {},
     "output_type": "execute_result"
    }
   ],
   "source": [
    "pd.isna(df['Refund']).sum()"
   ]
  },
  {
   "cell_type": "code",
   "execution_count": 20,
   "id": "567ac342-8cc6-43b8-b196-bdd2612a2665",
   "metadata": {},
   "outputs": [
    {
     "data": {
      "text/plain": [
       "0"
      ]
     },
     "execution_count": 20,
     "metadata": {},
     "output_type": "execute_result"
    }
   ],
   "source": [
    "pd.isna(df['CarNumber']).sum()"
   ]
  },
  {
   "cell_type": "code",
   "execution_count": 21,
   "id": "fe6acce6-05e5-48fc-b9bb-811e0a1259ad",
   "metadata": {},
   "outputs": [
    {
     "data": {
      "text/plain": [
       "0"
      ]
     },
     "execution_count": 21,
     "metadata": {},
     "output_type": "execute_result"
    }
   ],
   "source": [
    "pd.isna(df['Make_n_model']).sum()"
   ]
  },
  {
   "cell_type": "code",
   "execution_count": 22,
   "id": "dcce08c7-e155-429e-9784-f403c3769f10",
   "metadata": {},
   "outputs": [
    {
     "data": {
      "text/plain": [
       "0"
      ]
     },
     "execution_count": 22,
     "metadata": {},
     "output_type": "execute_result"
    }
   ],
   "source": [
    "pd.isna(df['Fines']).sum()"
   ]
  },
  {
   "cell_type": "code",
   "execution_count": 23,
   "id": "c5511c2d-e03a-42e3-b209-3850d4534fd5",
   "metadata": {},
   "outputs": [
    {
     "data": {
      "text/html": [
       "<div>\n",
       "<style scoped>\n",
       "    .dataframe tbody tr th:only-of-type {\n",
       "        vertical-align: middle;\n",
       "    }\n",
       "\n",
       "    .dataframe tbody tr th {\n",
       "        vertical-align: top;\n",
       "    }\n",
       "\n",
       "    .dataframe thead th {\n",
       "        text-align: right;\n",
       "    }\n",
       "</style>\n",
       "<table border=\"1\" class=\"dataframe\">\n",
       "  <thead>\n",
       "    <tr style=\"text-align: right;\">\n",
       "      <th></th>\n",
       "      <th>CarNumber</th>\n",
       "      <th>Make_n_model</th>\n",
       "      <th>Refund</th>\n",
       "      <th>Fines</th>\n",
       "    </tr>\n",
       "    <tr>\n",
       "      <th>ID</th>\n",
       "      <th></th>\n",
       "      <th></th>\n",
       "      <th></th>\n",
       "      <th></th>\n",
       "    </tr>\n",
       "  </thead>\n",
       "  <tbody>\n",
       "    <tr>\n",
       "      <th>0</th>\n",
       "      <td>Y163O8161RUS</td>\n",
       "      <td>Ford Focus</td>\n",
       "      <td>2.0</td>\n",
       "      <td>3200.000000</td>\n",
       "    </tr>\n",
       "    <tr>\n",
       "      <th>1</th>\n",
       "      <td>E432XX77RUS</td>\n",
       "      <td>Toyota Camry</td>\n",
       "      <td>1.0</td>\n",
       "      <td>6500.000000</td>\n",
       "    </tr>\n",
       "    <tr>\n",
       "      <th>2</th>\n",
       "      <td>7184TT36RUS</td>\n",
       "      <td>Ford Focus</td>\n",
       "      <td>1.0</td>\n",
       "      <td>2100.000000</td>\n",
       "    </tr>\n",
       "    <tr>\n",
       "      <th>3</th>\n",
       "      <td>X582HE161RUS</td>\n",
       "      <td>Ford Focus</td>\n",
       "      <td>2.0</td>\n",
       "      <td>2000.000000</td>\n",
       "    </tr>\n",
       "    <tr>\n",
       "      <th>5</th>\n",
       "      <td>92918M178RUS</td>\n",
       "      <td>Ford Focus</td>\n",
       "      <td>1.0</td>\n",
       "      <td>5700.000000</td>\n",
       "    </tr>\n",
       "    <tr>\n",
       "      <th>10</th>\n",
       "      <td>H234YH197RUS</td>\n",
       "      <td>Ford Focus</td>\n",
       "      <td>2.0</td>\n",
       "      <td>6000.000000</td>\n",
       "    </tr>\n",
       "    <tr>\n",
       "      <th>11</th>\n",
       "      <td>E40577152RUS</td>\n",
       "      <td>Ford Focus</td>\n",
       "      <td>1.0</td>\n",
       "      <td>8594.586466</td>\n",
       "    </tr>\n",
       "    <tr>\n",
       "      <th>12</th>\n",
       "      <td>707987163RUS</td>\n",
       "      <td>Ford Focus</td>\n",
       "      <td>2.0</td>\n",
       "      <td>2200.000000</td>\n",
       "    </tr>\n",
       "    <tr>\n",
       "      <th>13</th>\n",
       "      <td>K330T8197RUS</td>\n",
       "      <td>Skoda Octavia</td>\n",
       "      <td>2.0</td>\n",
       "      <td>8200.000000</td>\n",
       "    </tr>\n",
       "    <tr>\n",
       "      <th>14</th>\n",
       "      <td>X786CO96RUS</td>\n",
       "      <td>Ford Focus</td>\n",
       "      <td>1.0</td>\n",
       "      <td>8594.586466</td>\n",
       "    </tr>\n",
       "    <tr>\n",
       "      <th>15</th>\n",
       "      <td>C477M7161RUS</td>\n",
       "      <td>Ford Focus</td>\n",
       "      <td>1.0</td>\n",
       "      <td>2500.000000</td>\n",
       "    </tr>\n",
       "    <tr>\n",
       "      <th>16</th>\n",
       "      <td>O21997197RUS</td>\n",
       "      <td>Ford Focus</td>\n",
       "      <td>1.0</td>\n",
       "      <td>2000.000000</td>\n",
       "    </tr>\n",
       "    <tr>\n",
       "      <th>17</th>\n",
       "      <td>M592CH197RUS</td>\n",
       "      <td>Skoda Octavia</td>\n",
       "      <td>2.0</td>\n",
       "      <td>8594.586466</td>\n",
       "    </tr>\n",
       "    <tr>\n",
       "      <th>18</th>\n",
       "      <td>9020YC197RUS</td>\n",
       "      <td>Skoda Octavia</td>\n",
       "      <td>2.0</td>\n",
       "      <td>145000.000000</td>\n",
       "    </tr>\n",
       "    <tr>\n",
       "      <th>19</th>\n",
       "      <td>8182XX154RUS</td>\n",
       "      <td>Ford Focus</td>\n",
       "      <td>1.0</td>\n",
       "      <td>200.000000</td>\n",
       "    </tr>\n",
       "    <tr>\n",
       "      <th>20</th>\n",
       "      <td>7830C8197RUS</td>\n",
       "      <td>Ford Focus</td>\n",
       "      <td>2.0</td>\n",
       "      <td>8594.586466</td>\n",
       "    </tr>\n",
       "    <tr>\n",
       "      <th>22</th>\n",
       "      <td>7066C8197RUS</td>\n",
       "      <td>Volkswagen Passat</td>\n",
       "      <td>2.0</td>\n",
       "      <td>15000.000000</td>\n",
       "    </tr>\n",
       "    <tr>\n",
       "      <th>23</th>\n",
       "      <td>M298CH161RUS</td>\n",
       "      <td>Ford Focus</td>\n",
       "      <td>2.0</td>\n",
       "      <td>8594.586466</td>\n",
       "    </tr>\n",
       "    <tr>\n",
       "      <th>26</th>\n",
       "      <td>E445TC197RUS</td>\n",
       "      <td>Ford Focus</td>\n",
       "      <td>1.0</td>\n",
       "      <td>8594.586466</td>\n",
       "    </tr>\n",
       "    <tr>\n",
       "      <th>27</th>\n",
       "      <td>8440XX154RUS</td>\n",
       "      <td>Ford Focus</td>\n",
       "      <td>1.0</td>\n",
       "      <td>6200.000000</td>\n",
       "    </tr>\n",
       "    <tr>\n",
       "      <th>28</th>\n",
       "      <td>9371CE154RUS</td>\n",
       "      <td>Skoda Octavia</td>\n",
       "      <td>2.0</td>\n",
       "      <td>8594.586466</td>\n",
       "    </tr>\n",
       "    <tr>\n",
       "      <th>29</th>\n",
       "      <td>9182CE154RUS</td>\n",
       "      <td>Ford Focus</td>\n",
       "      <td>2.0</td>\n",
       "      <td>19800.000000</td>\n",
       "    </tr>\n",
       "    <tr>\n",
       "      <th>32</th>\n",
       "      <td>83298C154RUS</td>\n",
       "      <td>Ford Focus</td>\n",
       "      <td>2.0</td>\n",
       "      <td>8594.586466</td>\n",
       "    </tr>\n",
       "    <tr>\n",
       "      <th>33</th>\n",
       "      <td>Y7659C197RUS</td>\n",
       "      <td>Ford Focus</td>\n",
       "      <td>2.0</td>\n",
       "      <td>8594.586466</td>\n",
       "    </tr>\n",
       "    <tr>\n",
       "      <th>34</th>\n",
       "      <td>C922YE197RUS</td>\n",
       "      <td>Volkswagen Golf</td>\n",
       "      <td>2.0</td>\n",
       "      <td>3800.000000</td>\n",
       "    </tr>\n",
       "    <tr>\n",
       "      <th>37</th>\n",
       "      <td>7364C8197RUS</td>\n",
       "      <td>Ford Focus</td>\n",
       "      <td>2.0</td>\n",
       "      <td>8594.586466</td>\n",
       "    </tr>\n",
       "    <tr>\n",
       "      <th>39</th>\n",
       "      <td>M5039X197RUS</td>\n",
       "      <td>Volkswagen</td>\n",
       "      <td>2.0</td>\n",
       "      <td>7400.000000</td>\n",
       "    </tr>\n",
       "    <tr>\n",
       "      <th>40</th>\n",
       "      <td>8603T8154RUS</td>\n",
       "      <td>Ford Focus</td>\n",
       "      <td>1.0</td>\n",
       "      <td>1500.000000</td>\n",
       "    </tr>\n",
       "    <tr>\n",
       "      <th>43</th>\n",
       "      <td>92928M178RUS</td>\n",
       "      <td>Ford Focus</td>\n",
       "      <td>1.0</td>\n",
       "      <td>8594.586466</td>\n",
       "    </tr>\n",
       "    <tr>\n",
       "      <th>45</th>\n",
       "      <td>O672E8197RUS</td>\n",
       "      <td>Skoda Octavia</td>\n",
       "      <td>2.0</td>\n",
       "      <td>63300.000000</td>\n",
       "    </tr>\n",
       "  </tbody>\n",
       "</table>\n",
       "</div>"
      ],
      "text/plain": [
       "       CarNumber       Make_n_model  Refund          Fines\n",
       "ID                                                        \n",
       "0   Y163O8161RUS         Ford Focus     2.0    3200.000000\n",
       "1    E432XX77RUS       Toyota Camry     1.0    6500.000000\n",
       "2    7184TT36RUS         Ford Focus     1.0    2100.000000\n",
       "3   X582HE161RUS         Ford Focus     2.0    2000.000000\n",
       "5   92918M178RUS         Ford Focus     1.0    5700.000000\n",
       "10  H234YH197RUS         Ford Focus     2.0    6000.000000\n",
       "11  E40577152RUS         Ford Focus     1.0    8594.586466\n",
       "12  707987163RUS         Ford Focus     2.0    2200.000000\n",
       "13  K330T8197RUS      Skoda Octavia     2.0    8200.000000\n",
       "14   X786CO96RUS         Ford Focus     1.0    8594.586466\n",
       "15  C477M7161RUS         Ford Focus     1.0    2500.000000\n",
       "16  O21997197RUS         Ford Focus     1.0    2000.000000\n",
       "17  M592CH197RUS      Skoda Octavia     2.0    8594.586466\n",
       "18  9020YC197RUS      Skoda Octavia     2.0  145000.000000\n",
       "19  8182XX154RUS         Ford Focus     1.0     200.000000\n",
       "20  7830C8197RUS         Ford Focus     2.0    8594.586466\n",
       "22  7066C8197RUS  Volkswagen Passat     2.0   15000.000000\n",
       "23  M298CH161RUS         Ford Focus     2.0    8594.586466\n",
       "26  E445TC197RUS         Ford Focus     1.0    8594.586466\n",
       "27  8440XX154RUS         Ford Focus     1.0    6200.000000\n",
       "28  9371CE154RUS      Skoda Octavia     2.0    8594.586466\n",
       "29  9182CE154RUS         Ford Focus     2.0   19800.000000\n",
       "32  83298C154RUS         Ford Focus     2.0    8594.586466\n",
       "33  Y7659C197RUS         Ford Focus     2.0    8594.586466\n",
       "34  C922YE197RUS    Volkswagen Golf     2.0    3800.000000\n",
       "37  7364C8197RUS         Ford Focus     2.0    8594.586466\n",
       "39  M5039X197RUS         Volkswagen     2.0    7400.000000\n",
       "40  8603T8154RUS         Ford Focus     1.0    1500.000000\n",
       "43  92928M178RUS         Ford Focus     1.0    8594.586466\n",
       "45  O672E8197RUS      Skoda Octavia     2.0   63300.000000"
      ]
     },
     "execution_count": 23,
     "metadata": {},
     "output_type": "execute_result"
    }
   ],
   "source": [
    "df.head(30)"
   ]
  },
  {
   "cell_type": "markdown",
   "id": "9b9b0c77-07f4-445f-88fb-e55863f00f2e",
   "metadata": {},
   "source": [
    "<h2><center>Split and parse and Make at Model</center></h2>"
   ]
  },
  {
   "cell_type": "code",
   "execution_count": 24,
   "id": "5c445eed-2c75-47e4-a94b-5baf2e2c939e",
   "metadata": {},
   "outputs": [],
   "source": [
    "df[['Make', 'Model']] = df['Make_n_model'].str.split(' ', expand = True) # альтернативный способ, без apply, который нормально работает, а не вот эта гадость (работает в 84 раза быстрее)"
   ]
  },
  {
   "cell_type": "code",
   "execution_count": 25,
   "id": "9dc42ff6-61a6-4449-961b-63d15c783baf",
   "metadata": {},
   "outputs": [],
   "source": [
    "df[['Make', 'Model']] = df.Make_n_model.apply(lambda x: x.split(' ')).apply(pd.Series)"
   ]
  },
  {
   "cell_type": "code",
   "execution_count": 26,
   "id": "092d9d8d-b660-4962-9b9c-1a3c335f3614",
   "metadata": {},
   "outputs": [
    {
     "data": {
      "text/html": [
       "<div>\n",
       "<style scoped>\n",
       "    .dataframe tbody tr th:only-of-type {\n",
       "        vertical-align: middle;\n",
       "    }\n",
       "\n",
       "    .dataframe tbody tr th {\n",
       "        vertical-align: top;\n",
       "    }\n",
       "\n",
       "    .dataframe thead th {\n",
       "        text-align: right;\n",
       "    }\n",
       "</style>\n",
       "<table border=\"1\" class=\"dataframe\">\n",
       "  <thead>\n",
       "    <tr style=\"text-align: right;\">\n",
       "      <th></th>\n",
       "      <th>CarNumber</th>\n",
       "      <th>Make_n_model</th>\n",
       "      <th>Refund</th>\n",
       "      <th>Fines</th>\n",
       "      <th>Make</th>\n",
       "      <th>Model</th>\n",
       "    </tr>\n",
       "    <tr>\n",
       "      <th>ID</th>\n",
       "      <th></th>\n",
       "      <th></th>\n",
       "      <th></th>\n",
       "      <th></th>\n",
       "      <th></th>\n",
       "      <th></th>\n",
       "    </tr>\n",
       "  </thead>\n",
       "  <tbody>\n",
       "    <tr>\n",
       "      <th>0</th>\n",
       "      <td>Y163O8161RUS</td>\n",
       "      <td>Ford Focus</td>\n",
       "      <td>2.0</td>\n",
       "      <td>3200.0</td>\n",
       "      <td>Ford</td>\n",
       "      <td>Focus</td>\n",
       "    </tr>\n",
       "    <tr>\n",
       "      <th>1</th>\n",
       "      <td>E432XX77RUS</td>\n",
       "      <td>Toyota Camry</td>\n",
       "      <td>1.0</td>\n",
       "      <td>6500.0</td>\n",
       "      <td>Toyota</td>\n",
       "      <td>Camry</td>\n",
       "    </tr>\n",
       "    <tr>\n",
       "      <th>2</th>\n",
       "      <td>7184TT36RUS</td>\n",
       "      <td>Ford Focus</td>\n",
       "      <td>1.0</td>\n",
       "      <td>2100.0</td>\n",
       "      <td>Ford</td>\n",
       "      <td>Focus</td>\n",
       "    </tr>\n",
       "    <tr>\n",
       "      <th>3</th>\n",
       "      <td>X582HE161RUS</td>\n",
       "      <td>Ford Focus</td>\n",
       "      <td>2.0</td>\n",
       "      <td>2000.0</td>\n",
       "      <td>Ford</td>\n",
       "      <td>Focus</td>\n",
       "    </tr>\n",
       "    <tr>\n",
       "      <th>5</th>\n",
       "      <td>92918M178RUS</td>\n",
       "      <td>Ford Focus</td>\n",
       "      <td>1.0</td>\n",
       "      <td>5700.0</td>\n",
       "      <td>Ford</td>\n",
       "      <td>Focus</td>\n",
       "    </tr>\n",
       "  </tbody>\n",
       "</table>\n",
       "</div>"
      ],
      "text/plain": [
       "       CarNumber  Make_n_model  Refund   Fines    Make  Model\n",
       "ID                                                           \n",
       "0   Y163O8161RUS    Ford Focus     2.0  3200.0    Ford  Focus\n",
       "1    E432XX77RUS  Toyota Camry     1.0  6500.0  Toyota  Camry\n",
       "2    7184TT36RUS    Ford Focus     1.0  2100.0    Ford  Focus\n",
       "3   X582HE161RUS    Ford Focus     2.0  2000.0    Ford  Focus\n",
       "5   92918M178RUS    Ford Focus     1.0  5700.0    Ford  Focus"
      ]
     },
     "execution_count": 26,
     "metadata": {},
     "output_type": "execute_result"
    }
   ],
   "source": [
    "df.head()"
   ]
  },
  {
   "cell_type": "code",
   "execution_count": 27,
   "id": "29db5464-2214-4a97-aee9-2211f491ee62",
   "metadata": {},
   "outputs": [],
   "source": [
    "df = df.drop(labels='Make_n_model', axis=1)"
   ]
  },
  {
   "cell_type": "code",
   "execution_count": 28,
   "id": "7aa5248b-5ae1-4ff6-a092-18193982dfbb",
   "metadata": {},
   "outputs": [
    {
     "data": {
      "text/html": [
       "<div>\n",
       "<style scoped>\n",
       "    .dataframe tbody tr th:only-of-type {\n",
       "        vertical-align: middle;\n",
       "    }\n",
       "\n",
       "    .dataframe tbody tr th {\n",
       "        vertical-align: top;\n",
       "    }\n",
       "\n",
       "    .dataframe thead th {\n",
       "        text-align: right;\n",
       "    }\n",
       "</style>\n",
       "<table border=\"1\" class=\"dataframe\">\n",
       "  <thead>\n",
       "    <tr style=\"text-align: right;\">\n",
       "      <th></th>\n",
       "      <th>CarNumber</th>\n",
       "      <th>Refund</th>\n",
       "      <th>Fines</th>\n",
       "      <th>Make</th>\n",
       "      <th>Model</th>\n",
       "    </tr>\n",
       "    <tr>\n",
       "      <th>ID</th>\n",
       "      <th></th>\n",
       "      <th></th>\n",
       "      <th></th>\n",
       "      <th></th>\n",
       "      <th></th>\n",
       "    </tr>\n",
       "  </thead>\n",
       "  <tbody>\n",
       "    <tr>\n",
       "      <th>0</th>\n",
       "      <td>Y163O8161RUS</td>\n",
       "      <td>2.0</td>\n",
       "      <td>3200.000000</td>\n",
       "      <td>Ford</td>\n",
       "      <td>Focus</td>\n",
       "    </tr>\n",
       "    <tr>\n",
       "      <th>1</th>\n",
       "      <td>E432XX77RUS</td>\n",
       "      <td>1.0</td>\n",
       "      <td>6500.000000</td>\n",
       "      <td>Toyota</td>\n",
       "      <td>Camry</td>\n",
       "    </tr>\n",
       "    <tr>\n",
       "      <th>2</th>\n",
       "      <td>7184TT36RUS</td>\n",
       "      <td>1.0</td>\n",
       "      <td>2100.000000</td>\n",
       "      <td>Ford</td>\n",
       "      <td>Focus</td>\n",
       "    </tr>\n",
       "    <tr>\n",
       "      <th>3</th>\n",
       "      <td>X582HE161RUS</td>\n",
       "      <td>2.0</td>\n",
       "      <td>2000.000000</td>\n",
       "      <td>Ford</td>\n",
       "      <td>Focus</td>\n",
       "    </tr>\n",
       "    <tr>\n",
       "      <th>5</th>\n",
       "      <td>92918M178RUS</td>\n",
       "      <td>1.0</td>\n",
       "      <td>5700.000000</td>\n",
       "      <td>Ford</td>\n",
       "      <td>Focus</td>\n",
       "    </tr>\n",
       "    <tr>\n",
       "      <th>10</th>\n",
       "      <td>H234YH197RUS</td>\n",
       "      <td>2.0</td>\n",
       "      <td>6000.000000</td>\n",
       "      <td>Ford</td>\n",
       "      <td>Focus</td>\n",
       "    </tr>\n",
       "    <tr>\n",
       "      <th>11</th>\n",
       "      <td>E40577152RUS</td>\n",
       "      <td>1.0</td>\n",
       "      <td>8594.586466</td>\n",
       "      <td>Ford</td>\n",
       "      <td>Focus</td>\n",
       "    </tr>\n",
       "    <tr>\n",
       "      <th>12</th>\n",
       "      <td>707987163RUS</td>\n",
       "      <td>2.0</td>\n",
       "      <td>2200.000000</td>\n",
       "      <td>Ford</td>\n",
       "      <td>Focus</td>\n",
       "    </tr>\n",
       "    <tr>\n",
       "      <th>13</th>\n",
       "      <td>K330T8197RUS</td>\n",
       "      <td>2.0</td>\n",
       "      <td>8200.000000</td>\n",
       "      <td>Skoda</td>\n",
       "      <td>Octavia</td>\n",
       "    </tr>\n",
       "    <tr>\n",
       "      <th>14</th>\n",
       "      <td>X786CO96RUS</td>\n",
       "      <td>1.0</td>\n",
       "      <td>8594.586466</td>\n",
       "      <td>Ford</td>\n",
       "      <td>Focus</td>\n",
       "    </tr>\n",
       "    <tr>\n",
       "      <th>15</th>\n",
       "      <td>C477M7161RUS</td>\n",
       "      <td>1.0</td>\n",
       "      <td>2500.000000</td>\n",
       "      <td>Ford</td>\n",
       "      <td>Focus</td>\n",
       "    </tr>\n",
       "    <tr>\n",
       "      <th>16</th>\n",
       "      <td>O21997197RUS</td>\n",
       "      <td>1.0</td>\n",
       "      <td>2000.000000</td>\n",
       "      <td>Ford</td>\n",
       "      <td>Focus</td>\n",
       "    </tr>\n",
       "    <tr>\n",
       "      <th>17</th>\n",
       "      <td>M592CH197RUS</td>\n",
       "      <td>2.0</td>\n",
       "      <td>8594.586466</td>\n",
       "      <td>Skoda</td>\n",
       "      <td>Octavia</td>\n",
       "    </tr>\n",
       "    <tr>\n",
       "      <th>18</th>\n",
       "      <td>9020YC197RUS</td>\n",
       "      <td>2.0</td>\n",
       "      <td>145000.000000</td>\n",
       "      <td>Skoda</td>\n",
       "      <td>Octavia</td>\n",
       "    </tr>\n",
       "    <tr>\n",
       "      <th>19</th>\n",
       "      <td>8182XX154RUS</td>\n",
       "      <td>1.0</td>\n",
       "      <td>200.000000</td>\n",
       "      <td>Ford</td>\n",
       "      <td>Focus</td>\n",
       "    </tr>\n",
       "    <tr>\n",
       "      <th>20</th>\n",
       "      <td>7830C8197RUS</td>\n",
       "      <td>2.0</td>\n",
       "      <td>8594.586466</td>\n",
       "      <td>Ford</td>\n",
       "      <td>Focus</td>\n",
       "    </tr>\n",
       "    <tr>\n",
       "      <th>22</th>\n",
       "      <td>7066C8197RUS</td>\n",
       "      <td>2.0</td>\n",
       "      <td>15000.000000</td>\n",
       "      <td>Volkswagen</td>\n",
       "      <td>Passat</td>\n",
       "    </tr>\n",
       "    <tr>\n",
       "      <th>23</th>\n",
       "      <td>M298CH161RUS</td>\n",
       "      <td>2.0</td>\n",
       "      <td>8594.586466</td>\n",
       "      <td>Ford</td>\n",
       "      <td>Focus</td>\n",
       "    </tr>\n",
       "    <tr>\n",
       "      <th>26</th>\n",
       "      <td>E445TC197RUS</td>\n",
       "      <td>1.0</td>\n",
       "      <td>8594.586466</td>\n",
       "      <td>Ford</td>\n",
       "      <td>Focus</td>\n",
       "    </tr>\n",
       "    <tr>\n",
       "      <th>27</th>\n",
       "      <td>8440XX154RUS</td>\n",
       "      <td>1.0</td>\n",
       "      <td>6200.000000</td>\n",
       "      <td>Ford</td>\n",
       "      <td>Focus</td>\n",
       "    </tr>\n",
       "    <tr>\n",
       "      <th>28</th>\n",
       "      <td>9371CE154RUS</td>\n",
       "      <td>2.0</td>\n",
       "      <td>8594.586466</td>\n",
       "      <td>Skoda</td>\n",
       "      <td>Octavia</td>\n",
       "    </tr>\n",
       "    <tr>\n",
       "      <th>29</th>\n",
       "      <td>9182CE154RUS</td>\n",
       "      <td>2.0</td>\n",
       "      <td>19800.000000</td>\n",
       "      <td>Ford</td>\n",
       "      <td>Focus</td>\n",
       "    </tr>\n",
       "    <tr>\n",
       "      <th>32</th>\n",
       "      <td>83298C154RUS</td>\n",
       "      <td>2.0</td>\n",
       "      <td>8594.586466</td>\n",
       "      <td>Ford</td>\n",
       "      <td>Focus</td>\n",
       "    </tr>\n",
       "    <tr>\n",
       "      <th>33</th>\n",
       "      <td>Y7659C197RUS</td>\n",
       "      <td>2.0</td>\n",
       "      <td>8594.586466</td>\n",
       "      <td>Ford</td>\n",
       "      <td>Focus</td>\n",
       "    </tr>\n",
       "    <tr>\n",
       "      <th>34</th>\n",
       "      <td>C922YE197RUS</td>\n",
       "      <td>2.0</td>\n",
       "      <td>3800.000000</td>\n",
       "      <td>Volkswagen</td>\n",
       "      <td>Golf</td>\n",
       "    </tr>\n",
       "    <tr>\n",
       "      <th>37</th>\n",
       "      <td>7364C8197RUS</td>\n",
       "      <td>2.0</td>\n",
       "      <td>8594.586466</td>\n",
       "      <td>Ford</td>\n",
       "      <td>Focus</td>\n",
       "    </tr>\n",
       "    <tr>\n",
       "      <th>39</th>\n",
       "      <td>M5039X197RUS</td>\n",
       "      <td>2.0</td>\n",
       "      <td>7400.000000</td>\n",
       "      <td>Volkswagen</td>\n",
       "      <td>NaN</td>\n",
       "    </tr>\n",
       "    <tr>\n",
       "      <th>40</th>\n",
       "      <td>8603T8154RUS</td>\n",
       "      <td>1.0</td>\n",
       "      <td>1500.000000</td>\n",
       "      <td>Ford</td>\n",
       "      <td>Focus</td>\n",
       "    </tr>\n",
       "    <tr>\n",
       "      <th>43</th>\n",
       "      <td>92928M178RUS</td>\n",
       "      <td>1.0</td>\n",
       "      <td>8594.586466</td>\n",
       "      <td>Ford</td>\n",
       "      <td>Focus</td>\n",
       "    </tr>\n",
       "    <tr>\n",
       "      <th>45</th>\n",
       "      <td>O672E8197RUS</td>\n",
       "      <td>2.0</td>\n",
       "      <td>63300.000000</td>\n",
       "      <td>Skoda</td>\n",
       "      <td>Octavia</td>\n",
       "    </tr>\n",
       "  </tbody>\n",
       "</table>\n",
       "</div>"
      ],
      "text/plain": [
       "       CarNumber  Refund          Fines        Make    Model\n",
       "ID                                                          \n",
       "0   Y163O8161RUS     2.0    3200.000000        Ford    Focus\n",
       "1    E432XX77RUS     1.0    6500.000000      Toyota    Camry\n",
       "2    7184TT36RUS     1.0    2100.000000        Ford    Focus\n",
       "3   X582HE161RUS     2.0    2000.000000        Ford    Focus\n",
       "5   92918M178RUS     1.0    5700.000000        Ford    Focus\n",
       "10  H234YH197RUS     2.0    6000.000000        Ford    Focus\n",
       "11  E40577152RUS     1.0    8594.586466        Ford    Focus\n",
       "12  707987163RUS     2.0    2200.000000        Ford    Focus\n",
       "13  K330T8197RUS     2.0    8200.000000       Skoda  Octavia\n",
       "14   X786CO96RUS     1.0    8594.586466        Ford    Focus\n",
       "15  C477M7161RUS     1.0    2500.000000        Ford    Focus\n",
       "16  O21997197RUS     1.0    2000.000000        Ford    Focus\n",
       "17  M592CH197RUS     2.0    8594.586466       Skoda  Octavia\n",
       "18  9020YC197RUS     2.0  145000.000000       Skoda  Octavia\n",
       "19  8182XX154RUS     1.0     200.000000        Ford    Focus\n",
       "20  7830C8197RUS     2.0    8594.586466        Ford    Focus\n",
       "22  7066C8197RUS     2.0   15000.000000  Volkswagen   Passat\n",
       "23  M298CH161RUS     2.0    8594.586466        Ford    Focus\n",
       "26  E445TC197RUS     1.0    8594.586466        Ford    Focus\n",
       "27  8440XX154RUS     1.0    6200.000000        Ford    Focus\n",
       "28  9371CE154RUS     2.0    8594.586466       Skoda  Octavia\n",
       "29  9182CE154RUS     2.0   19800.000000        Ford    Focus\n",
       "32  83298C154RUS     2.0    8594.586466        Ford    Focus\n",
       "33  Y7659C197RUS     2.0    8594.586466        Ford    Focus\n",
       "34  C922YE197RUS     2.0    3800.000000  Volkswagen     Golf\n",
       "37  7364C8197RUS     2.0    8594.586466        Ford    Focus\n",
       "39  M5039X197RUS     2.0    7400.000000  Volkswagen      NaN\n",
       "40  8603T8154RUS     1.0    1500.000000        Ford    Focus\n",
       "43  92928M178RUS     1.0    8594.586466        Ford    Focus\n",
       "45  O672E8197RUS     2.0   63300.000000       Skoda  Octavia"
      ]
     },
     "execution_count": 28,
     "metadata": {},
     "output_type": "execute_result"
    }
   ],
   "source": [
    "df.head(30)"
   ]
  },
  {
   "cell_type": "markdown",
   "id": "9e6bd6e9-67a3-43bf-959a-b79ef8ccb38e",
   "metadata": {},
   "source": [
    "<h2><center>Сохранение в JSON</center></h2>"
   ]
  },
  {
   "cell_type": "code",
   "execution_count": 29,
   "id": "11e39523-01de-415d-9348-563fa92c1b06",
   "metadata": {},
   "outputs": [],
   "source": [
    "df.to_json(path_or_buf='../data/auto.json', orient='records')"
   ]
  },
  {
   "cell_type": "markdown",
   "id": "8d7958aa-1a8d-45e8-b0be-12e9bdd4c32d",
   "metadata": {},
   "source": [
    "<h2><center>ТЕСТЫ ИЗ ЧЕКЛИСТА</center></h2>"
   ]
  },
  {
   "cell_type": "code",
   "execution_count": 31,
   "id": "a6922853-479a-4454-8921-da3dfbeb43ec",
   "metadata": {},
   "outputs": [],
   "source": [
    "df2 = pd.read_json('../data/auto.json', orient='records')"
   ]
  },
  {
   "cell_type": "code",
   "execution_count": 32,
   "id": "a75119a8-29d8-40bc-9aa8-95248cb375c5",
   "metadata": {},
   "outputs": [
    {
     "data": {
      "text/plain": [
       "CarNumber    725\n",
       "Refund       725\n",
       "Fines        725\n",
       "Make         725\n",
       "Model        716\n",
       "dtype: int64"
      ]
     },
     "execution_count": 32,
     "metadata": {},
     "output_type": "execute_result"
    }
   ],
   "source": [
    "df2.count()"
   ]
  },
  {
   "cell_type": "code",
   "execution_count": 33,
   "id": "ac5c2264-9e48-4d01-9a5e-b0867560252d",
   "metadata": {},
   "outputs": [
    {
     "data": {
      "text/plain": [
       "8594.586466165412"
      ]
     },
     "execution_count": 33,
     "metadata": {},
     "output_type": "execute_result"
    }
   ],
   "source": [
    "df2['Fines'].mean()"
   ]
  },
  {
   "cell_type": "code",
   "execution_count": 34,
   "id": "dc2a3052-7186-4063-996d-89f551e0c626",
   "metadata": {},
   "outputs": [
    {
     "data": {
      "text/plain": [
       "1.5172413793103448"
      ]
     },
     "execution_count": 34,
     "metadata": {},
     "output_type": "execute_result"
    }
   ],
   "source": [
    "df2['Refund'].mean()"
   ]
  }
 ],
 "metadata": {
  "kernelspec": {
   "display_name": "Python 3 (ipykernel)",
   "language": "python",
   "name": "python3"
  },
  "language_info": {
   "codemirror_mode": {
    "name": "ipython",
    "version": 3
   },
   "file_extension": ".py",
   "mimetype": "text/x-python",
   "name": "python",
   "nbconvert_exporter": "python",
   "pygments_lexer": "ipython3",
   "version": "3.9.7"
  }
 },
 "nbformat": 4,
 "nbformat_minor": 5
}
