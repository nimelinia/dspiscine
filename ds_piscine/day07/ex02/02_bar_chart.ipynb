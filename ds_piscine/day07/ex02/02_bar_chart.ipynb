{
 "cells": [
  {
   "cell_type": "code",
   "execution_count": 1,
   "id": "6072f972-8cf0-4ab5-a391-12c3b6603251",
   "metadata": {},
   "outputs": [],
   "source": [
    "import pandas as pd"
   ]
  },
  {
   "cell_type": "code",
   "execution_count": 2,
   "id": "53fc0689-ce9d-4e89-b12c-a022e536ac57",
   "metadata": {},
   "outputs": [],
   "source": [
    "import sqlite3"
   ]
  },
  {
   "cell_type": "markdown",
   "id": "7dc803b2-f356-4f87-9064-b0afdb59238d",
   "metadata": {},
   "source": [
    "<h2><center>Соединение с БД</center></h2>"
   ]
  },
  {
   "cell_type": "code",
   "execution_count": 3,
   "id": "6f4e095a-f175-4b0e-9e28-ab98ad7feb32",
   "metadata": {},
   "outputs": [],
   "source": [
    "connection = sqlite3.connect('../data/checking-logs.sqlite')"
   ]
  },
  {
   "cell_type": "markdown",
   "id": "ca7e25a4-4c0e-422a-b197-28d4d11d5817",
   "metadata": {
    "tags": []
   },
   "source": [
    "<h2><center>Запросы к БД</center></h2>"
   ]
  },
  {
   "cell_type": "code",
   "execution_count": 4,
   "id": "dde551cd-c261-4930-8915-8e31d4eb6bf0",
   "metadata": {
    "tags": []
   },
   "outputs": [],
   "source": [
    "commits = pd.io.sql.read_sql(\n",
    "    \"\"\"\n",
    "    select date, daytime, uid as commits\n",
    "    from\n",
    "    (select uid, DATE(timestamp) as date, \n",
    "            case \n",
    "                when cast(strftime('%H', timestamp) as int) < 4 then 'night'\n",
    "                when cast(strftime('%H', timestamp) as int) BETWEEN 4 AND 10 then 'morning'\n",
    "                when cast(strftime('%H', timestamp) as int) BETWEEN 10 AND 17 then 'afternoon'\n",
    "                when cast(strftime('%H', timestamp) as int) BETWEEN 17 AND 24 then 'evening'\n",
    "                else 'ERROR'\n",
    "            end as daytime\n",
    "    from checker\n",
    "        where uid like '%user%')\n",
    "    \"\"\" \\\n",
    "    ,connection)"
   ]
  },
  {
   "cell_type": "code",
   "execution_count": 5,
   "id": "9bacbbce-4b9b-497e-9720-c0018381ac21",
   "metadata": {},
   "outputs": [],
   "source": [
    "commit_df = commits.groupby(['date', 'daytime']).count().unstack()"
   ]
  },
  {
   "cell_type": "code",
   "execution_count": null,
   "id": "9f0e50e4-d43a-4f04-b072-4ccaefc69d17",
   "metadata": {},
   "outputs": [],
   "source": []
  },
  {
   "cell_type": "code",
   "execution_count": 6,
   "id": "1fb7a6af-8f1f-419c-aae6-b96241f6a424",
   "metadata": {},
   "outputs": [
    {
     "name": "stdout",
     "output_type": "stream",
     "text": [
      "<class 'pandas.core.frame.DataFrame'>\n",
      "Index: 35 entries, 2020-04-17 to 2020-05-21\n",
      "Data columns (total 4 columns):\n",
      " #   Column                Non-Null Count  Dtype  \n",
      "---  ------                --------------  -----  \n",
      " 0   (commits, afternoon)  31 non-null     float64\n",
      " 1   (commits, evening)    29 non-null     float64\n",
      " 2   (commits, morning)    26 non-null     float64\n",
      " 3   (commits, night)      7 non-null      float64\n",
      "dtypes: float64(4)\n",
      "memory usage: 1.4+ KB\n"
     ]
    }
   ],
   "source": [
    "commit_df.info()"
   ]
  },
  {
   "cell_type": "code",
   "execution_count": 7,
   "id": "165669a0-4220-4b91-9543-5e9e5645ebbc",
   "metadata": {},
   "outputs": [
    {
     "data": {
      "text/plain": [
       "<matplotlib.legend.Legend at 0x14b79f4f0>"
      ]
     },
     "execution_count": 7,
     "metadata": {},
     "output_type": "execute_result"
    },
    {
     "data": {
      "image/png": "[encoded data removed]",
      "text/plain": [
       "<Figure size 1080x576 with 1 Axes>"
      ]
     },
     "metadata": {
      "needs_background": "light"
     },
     "output_type": "display_data"
    }
   ],
   "source": [
    "axes = commit_df.commits.plot(fontsize=8, figsize=(15, 8), title='Commits per day', xlabel='date', rot=90, \\\n",
    "              kind='bar', stacked=True, colormap='PiYG')\n",
    "handles,labels=axes.get_legend_handles_labels()\n",
    "axes.patch.set_facecolor('#DCDCDC')\n",
    "axes.grid(axis='y')\n",
    "axes.legend(handles=[handles[3], handles[2], handles[0], handles[1]], labels=['night', 'morning', 'afternoon', 'evening'], title='daytime')"
   ]
  },
  {
   "cell_type": "code",
   "execution_count": null,
   "id": "ab6cdcdd-cb24-40f8-abee-0daa095f6ea1",
   "metadata": {},
   "outputs": [],
   "source": []
  },
  {
   "cell_type": "markdown",
   "id": "8dc698af-7aaa-42f2-b054-ea520db6fe15",
   "metadata": {},
   "source": [
    "<h2><center>Закрытие соединения с БД</center></h2>"
   ]
  },
  {
   "cell_type": "code",
   "execution_count": 8,
   "id": "23556851-bc6e-4b82-b92a-ad51e90c14a0",
   "metadata": {
    "tags": []
   },
   "outputs": [],
   "source": [
    "connection.close()"
   ]
  },
  {
   "cell_type": "markdown",
   "id": "025a6bd8-766c-4ac2-8ee3-a76e8e39e755",
   "metadata": {},
   "source": [
    "<h2><center>Ответы на вопросы</center></h2>"
   ]
  },
  {
   "cell_type": "markdown",
   "id": "fab29b4a-ce8d-49e3-840c-9d661ac0989b",
   "metadata": {},
   "source": [
    "<h2>Первый вопрос: вечер и обед</h2>"
   ]
  },
  {
   "cell_type": "markdown",
   "id": "0a9c9b99-6c50-40cb-959d-99d26213a885",
   "metadata": {},
   "source": [
    "<h2>Второй вопрос: 12 мая</h2>"
   ]
  }
 ],
 "metadata": {
  "kernelspec": {
   "display_name": "Python 3 (ipykernel)",
   "language": "python",
   "name": "python3"
  },
  "language_info": {
   "codemirror_mode": {
    "name": "ipython",
    "version": 3
   },
   "file_extension": ".py",
   "mimetype": "text/x-python",
   "name": "python",
   "nbconvert_exporter": "python",
   "pygments_lexer": "ipython3",
   "version": "3.9.7"
  }
 },
 "nbformat": 4,
 "nbformat_minor": 5
}
