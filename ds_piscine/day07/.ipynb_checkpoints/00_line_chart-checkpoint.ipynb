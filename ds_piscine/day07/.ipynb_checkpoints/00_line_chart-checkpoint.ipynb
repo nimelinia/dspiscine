{
 "cells": [
  {
   "cell_type": "code",
   "execution_count": null,
   "id": "f46cb6a1-a917-4fa0-94d6-d5a3636efa0e",
   "metadata": {},
   "outputs": [],
   "source": []
  }
 ],
 "metadata": {
  "kernelspec": {
   "display_name": "Python 3 (ipykernel)",
   "language": "python",
   "name": "python3"
  },
  "language_info": {
   "codemirror_mode": {
    "name": "ipython",
    "version": 3
   },
   "file_extension": ".py",
   "mimetype": "text/x-python",
   "name": "python",
   "nbconvert_exporter": "python",
   "pygments_lexer": "ipython3",
   "version": "3.9.7"
  }
 },
 "nbformat": 4,
 "nbformat_minor": 5
}
