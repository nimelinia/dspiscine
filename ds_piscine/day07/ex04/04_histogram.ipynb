{
 "cells": [
  {
   "cell_type": "code",
   "execution_count": 1,
   "id": "4efd4ec4-1f7d-48cf-968d-242deaa57348",
   "metadata": {},
   "outputs": [],
   "source": [
    "import matplotlib.pyplot as plt"
   ]
  },
  {
   "cell_type": "code",
   "execution_count": 2,
   "id": "5850c910-0d2c-43a8-82f4-aa5d3aacf80d",
   "metadata": {},
   "outputs": [],
   "source": [
    "import pandas as pd"
   ]
  },
  {
   "cell_type": "code",
   "execution_count": 3,
   "id": "68dc1543-2da9-434b-8c44-9622b535074e",
   "metadata": {},
   "outputs": [],
   "source": [
    "import sqlite3"
   ]
  },
  {
   "cell_type": "markdown",
   "id": "dbb1e8e4-342a-4c20-a1ab-20bc1e49cac5",
   "metadata": {},
   "source": [
    "<h2><center>Соединение с БД</center></h2>"
   ]
  },
  {
   "cell_type": "code",
   "execution_count": 4,
   "id": "f0a1059d-0b6e-4dbe-82e5-f084229098b7",
   "metadata": {},
   "outputs": [],
   "source": [
    "connection = sqlite3.connect('../data/checking-logs.sqlite')"
   ]
  },
  {
   "cell_type": "markdown",
   "id": "24740529-a886-4b8d-9696-00cf143b538d",
   "metadata": {
    "tags": []
   },
   "source": [
    "<h2><center>Запросы к БД</center></h2>"
   ]
  },
  {
   "cell_type": "code",
   "execution_count": 5,
   "id": "04ed5c24-f067-41b0-8f5f-e1992907cbe6",
   "metadata": {
    "tags": []
   },
   "outputs": [],
   "source": [
    "commits = pd.io.sql.read_sql(\n",
    "    \"\"\"\n",
    "    select * from (\n",
    "        select\n",
    "            date(checker.timestamp) as date,\n",
    "            cast(strftime('%H',checker.timestamp) as int) as hour\n",
    "        from\n",
    "            checker\n",
    "    where\n",
    "        uid like '%user_%')\n",
    "    \"\"\", connection, parse_dates='timestamp')"
   ]
  },
  {
   "cell_type": "code",
   "execution_count": 6,
   "id": "19b5d3a4-0a49-4bde-a009-9af7841e8e02",
   "metadata": {},
   "outputs": [
    {
     "data": {
      "text/html": [
       "<div>\n",
       "<style scoped>\n",
       "    .dataframe tbody tr th:only-of-type {\n",
       "        vertical-align: middle;\n",
       "    }\n",
       "\n",
       "    .dataframe tbody tr th {\n",
       "        vertical-align: top;\n",
       "    }\n",
       "\n",
       "    .dataframe thead th {\n",
       "        text-align: right;\n",
       "    }\n",
       "</style>\n",
       "<table border=\"1\" class=\"dataframe\">\n",
       "  <thead>\n",
       "    <tr style=\"text-align: right;\">\n",
       "      <th></th>\n",
       "      <th>date</th>\n",
       "      <th>hour</th>\n",
       "    </tr>\n",
       "  </thead>\n",
       "  <tbody>\n",
       "    <tr>\n",
       "      <th>0</th>\n",
       "      <td>2020-04-17</td>\n",
       "      <td>5</td>\n",
       "    </tr>\n",
       "    <tr>\n",
       "      <th>1</th>\n",
       "      <td>2020-04-17</td>\n",
       "      <td>5</td>\n",
       "    </tr>\n",
       "    <tr>\n",
       "      <th>2</th>\n",
       "      <td>2020-04-17</td>\n",
       "      <td>5</td>\n",
       "    </tr>\n",
       "    <tr>\n",
       "      <th>3</th>\n",
       "      <td>2020-04-17</td>\n",
       "      <td>5</td>\n",
       "    </tr>\n",
       "    <tr>\n",
       "      <th>4</th>\n",
       "      <td>2020-04-17</td>\n",
       "      <td>5</td>\n",
       "    </tr>\n",
       "    <tr>\n",
       "      <th>...</th>\n",
       "      <td>...</td>\n",
       "      <td>...</td>\n",
       "    </tr>\n",
       "    <tr>\n",
       "      <th>3202</th>\n",
       "      <td>2020-05-21</td>\n",
       "      <td>20</td>\n",
       "    </tr>\n",
       "    <tr>\n",
       "      <th>3203</th>\n",
       "      <td>2020-05-21</td>\n",
       "      <td>20</td>\n",
       "    </tr>\n",
       "    <tr>\n",
       "      <th>3204</th>\n",
       "      <td>2020-05-21</td>\n",
       "      <td>20</td>\n",
       "    </tr>\n",
       "    <tr>\n",
       "      <th>3205</th>\n",
       "      <td>2020-05-21</td>\n",
       "      <td>20</td>\n",
       "    </tr>\n",
       "    <tr>\n",
       "      <th>3206</th>\n",
       "      <td>2020-05-21</td>\n",
       "      <td>20</td>\n",
       "    </tr>\n",
       "  </tbody>\n",
       "</table>\n",
       "<p>3207 rows × 2 columns</p>\n",
       "</div>"
      ],
      "text/plain": [
       "            date  hour\n",
       "0     2020-04-17     5\n",
       "1     2020-04-17     5\n",
       "2     2020-04-17     5\n",
       "3     2020-04-17     5\n",
       "4     2020-04-17     5\n",
       "...          ...   ...\n",
       "3202  2020-05-21    20\n",
       "3203  2020-05-21    20\n",
       "3204  2020-05-21    20\n",
       "3205  2020-05-21    20\n",
       "3206  2020-05-21    20\n",
       "\n",
       "[3207 rows x 2 columns]"
      ]
     },
     "execution_count": 6,
     "metadata": {},
     "output_type": "execute_result"
    }
   ],
   "source": [
    "commits"
   ]
  },
  {
   "cell_type": "code",
   "execution_count": 7,
   "id": "3870d6cc-020d-4c1e-ade3-735d9509bb48",
   "metadata": {},
   "outputs": [],
   "source": [
    "commits['type_of_day'] = (\n",
    "    commits.date.apply(lambda date: 'working_day' if pd.to_datetime(date).dayofweek < 5 else 'weekend')\n",
    ")"
   ]
  },
  {
   "cell_type": "code",
   "execution_count": 8,
   "id": "61853ae7-803f-4f1b-8e20-80379ec2d7c5",
   "metadata": {},
   "outputs": [
    {
     "data": {
      "text/html": [
       "<div>\n",
       "<style scoped>\n",
       "    .dataframe tbody tr th:only-of-type {\n",
       "        vertical-align: middle;\n",
       "    }\n",
       "\n",
       "    .dataframe tbody tr th {\n",
       "        vertical-align: top;\n",
       "    }\n",
       "\n",
       "    .dataframe thead th {\n",
       "        text-align: right;\n",
       "    }\n",
       "</style>\n",
       "<table border=\"1\" class=\"dataframe\">\n",
       "  <thead>\n",
       "    <tr style=\"text-align: right;\">\n",
       "      <th></th>\n",
       "      <th>date</th>\n",
       "      <th>hour</th>\n",
       "      <th>type_of_day</th>\n",
       "    </tr>\n",
       "  </thead>\n",
       "  <tbody>\n",
       "    <tr>\n",
       "      <th>0</th>\n",
       "      <td>2020-04-17</td>\n",
       "      <td>5</td>\n",
       "      <td>working_day</td>\n",
       "    </tr>\n",
       "    <tr>\n",
       "      <th>1</th>\n",
       "      <td>2020-04-17</td>\n",
       "      <td>5</td>\n",
       "      <td>working_day</td>\n",
       "    </tr>\n",
       "    <tr>\n",
       "      <th>2</th>\n",
       "      <td>2020-04-17</td>\n",
       "      <td>5</td>\n",
       "      <td>working_day</td>\n",
       "    </tr>\n",
       "    <tr>\n",
       "      <th>3</th>\n",
       "      <td>2020-04-17</td>\n",
       "      <td>5</td>\n",
       "      <td>working_day</td>\n",
       "    </tr>\n",
       "    <tr>\n",
       "      <th>4</th>\n",
       "      <td>2020-04-17</td>\n",
       "      <td>5</td>\n",
       "      <td>working_day</td>\n",
       "    </tr>\n",
       "    <tr>\n",
       "      <th>...</th>\n",
       "      <td>...</td>\n",
       "      <td>...</td>\n",
       "      <td>...</td>\n",
       "    </tr>\n",
       "    <tr>\n",
       "      <th>3202</th>\n",
       "      <td>2020-05-21</td>\n",
       "      <td>20</td>\n",
       "      <td>working_day</td>\n",
       "    </tr>\n",
       "    <tr>\n",
       "      <th>3203</th>\n",
       "      <td>2020-05-21</td>\n",
       "      <td>20</td>\n",
       "      <td>working_day</td>\n",
       "    </tr>\n",
       "    <tr>\n",
       "      <th>3204</th>\n",
       "      <td>2020-05-21</td>\n",
       "      <td>20</td>\n",
       "      <td>working_day</td>\n",
       "    </tr>\n",
       "    <tr>\n",
       "      <th>3205</th>\n",
       "      <td>2020-05-21</td>\n",
       "      <td>20</td>\n",
       "      <td>working_day</td>\n",
       "    </tr>\n",
       "    <tr>\n",
       "      <th>3206</th>\n",
       "      <td>2020-05-21</td>\n",
       "      <td>20</td>\n",
       "      <td>working_day</td>\n",
       "    </tr>\n",
       "  </tbody>\n",
       "</table>\n",
       "<p>3207 rows × 3 columns</p>\n",
       "</div>"
      ],
      "text/plain": [
       "            date  hour  type_of_day\n",
       "0     2020-04-17     5  working_day\n",
       "1     2020-04-17     5  working_day\n",
       "2     2020-04-17     5  working_day\n",
       "3     2020-04-17     5  working_day\n",
       "4     2020-04-17     5  working_day\n",
       "...          ...   ...          ...\n",
       "3202  2020-05-21    20  working_day\n",
       "3203  2020-05-21    20  working_day\n",
       "3204  2020-05-21    20  working_day\n",
       "3205  2020-05-21    20  working_day\n",
       "3206  2020-05-21    20  working_day\n",
       "\n",
       "[3207 rows x 3 columns]"
      ]
     },
     "execution_count": 8,
     "metadata": {},
     "output_type": "execute_result"
    }
   ],
   "source": [
    "commits"
   ]
  },
  {
   "cell_type": "code",
   "execution_count": 9,
   "id": "75f06eab-9958-44eb-9699-37e3e05acc59",
   "metadata": {},
   "outputs": [
    {
     "name": "stdout",
     "output_type": "stream",
     "text": [
      "<class 'pandas.core.frame.DataFrame'>\n",
      "Int64Index: 2037 entries, 0 to 3206\n",
      "Data columns (total 3 columns):\n",
      " #   Column       Non-Null Count  Dtype \n",
      "---  ------       --------------  ----- \n",
      " 0   date         2037 non-null   object\n",
      " 1   hour         2037 non-null   int64 \n",
      " 2   type_of_day  2037 non-null   object\n",
      "dtypes: int64(1), object(2)\n",
      "memory usage: 63.7+ KB\n",
      "<class 'pandas.core.frame.DataFrame'>\n",
      "Int64Index: 1170 entries, 23 to 3092\n",
      "Data columns (total 3 columns):\n",
      " #   Column       Non-Null Count  Dtype \n",
      "---  ------       --------------  ----- \n",
      " 0   date         1170 non-null   object\n",
      " 1   hour         1170 non-null   int64 \n",
      " 2   type_of_day  1170 non-null   object\n",
      "dtypes: int64(1), object(2)\n",
      "memory usage: 36.6+ KB\n"
     ]
    }
   ],
   "source": [
    "workdays = commits.query(\"type_of_day =='working_day'\")\n",
    "weekend = commits.query(\"type_of_day =='weekend'\")\n",
    "workdays.info()\n",
    "weekend.info()"
   ]
  },
  {
   "cell_type": "code",
   "execution_count": 10,
   "id": "ffd14fe4-6bce-4f8b-a393-3a52c09b3740",
   "metadata": {},
   "outputs": [
    {
     "data": {
      "text/html": [
       "<div>\n",
       "<style scoped>\n",
       "    .dataframe tbody tr th:only-of-type {\n",
       "        vertical-align: middle;\n",
       "    }\n",
       "\n",
       "    .dataframe tbody tr th {\n",
       "        vertical-align: top;\n",
       "    }\n",
       "\n",
       "    .dataframe thead th {\n",
       "        text-align: right;\n",
       "    }\n",
       "</style>\n",
       "<table border=\"1\" class=\"dataframe\">\n",
       "  <thead>\n",
       "    <tr style=\"text-align: right;\">\n",
       "      <th></th>\n",
       "      <th>date</th>\n",
       "      <th>hour</th>\n",
       "      <th>type_of_day</th>\n",
       "    </tr>\n",
       "  </thead>\n",
       "  <tbody>\n",
       "    <tr>\n",
       "      <th>0</th>\n",
       "      <td>2020-04-17</td>\n",
       "      <td>5</td>\n",
       "      <td>working_day</td>\n",
       "    </tr>\n",
       "    <tr>\n",
       "      <th>1</th>\n",
       "      <td>2020-04-17</td>\n",
       "      <td>5</td>\n",
       "      <td>working_day</td>\n",
       "    </tr>\n",
       "    <tr>\n",
       "      <th>2</th>\n",
       "      <td>2020-04-17</td>\n",
       "      <td>5</td>\n",
       "      <td>working_day</td>\n",
       "    </tr>\n",
       "    <tr>\n",
       "      <th>3</th>\n",
       "      <td>2020-04-17</td>\n",
       "      <td>5</td>\n",
       "      <td>working_day</td>\n",
       "    </tr>\n",
       "    <tr>\n",
       "      <th>4</th>\n",
       "      <td>2020-04-17</td>\n",
       "      <td>5</td>\n",
       "      <td>working_day</td>\n",
       "    </tr>\n",
       "    <tr>\n",
       "      <th>...</th>\n",
       "      <td>...</td>\n",
       "      <td>...</td>\n",
       "      <td>...</td>\n",
       "    </tr>\n",
       "    <tr>\n",
       "      <th>3202</th>\n",
       "      <td>2020-05-21</td>\n",
       "      <td>20</td>\n",
       "      <td>working_day</td>\n",
       "    </tr>\n",
       "    <tr>\n",
       "      <th>3203</th>\n",
       "      <td>2020-05-21</td>\n",
       "      <td>20</td>\n",
       "      <td>working_day</td>\n",
       "    </tr>\n",
       "    <tr>\n",
       "      <th>3204</th>\n",
       "      <td>2020-05-21</td>\n",
       "      <td>20</td>\n",
       "      <td>working_day</td>\n",
       "    </tr>\n",
       "    <tr>\n",
       "      <th>3205</th>\n",
       "      <td>2020-05-21</td>\n",
       "      <td>20</td>\n",
       "      <td>working_day</td>\n",
       "    </tr>\n",
       "    <tr>\n",
       "      <th>3206</th>\n",
       "      <td>2020-05-21</td>\n",
       "      <td>20</td>\n",
       "      <td>working_day</td>\n",
       "    </tr>\n",
       "  </tbody>\n",
       "</table>\n",
       "<p>2037 rows × 3 columns</p>\n",
       "</div>"
      ],
      "text/plain": [
       "            date  hour  type_of_day\n",
       "0     2020-04-17     5  working_day\n",
       "1     2020-04-17     5  working_day\n",
       "2     2020-04-17     5  working_day\n",
       "3     2020-04-17     5  working_day\n",
       "4     2020-04-17     5  working_day\n",
       "...          ...   ...          ...\n",
       "3202  2020-05-21    20  working_day\n",
       "3203  2020-05-21    20  working_day\n",
       "3204  2020-05-21    20  working_day\n",
       "3205  2020-05-21    20  working_day\n",
       "3206  2020-05-21    20  working_day\n",
       "\n",
       "[2037 rows x 3 columns]"
      ]
     },
     "execution_count": 10,
     "metadata": {},
     "output_type": "execute_result"
    }
   ],
   "source": [
    "workdays"
   ]
  },
  {
   "cell_type": "code",
   "execution_count": 11,
   "id": "8af62e6b-dc1e-4308-9f30-57f6a573ac23",
   "metadata": {},
   "outputs": [
    {
     "data": {
      "text/html": [
       "<div>\n",
       "<style scoped>\n",
       "    .dataframe tbody tr th:only-of-type {\n",
       "        vertical-align: middle;\n",
       "    }\n",
       "\n",
       "    .dataframe tbody tr th {\n",
       "        vertical-align: top;\n",
       "    }\n",
       "\n",
       "    .dataframe thead th {\n",
       "        text-align: right;\n",
       "    }\n",
       "</style>\n",
       "<table border=\"1\" class=\"dataframe\">\n",
       "  <thead>\n",
       "    <tr style=\"text-align: right;\">\n",
       "      <th></th>\n",
       "      <th>date</th>\n",
       "      <th>hour</th>\n",
       "      <th>type_of_day</th>\n",
       "    </tr>\n",
       "  </thead>\n",
       "  <tbody>\n",
       "    <tr>\n",
       "      <th>23</th>\n",
       "      <td>2020-04-18</td>\n",
       "      <td>7</td>\n",
       "      <td>weekend</td>\n",
       "    </tr>\n",
       "    <tr>\n",
       "      <th>24</th>\n",
       "      <td>2020-04-18</td>\n",
       "      <td>13</td>\n",
       "      <td>weekend</td>\n",
       "    </tr>\n",
       "    <tr>\n",
       "      <th>25</th>\n",
       "      <td>2020-04-18</td>\n",
       "      <td>13</td>\n",
       "      <td>weekend</td>\n",
       "    </tr>\n",
       "    <tr>\n",
       "      <th>26</th>\n",
       "      <td>2020-04-18</td>\n",
       "      <td>13</td>\n",
       "      <td>weekend</td>\n",
       "    </tr>\n",
       "    <tr>\n",
       "      <th>27</th>\n",
       "      <td>2020-04-18</td>\n",
       "      <td>13</td>\n",
       "      <td>weekend</td>\n",
       "    </tr>\n",
       "    <tr>\n",
       "      <th>...</th>\n",
       "      <td>...</td>\n",
       "      <td>...</td>\n",
       "      <td>...</td>\n",
       "    </tr>\n",
       "    <tr>\n",
       "      <th>3088</th>\n",
       "      <td>2020-05-17</td>\n",
       "      <td>22</td>\n",
       "      <td>weekend</td>\n",
       "    </tr>\n",
       "    <tr>\n",
       "      <th>3089</th>\n",
       "      <td>2020-05-17</td>\n",
       "      <td>22</td>\n",
       "      <td>weekend</td>\n",
       "    </tr>\n",
       "    <tr>\n",
       "      <th>3090</th>\n",
       "      <td>2020-05-17</td>\n",
       "      <td>22</td>\n",
       "      <td>weekend</td>\n",
       "    </tr>\n",
       "    <tr>\n",
       "      <th>3091</th>\n",
       "      <td>2020-05-17</td>\n",
       "      <td>22</td>\n",
       "      <td>weekend</td>\n",
       "    </tr>\n",
       "    <tr>\n",
       "      <th>3092</th>\n",
       "      <td>2020-05-17</td>\n",
       "      <td>22</td>\n",
       "      <td>weekend</td>\n",
       "    </tr>\n",
       "  </tbody>\n",
       "</table>\n",
       "<p>1170 rows × 3 columns</p>\n",
       "</div>"
      ],
      "text/plain": [
       "            date  hour type_of_day\n",
       "23    2020-04-18     7     weekend\n",
       "24    2020-04-18    13     weekend\n",
       "25    2020-04-18    13     weekend\n",
       "26    2020-04-18    13     weekend\n",
       "27    2020-04-18    13     weekend\n",
       "...          ...   ...         ...\n",
       "3088  2020-05-17    22     weekend\n",
       "3089  2020-05-17    22     weekend\n",
       "3090  2020-05-17    22     weekend\n",
       "3091  2020-05-17    22     weekend\n",
       "3092  2020-05-17    22     weekend\n",
       "\n",
       "[1170 rows x 3 columns]"
      ]
     },
     "execution_count": 11,
     "metadata": {},
     "output_type": "execute_result"
    }
   ],
   "source": [
    "weekend"
   ]
  },
  {
   "cell_type": "code",
   "execution_count": 12,
   "id": "a2e8e62f-c609-41ff-be33-23496d80c626",
   "metadata": {},
   "outputs": [],
   "source": [
    "workd = list(workdays.hour)"
   ]
  },
  {
   "cell_type": "code",
   "execution_count": 13,
   "id": "ab7d3427-60aa-4576-8f6e-e18d4fa32f8b",
   "metadata": {},
   "outputs": [],
   "source": [
    "weekd = list(weekend.hour)"
   ]
  },
  {
   "cell_type": "code",
   "execution_count": 14,
   "id": "f16fefbe-88c0-4b98-bdcd-67b19bb166b1",
   "metadata": {},
   "outputs": [
    {
     "data": {
      "image/png": "[encoded data removed]",
      "text/plain": [
       "<Figure size 1080x576 with 1 Axes>"
      ]
     },
     "metadata": {
      "needs_background": "light"
     },
     "output_type": "display_data"
    }
   ],
   "source": [
    "plt.figure(figsize=(15, 8))\n",
    "plt.xticks(fontsize=12)\n",
    "wd = plt.hist(workd, stacked=True, bins=24, range=[0,24], alpha=0.7, color='turquoise')\n",
    "we = plt.hist(weekd, stacked=True, bins=24, range=[0,24], alpha=0.7, color='orchid')\n",
    "LL = plt.legend(['working days', 'weekend'])\n",
    "ll = plt.xlim(0,24)"
   ]
  },
  {
   "cell_type": "markdown",
   "id": "9b644e00-0341-4e88-b767-e6ad21599aff",
   "metadata": {},
   "source": [
    "<h2><center>Закрытие соединения с БД</center></h2>"
   ]
  },
  {
   "cell_type": "code",
   "execution_count": 15,
   "id": "037f1d34-5a29-4e0c-a493-f7ab5919496e",
   "metadata": {
    "tags": []
   },
   "outputs": [],
   "source": [
    "connection.close()"
   ]
  },
  {
   "cell_type": "markdown",
   "id": "2ef326dc-4538-477a-b794-fb21befd5e0f",
   "metadata": {},
   "source": [
    "<h2><center>Ответ на вопрос:\n",
    "    Are there hours when the total number of commits was higher on weekends than\n",
    "on working days?</center></h2>"
   ]
  },
  {
   "cell_type": "markdown",
   "id": "4b2cb055-632c-4cab-a45e-3d438998e65a",
   "metadata": {},
   "source": [
    "<h2>Да, по гистаграмме видно, что это было в 11, в 13, в 21 и в 22 часа</h2>"
   ]
  }
 ],
 "metadata": {
  "kernelspec": {
   "display_name": "Python 3 (ipykernel)",
   "language": "python",
   "name": "python3"
  },
  "language_info": {
   "codemirror_mode": {
    "name": "ipython",
    "version": 3
   },
   "file_extension": ".py",
   "mimetype": "text/x-python",
   "name": "python",
   "nbconvert_exporter": "python",
   "pygments_lexer": "ipython3",
   "version": "3.9.7"
  }
 },
 "nbformat": 4,
 "nbformat_minor": 5
}
