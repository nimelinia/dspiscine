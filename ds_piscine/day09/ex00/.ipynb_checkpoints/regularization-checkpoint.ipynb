{
 "cells": [
  {
   "cell_type": "markdown",
   "metadata": {},
   "source": [
    "# Day 09. Exercise 00\n",
    "# Regularization"
   ]
  },
  {
   "cell_type": "markdown",
   "metadata": {},
   "source": [
    "## 0. Imports"
   ]
  },
  {
   "cell_type": "code",
   "execution_count": 1,
   "metadata": {},
   "outputs": [],
   "source": [
    "import pandas as pd\n",
    "import time\n",
    "import numpy as np\n",
    "import matplotlib.pyplot as plt\n",
    "import seaborn as sns\n",
    "import sklearn\n",
    "import tqdm\n",
    "from sklearn import svm\n",
    "from sklearn.preprocessing import OneHotEncoder, StandardScaler\n",
    "from sklearn.metrics import accuracy_score\n",
    "from sklearn.linear_model import LogisticRegression\n",
    "from sklearn.tree import DecisionTreeClassifier\n",
    "from sklearn.ensemble import RandomForestClassifier\n",
    "from sklearn.tree import plot_tree\n",
    "from sklearn.model_selection import train_test_split, cross_val_score, cross_validate, StratifiedKFold\n",
    "import joblib"
   ]
  },
  {
   "cell_type": "markdown",
   "metadata": {},
   "source": [
    "## 1. Preprocessing"
   ]
  },
  {
   "cell_type": "markdown",
   "metadata": {},
   "source": [
    "1. Read the file `dayofweek.csv` that you used in the previous day to a dataframe.\n",
    "2. Using `train_test_split` with parameters `test_size=0.2`, `random_state=21` get `X_train`, `y_train`, `X_test`, `y_test`. Use the additional parameter `stratify`."
   ]
  },
  {
   "cell_type": "code",
   "execution_count": 2,
   "metadata": {},
   "outputs": [
    {
     "data": {
      "text/html": [
       "<div>\n",
       "<style scoped>\n",
       "    .dataframe tbody tr th:only-of-type {\n",
       "        vertical-align: middle;\n",
       "    }\n",
       "\n",
       "    .dataframe tbody tr th {\n",
       "        vertical-align: top;\n",
       "    }\n",
       "\n",
       "    .dataframe thead th {\n",
       "        text-align: right;\n",
       "    }\n",
       "</style>\n",
       "<table border=\"1\" class=\"dataframe\">\n",
       "  <thead>\n",
       "    <tr style=\"text-align: right;\">\n",
       "      <th></th>\n",
       "      <th>numTrials</th>\n",
       "      <th>hour</th>\n",
       "      <th>dayofweek</th>\n",
       "      <th>user_0</th>\n",
       "      <th>user_1</th>\n",
       "      <th>user_10</th>\n",
       "      <th>user_11</th>\n",
       "      <th>user_12</th>\n",
       "      <th>user_13</th>\n",
       "      <th>user_14</th>\n",
       "      <th>...</th>\n",
       "      <th>lab02</th>\n",
       "      <th>lab03</th>\n",
       "      <th>lab03s</th>\n",
       "      <th>lab05s</th>\n",
       "      <th>laba04</th>\n",
       "      <th>laba04s</th>\n",
       "      <th>laba05</th>\n",
       "      <th>laba06</th>\n",
       "      <th>laba06s</th>\n",
       "      <th>project1</th>\n",
       "    </tr>\n",
       "  </thead>\n",
       "  <tbody>\n",
       "    <tr>\n",
       "      <th>0</th>\n",
       "      <td>-0.788667</td>\n",
       "      <td>-2.562352</td>\n",
       "      <td>4</td>\n",
       "      <td>0.0</td>\n",
       "      <td>0.0</td>\n",
       "      <td>0.0</td>\n",
       "      <td>0.0</td>\n",
       "      <td>0.0</td>\n",
       "      <td>0.0</td>\n",
       "      <td>0.0</td>\n",
       "      <td>...</td>\n",
       "      <td>0.0</td>\n",
       "      <td>0.0</td>\n",
       "      <td>0.0</td>\n",
       "      <td>0.0</td>\n",
       "      <td>0.0</td>\n",
       "      <td>0.0</td>\n",
       "      <td>0.0</td>\n",
       "      <td>0.0</td>\n",
       "      <td>0.0</td>\n",
       "      <td>1.0</td>\n",
       "    </tr>\n",
       "    <tr>\n",
       "      <th>1</th>\n",
       "      <td>-0.756764</td>\n",
       "      <td>-2.562352</td>\n",
       "      <td>4</td>\n",
       "      <td>0.0</td>\n",
       "      <td>0.0</td>\n",
       "      <td>0.0</td>\n",
       "      <td>0.0</td>\n",
       "      <td>0.0</td>\n",
       "      <td>0.0</td>\n",
       "      <td>0.0</td>\n",
       "      <td>...</td>\n",
       "      <td>0.0</td>\n",
       "      <td>0.0</td>\n",
       "      <td>0.0</td>\n",
       "      <td>0.0</td>\n",
       "      <td>0.0</td>\n",
       "      <td>0.0</td>\n",
       "      <td>0.0</td>\n",
       "      <td>0.0</td>\n",
       "      <td>0.0</td>\n",
       "      <td>1.0</td>\n",
       "    </tr>\n",
       "    <tr>\n",
       "      <th>2</th>\n",
       "      <td>-0.724861</td>\n",
       "      <td>-2.562352</td>\n",
       "      <td>4</td>\n",
       "      <td>0.0</td>\n",
       "      <td>0.0</td>\n",
       "      <td>0.0</td>\n",
       "      <td>0.0</td>\n",
       "      <td>0.0</td>\n",
       "      <td>0.0</td>\n",
       "      <td>0.0</td>\n",
       "      <td>...</td>\n",
       "      <td>0.0</td>\n",
       "      <td>0.0</td>\n",
       "      <td>0.0</td>\n",
       "      <td>0.0</td>\n",
       "      <td>0.0</td>\n",
       "      <td>0.0</td>\n",
       "      <td>0.0</td>\n",
       "      <td>0.0</td>\n",
       "      <td>0.0</td>\n",
       "      <td>1.0</td>\n",
       "    </tr>\n",
       "    <tr>\n",
       "      <th>3</th>\n",
       "      <td>-0.692958</td>\n",
       "      <td>-2.562352</td>\n",
       "      <td>4</td>\n",
       "      <td>0.0</td>\n",
       "      <td>0.0</td>\n",
       "      <td>0.0</td>\n",
       "      <td>0.0</td>\n",
       "      <td>0.0</td>\n",
       "      <td>0.0</td>\n",
       "      <td>0.0</td>\n",
       "      <td>...</td>\n",
       "      <td>0.0</td>\n",
       "      <td>0.0</td>\n",
       "      <td>0.0</td>\n",
       "      <td>0.0</td>\n",
       "      <td>0.0</td>\n",
       "      <td>0.0</td>\n",
       "      <td>0.0</td>\n",
       "      <td>0.0</td>\n",
       "      <td>0.0</td>\n",
       "      <td>1.0</td>\n",
       "    </tr>\n",
       "    <tr>\n",
       "      <th>4</th>\n",
       "      <td>-0.661055</td>\n",
       "      <td>-2.562352</td>\n",
       "      <td>4</td>\n",
       "      <td>0.0</td>\n",
       "      <td>0.0</td>\n",
       "      <td>0.0</td>\n",
       "      <td>0.0</td>\n",
       "      <td>0.0</td>\n",
       "      <td>0.0</td>\n",
       "      <td>0.0</td>\n",
       "      <td>...</td>\n",
       "      <td>0.0</td>\n",
       "      <td>0.0</td>\n",
       "      <td>0.0</td>\n",
       "      <td>0.0</td>\n",
       "      <td>0.0</td>\n",
       "      <td>0.0</td>\n",
       "      <td>0.0</td>\n",
       "      <td>0.0</td>\n",
       "      <td>0.0</td>\n",
       "      <td>1.0</td>\n",
       "    </tr>\n",
       "    <tr>\n",
       "      <th>...</th>\n",
       "      <td>...</td>\n",
       "      <td>...</td>\n",
       "      <td>...</td>\n",
       "      <td>...</td>\n",
       "      <td>...</td>\n",
       "      <td>...</td>\n",
       "      <td>...</td>\n",
       "      <td>...</td>\n",
       "      <td>...</td>\n",
       "      <td>...</td>\n",
       "      <td>...</td>\n",
       "      <td>...</td>\n",
       "      <td>...</td>\n",
       "      <td>...</td>\n",
       "      <td>...</td>\n",
       "      <td>...</td>\n",
       "      <td>...</td>\n",
       "      <td>...</td>\n",
       "      <td>...</td>\n",
       "      <td>...</td>\n",
       "      <td>...</td>\n",
       "    </tr>\n",
       "    <tr>\n",
       "      <th>1681</th>\n",
       "      <td>-0.533442</td>\n",
       "      <td>0.945382</td>\n",
       "      <td>3</td>\n",
       "      <td>0.0</td>\n",
       "      <td>0.0</td>\n",
       "      <td>0.0</td>\n",
       "      <td>0.0</td>\n",
       "      <td>0.0</td>\n",
       "      <td>0.0</td>\n",
       "      <td>0.0</td>\n",
       "      <td>...</td>\n",
       "      <td>0.0</td>\n",
       "      <td>0.0</td>\n",
       "      <td>0.0</td>\n",
       "      <td>0.0</td>\n",
       "      <td>0.0</td>\n",
       "      <td>0.0</td>\n",
       "      <td>0.0</td>\n",
       "      <td>0.0</td>\n",
       "      <td>1.0</td>\n",
       "      <td>0.0</td>\n",
       "    </tr>\n",
       "    <tr>\n",
       "      <th>1682</th>\n",
       "      <td>-0.629151</td>\n",
       "      <td>0.945382</td>\n",
       "      <td>3</td>\n",
       "      <td>0.0</td>\n",
       "      <td>1.0</td>\n",
       "      <td>0.0</td>\n",
       "      <td>0.0</td>\n",
       "      <td>0.0</td>\n",
       "      <td>0.0</td>\n",
       "      <td>0.0</td>\n",
       "      <td>...</td>\n",
       "      <td>0.0</td>\n",
       "      <td>0.0</td>\n",
       "      <td>0.0</td>\n",
       "      <td>0.0</td>\n",
       "      <td>0.0</td>\n",
       "      <td>0.0</td>\n",
       "      <td>0.0</td>\n",
       "      <td>0.0</td>\n",
       "      <td>1.0</td>\n",
       "      <td>0.0</td>\n",
       "    </tr>\n",
       "    <tr>\n",
       "      <th>1683</th>\n",
       "      <td>-0.597248</td>\n",
       "      <td>0.945382</td>\n",
       "      <td>3</td>\n",
       "      <td>0.0</td>\n",
       "      <td>1.0</td>\n",
       "      <td>0.0</td>\n",
       "      <td>0.0</td>\n",
       "      <td>0.0</td>\n",
       "      <td>0.0</td>\n",
       "      <td>0.0</td>\n",
       "      <td>...</td>\n",
       "      <td>0.0</td>\n",
       "      <td>0.0</td>\n",
       "      <td>0.0</td>\n",
       "      <td>0.0</td>\n",
       "      <td>0.0</td>\n",
       "      <td>0.0</td>\n",
       "      <td>0.0</td>\n",
       "      <td>0.0</td>\n",
       "      <td>1.0</td>\n",
       "      <td>0.0</td>\n",
       "    </tr>\n",
       "    <tr>\n",
       "      <th>1684</th>\n",
       "      <td>-0.565345</td>\n",
       "      <td>0.945382</td>\n",
       "      <td>3</td>\n",
       "      <td>0.0</td>\n",
       "      <td>1.0</td>\n",
       "      <td>0.0</td>\n",
       "      <td>0.0</td>\n",
       "      <td>0.0</td>\n",
       "      <td>0.0</td>\n",
       "      <td>0.0</td>\n",
       "      <td>...</td>\n",
       "      <td>0.0</td>\n",
       "      <td>0.0</td>\n",
       "      <td>0.0</td>\n",
       "      <td>0.0</td>\n",
       "      <td>0.0</td>\n",
       "      <td>0.0</td>\n",
       "      <td>0.0</td>\n",
       "      <td>0.0</td>\n",
       "      <td>1.0</td>\n",
       "      <td>0.0</td>\n",
       "    </tr>\n",
       "    <tr>\n",
       "      <th>1685</th>\n",
       "      <td>-0.533442</td>\n",
       "      <td>0.945382</td>\n",
       "      <td>3</td>\n",
       "      <td>0.0</td>\n",
       "      <td>1.0</td>\n",
       "      <td>0.0</td>\n",
       "      <td>0.0</td>\n",
       "      <td>0.0</td>\n",
       "      <td>0.0</td>\n",
       "      <td>0.0</td>\n",
       "      <td>...</td>\n",
       "      <td>0.0</td>\n",
       "      <td>0.0</td>\n",
       "      <td>0.0</td>\n",
       "      <td>0.0</td>\n",
       "      <td>0.0</td>\n",
       "      <td>0.0</td>\n",
       "      <td>0.0</td>\n",
       "      <td>0.0</td>\n",
       "      <td>1.0</td>\n",
       "      <td>0.0</td>\n",
       "    </tr>\n",
       "  </tbody>\n",
       "</table>\n",
       "<p>1686 rows × 44 columns</p>\n",
       "</div>"
      ],
      "text/plain": [
       "      numTrials      hour  dayofweek  user_0  user_1  user_10  user_11  \\\n",
       "0     -0.788667 -2.562352          4     0.0     0.0      0.0      0.0   \n",
       "1     -0.756764 -2.562352          4     0.0     0.0      0.0      0.0   \n",
       "2     -0.724861 -2.562352          4     0.0     0.0      0.0      0.0   \n",
       "3     -0.692958 -2.562352          4     0.0     0.0      0.0      0.0   \n",
       "4     -0.661055 -2.562352          4     0.0     0.0      0.0      0.0   \n",
       "...         ...       ...        ...     ...     ...      ...      ...   \n",
       "1681  -0.533442  0.945382          3     0.0     0.0      0.0      0.0   \n",
       "1682  -0.629151  0.945382          3     0.0     1.0      0.0      0.0   \n",
       "1683  -0.597248  0.945382          3     0.0     1.0      0.0      0.0   \n",
       "1684  -0.565345  0.945382          3     0.0     1.0      0.0      0.0   \n",
       "1685  -0.533442  0.945382          3     0.0     1.0      0.0      0.0   \n",
       "\n",
       "      user_12  user_13  user_14  ...  lab02  lab03  lab03s  lab05s  laba04  \\\n",
       "0         0.0      0.0      0.0  ...    0.0    0.0     0.0     0.0     0.0   \n",
       "1         0.0      0.0      0.0  ...    0.0    0.0     0.0     0.0     0.0   \n",
       "2         0.0      0.0      0.0  ...    0.0    0.0     0.0     0.0     0.0   \n",
       "3         0.0      0.0      0.0  ...    0.0    0.0     0.0     0.0     0.0   \n",
       "4         0.0      0.0      0.0  ...    0.0    0.0     0.0     0.0     0.0   \n",
       "...       ...      ...      ...  ...    ...    ...     ...     ...     ...   \n",
       "1681      0.0      0.0      0.0  ...    0.0    0.0     0.0     0.0     0.0   \n",
       "1682      0.0      0.0      0.0  ...    0.0    0.0     0.0     0.0     0.0   \n",
       "1683      0.0      0.0      0.0  ...    0.0    0.0     0.0     0.0     0.0   \n",
       "1684      0.0      0.0      0.0  ...    0.0    0.0     0.0     0.0     0.0   \n",
       "1685      0.0      0.0      0.0  ...    0.0    0.0     0.0     0.0     0.0   \n",
       "\n",
       "      laba04s  laba05  laba06  laba06s  project1  \n",
       "0         0.0     0.0     0.0      0.0       1.0  \n",
       "1         0.0     0.0     0.0      0.0       1.0  \n",
       "2         0.0     0.0     0.0      0.0       1.0  \n",
       "3         0.0     0.0     0.0      0.0       1.0  \n",
       "4         0.0     0.0     0.0      0.0       1.0  \n",
       "...       ...     ...     ...      ...       ...  \n",
       "1681      0.0     0.0     0.0      1.0       0.0  \n",
       "1682      0.0     0.0     0.0      1.0       0.0  \n",
       "1683      0.0     0.0     0.0      1.0       0.0  \n",
       "1684      0.0     0.0     0.0      1.0       0.0  \n",
       "1685      0.0     0.0     0.0      1.0       0.0  \n",
       "\n",
       "[1686 rows x 44 columns]"
      ]
     },
     "execution_count": 2,
     "metadata": {},
     "output_type": "execute_result"
    }
   ],
   "source": [
    "df = pd.read_csv(\"../data/dayofweek.csv\")\n",
    "df.drop('Unnamed: 0', axis=1, inplace=True)\n",
    "df"
   ]
  },
  {
   "cell_type": "code",
   "execution_count": 3,
   "metadata": {},
   "outputs": [],
   "source": [
    "X_train, X_test, y_train, y_test = train_test_split(df.drop('dayofweek', axis=1), df['dayofweek'], test_size=0.2, random_state=21, stratify=df['dayofweek'])"
   ]
  },
  {
   "cell_type": "markdown",
   "metadata": {},
   "source": [
    "## 2. Logreg regularization"
   ]
  },
  {
   "cell_type": "markdown",
   "metadata": {},
   "source": [
    "### a. Default regularization"
   ]
  },
  {
   "cell_type": "markdown",
   "metadata": {},
   "source": [
    "1. Train a baseline model with the only parameters `random_state=21`, `fit_intercept=False`.\n",
    "2. Use stratified K-fold cross-validation with `10` splits to evaluate the accuracy of the model\n",
    "\n",
    "\n",
    "The result of the code where you trained and evaluated the baseline model should be exactly like this (use `%%time` to get the info about how long it took to run the cell):\n",
    "\n",
    "```\n",
    "train -  0.62902   |   valid -  0.59259\n",
    "train -  0.64633   |   valid -  0.62963\n",
    "train -  0.63479   |   valid -  0.56296\n",
    "train -  0.65622   |   valid -  0.61481\n",
    "train -  0.63397   |   valid -  0.57778\n",
    "train -  0.64056   |   valid -  0.59259\n",
    "train -  0.64138   |   valid -  0.65926\n",
    "train -  0.65952   |   valid -  0.56296\n",
    "train -  0.64333   |   valid -  0.59701\n",
    "train -  0.63674   |   valid -  0.62687\n",
    "Average accuracy on crossval is 0.60165\n",
    "Std is 0.02943\n",
    "```"
   ]
  },
  {
   "cell_type": "code",
   "execution_count": 4,
   "metadata": {},
   "outputs": [],
   "source": [
    "def crossval(X, y, cv, model):\n",
    "    kf = StratifiedKFold(n_splits=cv)\n",
    "    valids = []\n",
    "    for train, test in kf.split(X, y):\n",
    "        X_train , X_test = X.iloc[train], X.iloc[test]\n",
    "        y_train , y_test = y.iloc[train] , y.iloc[test]\n",
    "        model.fit(X_train, y_train)\n",
    "        acc_valid = round(accuracy_score(y_test, model.predict(X_test)), 5)\n",
    "        valids.append(acc_valid)\n",
    "        acc_valid = format(acc_valid, '0.5f')\n",
    "        acc_train = format(round(accuracy_score(y_train, model.predict(X_train)), 5), '0.5f')\n",
    "        print(f\"train - {acc_train} | valid - {acc_valid}\")\n",
    "        \n",
    "    Avg_ = round(np.mean(valids), 5)\n",
    "    std_ = round(np.std(valids), 5)\n",
    "    print(f\"Average accuracy on crossval is {Avg_}\\nStd is {std_}\")\n",
    "        \n",
    "    "
   ]
  },
  {
   "cell_type": "code",
   "execution_count": 5,
   "metadata": {},
   "outputs": [
    {
     "name": "stdout",
     "output_type": "stream",
     "text": [
      "train - 0.62902 | valid - 0.59259\n",
      "train - 0.64633 | valid - 0.62963\n",
      "train - 0.63479 | valid - 0.56296\n",
      "train - 0.65622 | valid - 0.61481\n",
      "train - 0.63397 | valid - 0.57778\n",
      "train - 0.64056 | valid - 0.59259\n",
      "train - 0.64138 | valid - 0.65926\n",
      "train - 0.65952 | valid - 0.56296\n",
      "train - 0.64333 | valid - 0.59701\n",
      "train - 0.63674 | valid - 0.62687\n",
      "Average accuracy on crossval is 0.60165\n",
      "Std is 0.02943\n"
     ]
    }
   ],
   "source": [
    "logreg = LogisticRegression(fit_intercept=False, random_state=21)\n",
    "crossval(X_train, y_train, 10, logreg)"
   ]
  },
  {
   "cell_type": "markdown",
   "metadata": {},
   "source": [
    "### b. Optimizing regularization parameters"
   ]
  },
  {
   "cell_type": "markdown",
   "metadata": {},
   "source": [
    "1. In the cells below try different values of penalty: `none`, `l1`, `l2` – you can change the values of solver too."
   ]
  },
  {
   "cell_type": "code",
   "execution_count": 6,
   "metadata": {},
   "outputs": [
    {
     "name": "stdout",
     "output_type": "stream",
     "text": [
      "train - 0.62902 | valid - 0.59259\n",
      "train - 0.64633 | valid - 0.62963\n",
      "train - 0.63479 | valid - 0.56296\n",
      "train - 0.65622 | valid - 0.61481\n",
      "train - 0.63397 | valid - 0.57778\n",
      "train - 0.64056 | valid - 0.59259\n",
      "train - 0.64138 | valid - 0.65926\n",
      "train - 0.65952 | valid - 0.56296\n",
      "train - 0.64333 | valid - 0.59701\n",
      "train - 0.63674 | valid - 0.62687\n",
      "Average accuracy on crossval is 0.60165\n",
      "Std is 0.02943\n",
      "CPU times: user 2.03 s, sys: 363 ms, total: 2.39 s\n",
      "Wall time: 406 ms\n"
     ]
    }
   ],
   "source": [
    "%%time\n",
    "logreg = LogisticRegression(penalty='l2', fit_intercept=False, random_state=21)\n",
    "crossval(X_train, y_train, 10, logreg)"
   ]
  },
  {
   "cell_type": "code",
   "execution_count": 7,
   "metadata": {},
   "outputs": [
    {
     "name": "stdout",
     "output_type": "stream",
     "text": [
      "train - 0.61006 | valid - 0.56296\n",
      "train - 0.61665 | valid - 0.61481\n",
      "train - 0.61336 | valid - 0.59259\n",
      "train - 0.62902 | valid - 0.60741\n",
      "train - 0.60923 | valid - 0.55556\n",
      "train - 0.61500 | valid - 0.57778\n",
      "train - 0.61665 | valid - 0.61481\n",
      "train - 0.64056 | valid - 0.53333\n",
      "train - 0.62109 | valid - 0.58209\n",
      "train - 0.61120 | valid - 0.57463\n",
      "Average accuracy on crossval is 0.5816\n",
      "Std is 0.02532\n",
      "CPU times: user 609 ms, sys: 152 ms, total: 761 ms\n",
      "Wall time: 179 ms\n"
     ]
    }
   ],
   "source": [
    "%%time\n",
    "logreg = LogisticRegression(penalty='l2', fit_intercept=False, random_state=21, solver='liblinear')\n",
    "crossval(X_train, y_train, 10, logreg)"
   ]
  },
  {
   "cell_type": "code",
   "execution_count": 8,
   "metadata": {},
   "outputs": [
    {
     "name": "stdout",
     "output_type": "stream",
     "text": [
      "train - 0.61830 | valid - 0.54815\n",
      "train - 0.62737 | valid - 0.62222\n",
      "train - 0.60511 | valid - 0.54074\n",
      "train - 0.63644 | valid - 0.62222\n",
      "train - 0.62407 | valid - 0.55556\n",
      "train - 0.62325 | valid - 0.58519\n",
      "train - 0.61253 | valid - 0.63704\n",
      "train - 0.64716 | valid - 0.58519\n",
      "train - 0.63015 | valid - 0.59701\n",
      "train - 0.61367 | valid - 0.59701\n",
      "Average accuracy on crossval is 0.58903\n",
      "Std is 0.03129\n",
      "CPU times: user 829 ms, sys: 172 ms, total: 1 s\n",
      "Wall time: 170 ms\n"
     ]
    }
   ],
   "source": [
    "%%time\n",
    "logreg = LogisticRegression(penalty='l1', fit_intercept=False, random_state=21, solver='liblinear')\n",
    "crossval(X_train, y_train, 10, logreg)"
   ]
  },
  {
   "cell_type": "code",
   "execution_count": 9,
   "metadata": {},
   "outputs": [
    {
     "name": "stdout",
     "output_type": "stream",
     "text": [
      "train - 0.66694 | valid - 0.63704\n",
      "train - 0.65787 | valid - 0.65926\n",
      "train - 0.66694 | valid - 0.57778\n",
      "train - 0.66529 | valid - 0.62963\n",
      "train - 0.66694 | valid - 0.62222\n",
      "train - 0.65952 | valid - 0.57778\n",
      "train - 0.65045 | valid - 0.69630\n",
      "train - 0.68425 | valid - 0.61481\n",
      "train - 0.66474 | valid - 0.62687\n",
      "train - 0.65651 | valid - 0.60448\n",
      "Average accuracy on crossval is 0.62462\n",
      "Std is 0.03379\n",
      "CPU times: user 10.1 s, sys: 1.23 s, total: 11.4 s\n",
      "Wall time: 1.92 s\n"
     ]
    }
   ],
   "source": [
    "%%time\n",
    "logreg = LogisticRegression(penalty='none', fit_intercept=False, random_state=21, solver='newton-cg')\n",
    "crossval(X_train, y_train, 10, logreg)"
   ]
  },
  {
   "cell_type": "markdown",
   "metadata": {},
   "source": [
    "## 3. SVM regularization"
   ]
  },
  {
   "cell_type": "markdown",
   "metadata": {},
   "source": [
    "### a. Default regularization"
   ]
  },
  {
   "cell_type": "markdown",
   "metadata": {},
   "source": [
    "1. Train a baseline model with the only parameters `probability=True`, `kernel='linear'`, `random_state=21`.\n",
    "2. Use stratified K-fold cross-validation with `10` splits to evaluate the accuracy of the model.\n",
    "3. The format of the result of the code where you trained and evaluated the baseline model should be similar to what you have got for the logreg."
   ]
  },
  {
   "cell_type": "code",
   "execution_count": 10,
   "metadata": {},
   "outputs": [
    {
     "name": "stdout",
     "output_type": "stream",
     "text": [
      "train - 0.70486 | valid - 0.65926\n",
      "train - 0.69662 | valid - 0.75556\n",
      "train - 0.69415 | valid - 0.62222\n",
      "train - 0.70239 | valid - 0.65185\n",
      "train - 0.69085 | valid - 0.65185\n",
      "train - 0.68920 | valid - 0.64444\n",
      "train - 0.69250 | valid - 0.72593\n",
      "train - 0.70074 | valid - 0.62222\n",
      "train - 0.69605 | valid - 0.61940\n",
      "train - 0.71087 | valid - 0.63433\n",
      "Average accuracy on crossval is 0.65871\n",
      "Std is 0.04359\n"
     ]
    }
   ],
   "source": [
    "my_svm = svm.SVC(random_state = 21, probability=True, kernel='linear')\n",
    "crossval(X_train, y_train, 10, my_svm)"
   ]
  },
  {
   "cell_type": "markdown",
   "metadata": {},
   "source": [
    "### b. Optimizing regularization parameters"
   ]
  },
  {
   "cell_type": "markdown",
   "metadata": {},
   "source": [
    "1. In the cells below try different values of the parameter `C`."
   ]
  },
  {
   "cell_type": "code",
   "execution_count": 11,
   "metadata": {},
   "outputs": [
    {
     "name": "stdout",
     "output_type": "stream",
     "text": [
      "train - 0.70734 | valid - 0.65926\n",
      "train - 0.71393 | valid - 0.75556\n",
      "train - 0.74526 | valid - 0.63704\n",
      "train - 0.71558 | valid - 0.66667\n",
      "train - 0.71146 | valid - 0.67407\n",
      "train - 0.70157 | valid - 0.63704\n",
      "train - 0.70651 | valid - 0.71852\n",
      "train - 0.70981 | valid - 0.64444\n",
      "train - 0.72405 | valid - 0.64925\n",
      "train - 0.72488 | valid - 0.64179\n",
      "Average accuracy on crossval is 0.66836\n",
      "Std is 0.03721\n"
     ]
    }
   ],
   "source": [
    "my_svm = svm.SVC(C=2.0, random_state = 21, probability=True, kernel='linear')\n",
    "crossval(X_train, y_train, 10, my_svm)"
   ]
  },
  {
   "cell_type": "code",
   "execution_count": 12,
   "metadata": {},
   "outputs": [
    {
     "name": "stdout",
     "output_type": "stream",
     "text": [
      "train - 0.71723 | valid - 0.65185\n",
      "train - 0.76257 | valid - 0.81481\n",
      "train - 0.77906 | valid - 0.68148\n",
      "train - 0.73537 | valid - 0.67407\n",
      "train - 0.72135 | valid - 0.73333\n",
      "train - 0.72960 | valid - 0.70370\n",
      "train - 0.72712 | valid - 0.71852\n",
      "train - 0.75021 | valid - 0.65926\n",
      "train - 0.76112 | valid - 0.67164\n",
      "train - 0.76359 | valid - 0.68657\n",
      "Average accuracy on crossval is 0.69952\n",
      "Std is 0.04541\n"
     ]
    }
   ],
   "source": [
    "my_svm = svm.SVC(C=5.0, random_state = 21, probability=True, kernel='linear')\n",
    "crossval(X_train, y_train, 10, my_svm)"
   ]
  },
  {
   "cell_type": "code",
   "execution_count": 13,
   "metadata": {},
   "outputs": [
    {
     "name": "stdout",
     "output_type": "stream",
     "text": [
      "train - 0.78401 | valid - 0.74815\n",
      "train - 0.79720 | valid - 0.84444\n",
      "train - 0.80956 | valid - 0.72593\n",
      "train - 0.79060 | valid - 0.76296\n",
      "train - 0.79060 | valid - 0.77778\n",
      "train - 0.79637 | valid - 0.74815\n",
      "train - 0.78401 | valid - 0.77037\n",
      "train - 0.80462 | valid - 0.73333\n",
      "train - 0.79819 | valid - 0.70896\n",
      "train - 0.79901 | valid - 0.73881\n",
      "Average accuracy on crossval is 0.75589\n",
      "Std is 0.0355\n"
     ]
    }
   ],
   "source": [
    "my_svm = svm.SVC(C=100.0, random_state = 21, probability=True, kernel='linear')\n",
    "crossval(X_train, y_train, 10, my_svm)"
   ]
  },
  {
   "cell_type": "markdown",
   "metadata": {},
   "source": [
    "## 4. Tree"
   ]
  },
  {
   "cell_type": "markdown",
   "metadata": {},
   "source": [
    "### a. Default regularization"
   ]
  },
  {
   "cell_type": "markdown",
   "metadata": {},
   "source": [
    "1. Train a baseline model with the only parameter `max_depth=10` and `random_state=21`.\n",
    "2. Use stratified K-fold cross-validation with `10` splits to evaluate the accuracy of the model.\n",
    "3. The format of the result of the code where you trained and evaluated the baseline model should be similar to what you have got for the logreg."
   ]
  },
  {
   "cell_type": "code",
   "execution_count": 14,
   "metadata": {},
   "outputs": [
    {
     "name": "stdout",
     "output_type": "stream",
     "text": [
      "train - 0.81039 | valid - 0.74074\n",
      "train - 0.77741 | valid - 0.74074\n",
      "train - 0.83347 | valid - 0.70370\n",
      "train - 0.79720 | valid - 0.76296\n",
      "train - 0.82440 | valid - 0.75556\n",
      "train - 0.80379 | valid - 0.68889\n",
      "train - 0.80709 | valid - 0.76296\n",
      "train - 0.80132 | valid - 0.65926\n",
      "train - 0.80807 | valid - 0.75373\n",
      "train - 0.80478 | valid - 0.68657\n",
      "Average accuracy on crossval is 0.72551\n",
      "Std is 0.03562\n"
     ]
    }
   ],
   "source": [
    "dtc_model = DecisionTreeClassifier(max_depth = 10, random_state = 21)\n",
    "crossval(X_train, y_train, 10, dtc_model)"
   ]
  },
  {
   "cell_type": "markdown",
   "metadata": {},
   "source": [
    "### b. Optimizing regularization parameters"
   ]
  },
  {
   "cell_type": "markdown",
   "metadata": {},
   "source": [
    "1. In the cells below try different values of the parameter `max_depth`.\n",
    "2. As a bonus, play with other regularization parameters trying to find the best combination."
   ]
  },
  {
   "cell_type": "code",
   "execution_count": 15,
   "metadata": {},
   "outputs": [
    {
     "name": "stdout",
     "output_type": "stream",
     "text": [
      "train - 0.98846 | valid - 0.86667\n",
      "train - 0.99011 | valid - 0.91111\n",
      "train - 0.98681 | valid - 0.85926\n",
      "train - 0.98763 | valid - 0.91111\n",
      "train - 0.98928 | valid - 0.88148\n",
      "train - 0.98186 | valid - 0.85926\n",
      "train - 0.98846 | valid - 0.91852\n",
      "train - 0.99176 | valid - 0.89630\n",
      "train - 0.99094 | valid - 0.88060\n",
      "train - 0.98847 | valid - 0.88060\n",
      "Average accuracy on crossval is 0.88649\n",
      "Std is 0.02075\n"
     ]
    }
   ],
   "source": [
    "dtc_model = DecisionTreeClassifier(max_depth = 20, random_state = 21)\n",
    "crossval(X_train, y_train, 10, dtc_model)"
   ]
  },
  {
   "cell_type": "code",
   "execution_count": 16,
   "metadata": {},
   "outputs": [
    {
     "name": "stdout",
     "output_type": "stream",
     "text": [
      "train - 0.99753 | valid - 0.85926\n",
      "train - 0.99588 | valid - 0.90370\n",
      "train - 0.99588 | valid - 0.86667\n",
      "train - 0.99753 | valid - 0.89630\n",
      "train - 0.99670 | valid - 0.88148\n",
      "train - 0.99423 | valid - 0.85926\n",
      "train - 0.99505 | valid - 0.92593\n",
      "train - 0.99670 | valid - 0.88148\n",
      "train - 0.99918 | valid - 0.88060\n",
      "train - 0.99506 | valid - 0.88060\n",
      "Average accuracy on crossval is 0.88353\n",
      "Std is 0.01964\n"
     ]
    }
   ],
   "source": [
    "dtc_model = DecisionTreeClassifier(max_depth = 23, random_state = 21)\n",
    "crossval(X_train, y_train, 10, dtc_model)"
   ]
  },
  {
   "cell_type": "code",
   "execution_count": 17,
   "metadata": {},
   "outputs": [
    {
     "name": "stdout",
     "output_type": "stream",
     "text": [
      "train - 0.99176 | valid - 0.86667\n",
      "train - 0.99176 | valid - 0.90370\n",
      "train - 0.99093 | valid - 0.85926\n",
      "train - 0.99176 | valid - 0.89630\n",
      "train - 0.99093 | valid - 0.88148\n",
      "train - 0.98516 | valid - 0.88148\n",
      "train - 0.98928 | valid - 0.91852\n",
      "train - 0.99423 | valid - 0.87407\n",
      "train - 0.99588 | valid - 0.86567\n",
      "train - 0.99012 | valid - 0.88060\n",
      "Average accuracy on crossval is 0.88278\n",
      "Std is 0.01757\n"
     ]
    }
   ],
   "source": [
    "dtc_model = DecisionTreeClassifier(max_depth = 21, random_state = 21)\n",
    "crossval(X_train, y_train, 10, dtc_model)"
   ]
  },
  {
   "cell_type": "code",
   "execution_count": 18,
   "metadata": {},
   "outputs": [
    {
     "name": "stdout",
     "output_type": "stream",
     "text": [
      "train - 1.00000 | valid - 0.85926\n",
      "train - 1.00000 | valid - 0.91852\n",
      "train - 1.00000 | valid - 0.86667\n",
      "train - 1.00000 | valid - 0.91111\n",
      "train - 1.00000 | valid - 0.88148\n",
      "train - 1.00000 | valid - 0.85185\n",
      "train - 1.00000 | valid - 0.92593\n",
      "train - 1.00000 | valid - 0.88148\n",
      "train - 1.00000 | valid - 0.88060\n",
      "train - 1.00000 | valid - 0.88060\n",
      "Average accuracy on crossval is 0.88575\n",
      "Std is 0.02374\n"
     ]
    }
   ],
   "source": [
    "dtc_model = DecisionTreeClassifier(max_depth = 100, random_state = 21)\n",
    "crossval(X_train, y_train, 10, dtc_model)"
   ]
  },
  {
   "cell_type": "markdown",
   "metadata": {},
   "source": [
    "## 5. Random forest"
   ]
  },
  {
   "cell_type": "markdown",
   "metadata": {},
   "source": [
    "### a. Default regularization"
   ]
  },
  {
   "cell_type": "markdown",
   "metadata": {},
   "source": [
    "1. Train a baseline model with the only parameters `n_estimators=50`, `max_depth=14`, `random_state=21`.\n",
    "2. Use stratified K-fold cross-validation with `10` splits to evaluate the accuracy of the model.\n",
    "3. The format of the result of the code where you trained and evaluated the baseline model should be similar to what you have got for the logreg."
   ]
  },
  {
   "cell_type": "code",
   "execution_count": 19,
   "metadata": {},
   "outputs": [
    {
     "name": "stdout",
     "output_type": "stream",
     "text": [
      "train - 0.96455 | valid - 0.88148\n",
      "train - 0.96208 | valid - 0.91852\n",
      "train - 0.96785 | valid - 0.86667\n",
      "train - 0.96455 | valid - 0.89630\n",
      "train - 0.96538 | valid - 0.91111\n",
      "train - 0.96538 | valid - 0.88148\n",
      "train - 0.97115 | valid - 0.91852\n",
      "train - 0.96867 | valid - 0.85185\n",
      "train - 0.97364 | valid - 0.88060\n",
      "train - 0.97941 | valid - 0.86567\n",
      "Average accuracy on crossval is 0.88722\n",
      "Std is 0.02205\n"
     ]
    }
   ],
   "source": [
    "rf = RandomForestClassifier(n_estimators = 50, max_depth = 14, random_state = 21)\n",
    "crossval(X_train, y_train, 10, rf)"
   ]
  },
  {
   "cell_type": "markdown",
   "metadata": {},
   "source": [
    "### b. Optimizing regularization parameters"
   ]
  },
  {
   "cell_type": "markdown",
   "metadata": {},
   "source": [
    "1. In the new cells try different values of the parameters `max_depth` and `n_estimators`.\n",
    "2. As a bonus, play with other regularization parameters trying to find the best combination."
   ]
  },
  {
   "cell_type": "code",
   "execution_count": 20,
   "metadata": {},
   "outputs": [
    {
     "name": "stdout",
     "output_type": "stream",
     "text": [
      "train - 0.96950 | valid - 0.87407\n",
      "train - 0.96867 | valid - 0.91111\n",
      "train - 0.97197 | valid - 0.87407\n",
      "train - 0.96867 | valid - 0.89630\n",
      "train - 0.96867 | valid - 0.90370\n",
      "train - 0.96702 | valid - 0.85926\n",
      "train - 0.97444 | valid - 0.91111\n",
      "train - 0.96950 | valid - 0.88148\n",
      "train - 0.97117 | valid - 0.88060\n",
      "train - 0.97199 | valid - 0.86567\n",
      "Average accuracy on crossval is 0.88574\n",
      "Std is 0.01773\n"
     ]
    }
   ],
   "source": [
    "rf = RandomForestClassifier(n_estimators = 100, max_depth = 14, random_state = 21)\n",
    "crossval(X_train, y_train, 10, rf)"
   ]
  },
  {
   "cell_type": "code",
   "execution_count": 21,
   "metadata": {},
   "outputs": [
    {
     "name": "stdout",
     "output_type": "stream",
     "text": [
      "train - 1.00000 | valid - 0.90370\n",
      "train - 1.00000 | valid - 0.94074\n",
      "train - 1.00000 | valid - 0.89630\n",
      "train - 1.00000 | valid - 0.93333\n",
      "train - 1.00000 | valid - 0.91852\n",
      "train - 0.99918 | valid - 0.89630\n",
      "train - 1.00000 | valid - 0.91852\n",
      "train - 1.00000 | valid - 0.89630\n",
      "train - 1.00000 | valid - 0.92537\n",
      "train - 0.99918 | valid - 0.88806\n",
      "Average accuracy on crossval is 0.91171\n",
      "Std is 0.0171\n"
     ]
    }
   ],
   "source": [
    "rf = RandomForestClassifier(n_estimators = 50, max_depth = 30, random_state = 21)\n",
    "crossval(X_train, y_train, 10, rf)"
   ]
  },
  {
   "cell_type": "code",
   "execution_count": 22,
   "metadata": {},
   "outputs": [
    {
     "name": "stdout",
     "output_type": "stream",
     "text": [
      "train - 1.00000 | valid - 0.89630\n",
      "train - 1.00000 | valid - 0.94815\n",
      "train - 1.00000 | valid - 0.90370\n",
      "train - 1.00000 | valid - 0.93333\n",
      "train - 1.00000 | valid - 0.91111\n",
      "train - 1.00000 | valid - 0.89630\n",
      "train - 1.00000 | valid - 0.91852\n",
      "train - 1.00000 | valid - 0.90370\n",
      "train - 1.00000 | valid - 0.93284\n",
      "train - 0.99918 | valid - 0.89552\n",
      "Average accuracy on crossval is 0.91395\n",
      "Std is 0.01762\n"
     ]
    }
   ],
   "source": [
    "rf = RandomForestClassifier(n_estimators = 50, max_depth = 50, random_state = 21)\n",
    "crossval(X_train, y_train, 10, rf)"
   ]
  },
  {
   "cell_type": "code",
   "execution_count": 23,
   "metadata": {},
   "outputs": [
    {
     "name": "stdout",
     "output_type": "stream",
     "text": [
      "train - 1.00000 | valid - 0.88889\n",
      "train - 1.00000 | valid - 0.94074\n",
      "train - 0.99918 | valid - 0.91852\n",
      "train - 1.00000 | valid - 0.94074\n",
      "train - 1.00000 | valid - 0.90370\n",
      "train - 1.00000 | valid - 0.89630\n",
      "train - 1.00000 | valid - 0.92593\n",
      "train - 1.00000 | valid - 0.88889\n",
      "train - 1.00000 | valid - 0.92537\n",
      "train - 1.00000 | valid - 0.90299\n",
      "Average accuracy on crossval is 0.91321\n",
      "Std is 0.01875\n"
     ]
    }
   ],
   "source": [
    "rf = RandomForestClassifier(n_estimators = 30, max_depth = 70, random_state = 21)\n",
    "crossval(X_train, y_train, 10, rf)"
   ]
  },
  {
   "cell_type": "code",
   "execution_count": 24,
   "metadata": {},
   "outputs": [
    {
     "name": "stdout",
     "output_type": "stream",
     "text": [
      "train - 1.00000 | valid - 0.90370\n",
      "train - 1.00000 | valid - 0.95556\n",
      "train - 1.00000 | valid - 0.91852\n",
      "train - 1.00000 | valid - 0.93333\n",
      "train - 1.00000 | valid - 0.91111\n",
      "train - 1.00000 | valid - 0.89630\n",
      "train - 1.00000 | valid - 0.91852\n",
      "train - 1.00000 | valid - 0.91111\n",
      "train - 1.00000 | valid - 0.93284\n",
      "train - 0.99918 | valid - 0.86567\n",
      "Average accuracy on crossval is 0.91467\n",
      "Std is 0.02294\n"
     ]
    }
   ],
   "source": [
    "rf = RandomForestClassifier(n_estimators = 50, max_depth = 50, random_state = 21, criterion='entropy')\n",
    "crossval(X_train, y_train, 10, rf)"
   ]
  },
  {
   "cell_type": "markdown",
   "metadata": {},
   "source": [
    "## 6. Predictions"
   ]
  },
  {
   "cell_type": "markdown",
   "metadata": {},
   "source": [
    "1. Choose the best model and use it to make predictions for the test dataset.\n",
    "2. Calculate the final accuracy.\n",
    "3. Analyze: for which weekday your model makes the most errors (in % of the total number of samples of that class in your test dataset).\n",
    "4. Save the model."
   ]
  },
  {
   "cell_type": "code",
   "execution_count": 25,
   "metadata": {},
   "outputs": [],
   "source": [
    "best_model = RandomForestClassifier(n_estimators = 50, max_depth = 50, random_state = 21)"
   ]
  },
  {
   "cell_type": "code",
   "execution_count": 26,
   "metadata": {},
   "outputs": [
    {
     "data": {
      "text/plain": [
       "RandomForestClassifier(max_depth=50, n_estimators=50, random_state=21)"
      ]
     },
     "execution_count": 26,
     "metadata": {},
     "output_type": "execute_result"
    }
   ],
   "source": [
    "best_model.fit(X_train, y_train)"
   ]
  },
  {
   "cell_type": "code",
   "execution_count": 27,
   "metadata": {},
   "outputs": [
    {
     "data": {
      "text/plain": [
       "0.9289940828402367"
      ]
     },
     "execution_count": 27,
     "metadata": {},
     "output_type": "execute_result"
    }
   ],
   "source": [
    "accuracy_score(y_test, best_model.predict(X_test))"
   ]
  },
  {
   "cell_type": "code",
   "execution_count": 28,
   "metadata": {},
   "outputs": [],
   "source": [
    "predict = best_model.predict(X_test)"
   ]
  },
  {
   "cell_type": "code",
   "execution_count": 30,
   "metadata": {},
   "outputs": [],
   "source": [
    "res = pd.DataFrame()\n",
    "res['test'] = y_test\n",
    "res.reset_index(inplace=True)\n",
    "res['predict'] = pd.Series(predict)\n",
    "res['diff'] = res.test == res.predict\n",
    "analys = res.groupby(['diff', 'test']).count().predict"
   ]
  },
  {
   "cell_type": "code",
   "execution_count": 31,
   "metadata": {},
   "outputs": [
    {
     "data": {
      "text/plain": [
       "test\n",
       "0    0.259259\n",
       "1    0.054545\n",
       "2    0.066667\n",
       "3    0.037500\n",
       "4    0.142857\n",
       "5    0.092593\n",
       "6    0.014085\n",
       "Name: predict, dtype: float64"
      ]
     },
     "execution_count": 31,
     "metadata": {},
     "output_type": "execute_result"
    }
   ],
   "source": [
    "analys[0] / (analys[0] + analys[1])"
   ]
  },
  {
   "cell_type": "markdown",
   "metadata": {},
   "source": [
    "Больше всего модель ошибалась в предсказании понедельника"
   ]
  },
  {
   "cell_type": "code",
   "execution_count": 32,
   "metadata": {},
   "outputs": [
    {
     "data": {
      "text/plain": [
       "['../data/model_regulirization.sav']"
      ]
     },
     "execution_count": 32,
     "metadata": {},
     "output_type": "execute_result"
    }
   ],
   "source": [
    "file_name = '../data/model_regulirization.sav'\n",
    "joblib.dump(best_model, file_name)"
   ]
  }
 ],
 "metadata": {
  "kernelspec": {
   "display_name": "Python 3 (ipykernel)",
   "language": "python",
   "name": "python3"
  },
  "language_info": {
   "codemirror_mode": {
    "name": "ipython",
    "version": 3
   },
   "file_extension": ".py",
   "mimetype": "text/x-python",
   "name": "python",
   "nbconvert_exporter": "python",
   "pygments_lexer": "ipython3",
   "version": "3.9.7"
  }
 },
 "nbformat": 4,
 "nbformat_minor": 4
}
