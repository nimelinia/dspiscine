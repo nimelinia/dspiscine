{
 "cells": [
  {
   "cell_type": "code",
   "execution_count": 9,
   "id": "cb550f9d-ea01-4de5-8959-d7f4e43b088b",
   "metadata": {},
   "outputs": [],
   "source": [
    "def split_smile(s):\n",
    "    predel = len(s)\n",
    "    res = ''\n",
    "    i = 0\n",
    "    while i < predel:\n",
    "        while i < predel and s[i] != ':':\n",
    "            res += s[i]\n",
    "            i += 1\n",
    "        if i + 2 < predel:\n",
    "            if s[i+1] == '-' and (s[i+2] == ')' or s[i+2] == '('):\n",
    "                sym = s[i+2]\n",
    "                i += 3\n",
    "                while i < predel and s[i] == sym:\n",
    "                    i += 1\n",
    "                i -= 1\n",
    "            else:\n",
    "                res += s[i]\n",
    "        elif i < predel:\n",
    "            res += s[i]\n",
    "        i += 1\n",
    "    return res\n",
    "    \n",
    "        "
   ]
  },
  {
   "cell_type": "code",
   "execution_count": 26,
   "id": "41fa6497-cd88-4782-b741-a46b97daefcc",
   "metadata": {},
   "outputs": [
    {
     "name": "stdout",
     "output_type": "stream",
     "text": [
      "a:aaaa-)\n"
     ]
    }
   ],
   "source": [
    "print(split_smile(':-))a:aaaa-)'))"
   ]
  },
  {
   "cell_type": "code",
   "execution_count": null,
   "id": "08f606db-71c0-4eb0-a15c-ca320e4edc7b",
   "metadata": {},
   "outputs": [],
   "source": []
  }
 ],
 "metadata": {
  "kernelspec": {
   "display_name": "Python 3 (ipykernel)",
   "language": "python",
   "name": "python3"
  },
  "language_info": {
   "codemirror_mode": {
    "name": "ipython",
    "version": 3
   },
   "file_extension": ".py",
   "mimetype": "text/x-python",
   "name": "python",
   "nbconvert_exporter": "python",
   "pygments_lexer": "ipython3",
   "version": "3.9.7"
  }
 },
 "nbformat": 4,
 "nbformat_minor": 5
}
