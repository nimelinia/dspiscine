{
 "cells": [
  {
   "cell_type": "code",
   "execution_count": 1,
   "id": "56343e9e-9586-4863-a054-f8af1d49c990",
   "metadata": {
    "tags": []
   },
   "outputs": [],
   "source": [
    "import pandas as pd"
   ]
  },
  {
   "cell_type": "code",
   "execution_count": 2,
   "id": "0703c07a-2524-4bd3-94ff-9ff44b10e223",
   "metadata": {},
   "outputs": [],
   "source": [
    "import sqlite3"
   ]
  },
  {
   "cell_type": "markdown",
   "id": "1e2e2f16-b2a3-4b68-a3fe-3e519dd9dbae",
   "metadata": {},
   "source": [
    "<h2><center>Соединение с БД</center></h2>"
   ]
  },
  {
   "cell_type": "code",
   "execution_count": 3,
   "id": "b56caa10-d845-4a69-bad4-8ade486ba4b9",
   "metadata": {},
   "outputs": [],
   "source": [
    "connection = sqlite3.connect('../data/checking-logs.sqlite')"
   ]
  },
  {
   "cell_type": "markdown",
   "id": "280a5a4e-a3f5-4964-9708-ed013e83e014",
   "metadata": {
    "tags": []
   },
   "source": [
    "<h2><center>Запросы к БД</center></h2>"
   ]
  },
  {
   "cell_type": "code",
   "execution_count": 4,
   "id": "1f2340f3-8bc0-4aec-b9eb-4396cb3f443b",
   "metadata": {},
   "outputs": [],
   "source": [
    "test_results = pd.io.sql.read_sql(\"select buf.time, avg(dif) as avg_diff from (select test.uid, \\\n",
    "                (deadlines.deadlines - strftime('%s', test.first_commit_ts)) / 3600 as dif, case \\\n",
    "                when test.first_commit_ts < test.first_view_ts then 'before' else 'after' end as time \\\n",
    "                from test left join deadlines on test.labname = deadlines.labs where test.labname not like 'project1' \\\n",
    "                ) as buf where (select count(*) from test where test.labname not like 'project1' and test.first_commit_ts < test.first_view_ts \\\n",
    "                and test.uid = buf.uid) > 0 and (select count(*) from test where test.labname not like 'project1' \\\n",
    "                and test.first_commit_ts > test.first_view_ts and test.uid = buf.uid) > 0 group by buf.time\", connection)"
   ]
  },
  {
   "cell_type": "code",
   "execution_count": 5,
   "id": "5ca94772-677a-49b1-87c9-678632cdccaa",
   "metadata": {},
   "outputs": [
    {
     "data": {
      "text/html": [
       "<div>\n",
       "<style scoped>\n",
       "    .dataframe tbody tr th:only-of-type {\n",
       "        vertical-align: middle;\n",
       "    }\n",
       "\n",
       "    .dataframe tbody tr th {\n",
       "        vertical-align: top;\n",
       "    }\n",
       "\n",
       "    .dataframe thead th {\n",
       "        text-align: right;\n",
       "    }\n",
       "</style>\n",
       "<table border=\"1\" class=\"dataframe\">\n",
       "  <thead>\n",
       "    <tr style=\"text-align: right;\">\n",
       "      <th></th>\n",
       "      <th>time</th>\n",
       "      <th>avg_diff</th>\n",
       "    </tr>\n",
       "  </thead>\n",
       "  <tbody>\n",
       "    <tr>\n",
       "      <th>0</th>\n",
       "      <td>after</td>\n",
       "      <td>104.6000</td>\n",
       "    </tr>\n",
       "    <tr>\n",
       "      <th>1</th>\n",
       "      <td>before</td>\n",
       "      <td>60.5625</td>\n",
       "    </tr>\n",
       "  </tbody>\n",
       "</table>\n",
       "</div>"
      ],
      "text/plain": [
       "     time  avg_diff\n",
       "0   after  104.6000\n",
       "1  before   60.5625"
      ]
     },
     "execution_count": 5,
     "metadata": {},
     "output_type": "execute_result"
    }
   ],
   "source": [
    "test_results"
   ]
  },
  {
   "cell_type": "code",
   "execution_count": 6,
   "id": "0e3429fc-2202-477f-983a-8d1524aaa1be",
   "metadata": {},
   "outputs": [],
   "source": [
    "control_results = pd.io.sql.read_sql(\"select buf.time, avg(dif) as avg_diff from (select control.uid, \\\n",
    "                (deadlines.deadlines - strftime('%s', control.first_commit_ts)) / 3600 as dif, case \\\n",
    "                when control.first_commit_ts < control.first_view_ts then 'before' else 'after' end as time \\\n",
    "                from control left join deadlines on control.labname = deadlines.labs where control.labname not like 'project1' \\\n",
    "                ) as buf where (select count(*) from control where control.labname not like 'project1' and \\\n",
    "                control.first_commit_ts < control.first_view_ts \\\n",
    "                and control.uid = buf.uid) > 0 and (select count(*) from control where control.labname not like 'project1' \\\n",
    "                and control.first_commit_ts > control.first_view_ts and control.uid = buf.uid) > 0 group by buf.time\", connection)"
   ]
  },
  {
   "cell_type": "code",
   "execution_count": 7,
   "id": "be441118-dea0-4f2c-9569-babf1a3b9731",
   "metadata": {},
   "outputs": [
    {
     "data": {
      "text/html": [
       "<div>\n",
       "<style scoped>\n",
       "    .dataframe tbody tr th:only-of-type {\n",
       "        vertical-align: middle;\n",
       "    }\n",
       "\n",
       "    .dataframe tbody tr th {\n",
       "        vertical-align: top;\n",
       "    }\n",
       "\n",
       "    .dataframe thead th {\n",
       "        text-align: right;\n",
       "    }\n",
       "</style>\n",
       "<table border=\"1\" class=\"dataframe\">\n",
       "  <thead>\n",
       "    <tr style=\"text-align: right;\">\n",
       "      <th></th>\n",
       "      <th>time</th>\n",
       "      <th>avg_diff</th>\n",
       "    </tr>\n",
       "  </thead>\n",
       "  <tbody>\n",
       "    <tr>\n",
       "      <th>0</th>\n",
       "      <td>after</td>\n",
       "      <td>117.636364</td>\n",
       "    </tr>\n",
       "    <tr>\n",
       "      <th>1</th>\n",
       "      <td>before</td>\n",
       "      <td>99.464286</td>\n",
       "    </tr>\n",
       "  </tbody>\n",
       "</table>\n",
       "</div>"
      ],
      "text/plain": [
       "     time    avg_diff\n",
       "0   after  117.636364\n",
       "1  before   99.464286"
      ]
     },
     "execution_count": 7,
     "metadata": {},
     "output_type": "execute_result"
    }
   ],
   "source": [
    "control_results"
   ]
  },
  {
   "cell_type": "markdown",
   "id": "5af33151-9d28-41dd-bad8-e11e95b05698",
   "metadata": {},
   "source": [
    "<h2><center>Закрытие соединения с БД</center></h2>"
   ]
  },
  {
   "cell_type": "code",
   "execution_count": 8,
   "id": "a54cbae3-cf27-434a-b008-0d99be3f78a9",
   "metadata": {
    "tags": []
   },
   "outputs": [],
   "source": [
    "connection.close()"
   ]
  },
  {
   "cell_type": "markdown",
   "id": "afec7b0b-56ca-4c5b-9094-c1f71263bf46",
   "metadata": {},
   "source": [
    "<h2>Поскольку в тестовой группе разница существенно больше, чем в контрольной - гипотеза может быть верной </h2>"
   ]
  },
  {
   "cell_type": "code",
   "execution_count": null,
   "id": "ec407238-02dd-40e1-9481-29e156041f77",
   "metadata": {},
   "outputs": [],
   "source": []
  }
 ],
 "metadata": {
  "kernelspec": {
   "display_name": "Python 3 (ipykernel)",
   "language": "python",
   "name": "python3"
  },
  "language_info": {
   "codemirror_mode": {
    "name": "ipython",
    "version": 3
   },
   "file_extension": ".py",
   "mimetype": "text/x-python",
   "name": "python",
   "nbconvert_exporter": "python",
   "pygments_lexer": "ipython3",
   "version": "3.9.7"
  }
 },
 "nbformat": 4,
 "nbformat_minor": 5
}
