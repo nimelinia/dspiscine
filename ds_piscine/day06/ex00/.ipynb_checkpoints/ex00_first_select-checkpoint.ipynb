{
 "cells": [
  {
   "cell_type": "code",
   "execution_count": 1,
   "id": "c8a5c14d-449c-4635-a6bb-00c1aab03b68",
   "metadata": {
    "tags": []
   },
   "outputs": [],
   "source": [
    "import pandas as pd"
   ]
  },
  {
   "cell_type": "code",
   "execution_count": 2,
   "id": "38d6956f-ac6c-43eb-b248-a06d62e83fc7",
   "metadata": {},
   "outputs": [],
   "source": [
    "import sqlite3"
   ]
  },
  {
   "cell_type": "markdown",
   "id": "e3407064-d670-4db7-aa4a-e7a3d0c84120",
   "metadata": {},
   "source": [
    "<h2><center>Соединение с БД</center></h2>"
   ]
  },
  {
   "cell_type": "code",
   "execution_count": 3,
   "id": "4a2db8dc-bd17-41d7-aabc-61b58b621464",
   "metadata": {},
   "outputs": [],
   "source": [
    "connection = sqlite3.connect('../data/checking-logs.sqlite')"
   ]
  },
  {
   "cell_type": "markdown",
   "id": "8fef0562-ac46-4c52-89ab-7d7753455248",
   "metadata": {
    "tags": []
   },
   "source": [
    "<h2><center>Запросы к БД</center></h2>"
   ]
  },
  {
   "cell_type": "code",
   "execution_count": 4,
   "id": "a9d69130-d58b-46d7-abef-341500ce3c14",
   "metadata": {
    "tags": []
   },
   "outputs": [
    {
     "data": {
      "text/html": [
       "<div>\n",
       "<style scoped>\n",
       "    .dataframe tbody tr th:only-of-type {\n",
       "        vertical-align: middle;\n",
       "    }\n",
       "\n",
       "    .dataframe tbody tr th {\n",
       "        vertical-align: top;\n",
       "    }\n",
       "\n",
       "    .dataframe thead th {\n",
       "        text-align: right;\n",
       "    }\n",
       "</style>\n",
       "<table border=\"1\" class=\"dataframe\">\n",
       "  <thead>\n",
       "    <tr style=\"text-align: right;\">\n",
       "      <th></th>\n",
       "      <th>cid</th>\n",
       "      <th>name</th>\n",
       "      <th>type</th>\n",
       "      <th>notnull</th>\n",
       "      <th>dflt_value</th>\n",
       "      <th>pk</th>\n",
       "    </tr>\n",
       "  </thead>\n",
       "  <tbody>\n",
       "    <tr>\n",
       "      <th>0</th>\n",
       "      <td>0</td>\n",
       "      <td>index</td>\n",
       "      <td>INTEGER</td>\n",
       "      <td>0</td>\n",
       "      <td>None</td>\n",
       "      <td>0</td>\n",
       "    </tr>\n",
       "    <tr>\n",
       "      <th>1</th>\n",
       "      <td>1</td>\n",
       "      <td>uid</td>\n",
       "      <td>TEXT</td>\n",
       "      <td>0</td>\n",
       "      <td>None</td>\n",
       "      <td>0</td>\n",
       "    </tr>\n",
       "    <tr>\n",
       "      <th>2</th>\n",
       "      <td>2</td>\n",
       "      <td>datetime</td>\n",
       "      <td>TIMESTAMP</td>\n",
       "      <td>0</td>\n",
       "      <td>None</td>\n",
       "      <td>0</td>\n",
       "    </tr>\n",
       "  </tbody>\n",
       "</table>\n",
       "</div>"
      ],
      "text/plain": [
       "   cid      name       type  notnull dflt_value  pk\n",
       "0    0     index    INTEGER        0       None   0\n",
       "1    1       uid       TEXT        0       None   0\n",
       "2    2  datetime  TIMESTAMP        0       None   0"
      ]
     },
     "execution_count": 4,
     "metadata": {},
     "output_type": "execute_result"
    }
   ],
   "source": [
    "pd.io.sql.read_sql('PRAGMA table_info(pageviews);', connection)"
   ]
  },
  {
   "cell_type": "code",
   "execution_count": 5,
   "id": "3d1d2676-8ab3-4255-b641-4bbff64f4259",
   "metadata": {},
   "outputs": [
    {
     "data": {
      "text/html": [
       "<div>\n",
       "<style scoped>\n",
       "    .dataframe tbody tr th:only-of-type {\n",
       "        vertical-align: middle;\n",
       "    }\n",
       "\n",
       "    .dataframe tbody tr th {\n",
       "        vertical-align: top;\n",
       "    }\n",
       "\n",
       "    .dataframe thead th {\n",
       "        text-align: right;\n",
       "    }\n",
       "</style>\n",
       "<table border=\"1\" class=\"dataframe\">\n",
       "  <thead>\n",
       "    <tr style=\"text-align: right;\">\n",
       "      <th></th>\n",
       "      <th>index</th>\n",
       "      <th>uid</th>\n",
       "      <th>datetime</th>\n",
       "    </tr>\n",
       "  </thead>\n",
       "  <tbody>\n",
       "    <tr>\n",
       "      <th>0</th>\n",
       "      <td>0</td>\n",
       "      <td>admin_1</td>\n",
       "      <td>2020-04-17 12:01:08.463179</td>\n",
       "    </tr>\n",
       "    <tr>\n",
       "      <th>1</th>\n",
       "      <td>1</td>\n",
       "      <td>admin_1</td>\n",
       "      <td>2020-04-17 12:01:23.743946</td>\n",
       "    </tr>\n",
       "    <tr>\n",
       "      <th>2</th>\n",
       "      <td>2</td>\n",
       "      <td>admin_3</td>\n",
       "      <td>2020-04-17 12:17:39.287778</td>\n",
       "    </tr>\n",
       "    <tr>\n",
       "      <th>3</th>\n",
       "      <td>3</td>\n",
       "      <td>admin_3</td>\n",
       "      <td>2020-04-17 12:17:40.001768</td>\n",
       "    </tr>\n",
       "    <tr>\n",
       "      <th>4</th>\n",
       "      <td>4</td>\n",
       "      <td>admin_1</td>\n",
       "      <td>2020-04-17 12:27:30.646665</td>\n",
       "    </tr>\n",
       "    <tr>\n",
       "      <th>...</th>\n",
       "      <td>...</td>\n",
       "      <td>...</td>\n",
       "      <td>...</td>\n",
       "    </tr>\n",
       "    <tr>\n",
       "      <th>1075</th>\n",
       "      <td>1075</td>\n",
       "      <td>user_25</td>\n",
       "      <td>2020-05-21 23:23:49.995349</td>\n",
       "    </tr>\n",
       "    <tr>\n",
       "      <th>1076</th>\n",
       "      <td>1076</td>\n",
       "      <td>admin_1</td>\n",
       "      <td>2020-05-21 23:49:22.386789</td>\n",
       "    </tr>\n",
       "    <tr>\n",
       "      <th>1077</th>\n",
       "      <td>1077</td>\n",
       "      <td>admin_1</td>\n",
       "      <td>2020-05-22 10:36:14.662600</td>\n",
       "    </tr>\n",
       "    <tr>\n",
       "      <th>1078</th>\n",
       "      <td>1078</td>\n",
       "      <td>user_5</td>\n",
       "      <td>2020-05-22 11:30:18.368990</td>\n",
       "    </tr>\n",
       "    <tr>\n",
       "      <th>1079</th>\n",
       "      <td>1079</td>\n",
       "      <td>user_17</td>\n",
       "      <td>2020-05-22 18:22:22.847815</td>\n",
       "    </tr>\n",
       "  </tbody>\n",
       "</table>\n",
       "<p>1080 rows × 3 columns</p>\n",
       "</div>"
      ],
      "text/plain": [
       "      index      uid                    datetime\n",
       "0         0  admin_1  2020-04-17 12:01:08.463179\n",
       "1         1  admin_1  2020-04-17 12:01:23.743946\n",
       "2         2  admin_3  2020-04-17 12:17:39.287778\n",
       "3         3  admin_3  2020-04-17 12:17:40.001768\n",
       "4         4  admin_1  2020-04-17 12:27:30.646665\n",
       "...     ...      ...                         ...\n",
       "1075   1075  user_25  2020-05-21 23:23:49.995349\n",
       "1076   1076  admin_1  2020-05-21 23:49:22.386789\n",
       "1077   1077  admin_1  2020-05-22 10:36:14.662600\n",
       "1078   1078   user_5  2020-05-22 11:30:18.368990\n",
       "1079   1079  user_17  2020-05-22 18:22:22.847815\n",
       "\n",
       "[1080 rows x 3 columns]"
      ]
     },
     "execution_count": 5,
     "metadata": {},
     "output_type": "execute_result"
    }
   ],
   "source": [
    "pd.io.sql.read_sql(\"select * from pageviews\", connection)"
   ]
  },
  {
   "cell_type": "code",
   "execution_count": 6,
   "id": "af86f4b1-9f53-44fd-9f14-835815e13e09",
   "metadata": {},
   "outputs": [
    {
     "data": {
      "text/html": [
       "<div>\n",
       "<style scoped>\n",
       "    .dataframe tbody tr th:only-of-type {\n",
       "        vertical-align: middle;\n",
       "    }\n",
       "\n",
       "    .dataframe tbody tr th {\n",
       "        vertical-align: top;\n",
       "    }\n",
       "\n",
       "    .dataframe thead th {\n",
       "        text-align: right;\n",
       "    }\n",
       "</style>\n",
       "<table border=\"1\" class=\"dataframe\">\n",
       "  <thead>\n",
       "    <tr style=\"text-align: right;\">\n",
       "      <th></th>\n",
       "      <th>index</th>\n",
       "      <th>uid</th>\n",
       "      <th>datetime</th>\n",
       "    </tr>\n",
       "  </thead>\n",
       "  <tbody>\n",
       "    <tr>\n",
       "      <th>0</th>\n",
       "      <td>1</td>\n",
       "      <td>admin_1</td>\n",
       "      <td>2020-04-17 12:01:23.743946</td>\n",
       "    </tr>\n",
       "    <tr>\n",
       "      <th>1</th>\n",
       "      <td>2</td>\n",
       "      <td>admin_3</td>\n",
       "      <td>2020-04-17 12:17:39.287778</td>\n",
       "    </tr>\n",
       "    <tr>\n",
       "      <th>2</th>\n",
       "      <td>3</td>\n",
       "      <td>admin_3</td>\n",
       "      <td>2020-04-17 12:17:40.001768</td>\n",
       "    </tr>\n",
       "    <tr>\n",
       "      <th>3</th>\n",
       "      <td>4</td>\n",
       "      <td>admin_1</td>\n",
       "      <td>2020-04-17 12:27:30.646665</td>\n",
       "    </tr>\n",
       "    <tr>\n",
       "      <th>4</th>\n",
       "      <td>5</td>\n",
       "      <td>admin_1</td>\n",
       "      <td>2020-04-17 12:35:44.884757</td>\n",
       "    </tr>\n",
       "    <tr>\n",
       "      <th>5</th>\n",
       "      <td>6</td>\n",
       "      <td>admin_1</td>\n",
       "      <td>2020-04-17 12:35:52.735016</td>\n",
       "    </tr>\n",
       "    <tr>\n",
       "      <th>6</th>\n",
       "      <td>7</td>\n",
       "      <td>admin_3</td>\n",
       "      <td>2020-04-17 12:36:21.401412</td>\n",
       "    </tr>\n",
       "    <tr>\n",
       "      <th>7</th>\n",
       "      <td>8</td>\n",
       "      <td>admin_3</td>\n",
       "      <td>2020-04-17 12:36:22.023355</td>\n",
       "    </tr>\n",
       "    <tr>\n",
       "      <th>8</th>\n",
       "      <td>9</td>\n",
       "      <td>admin_1</td>\n",
       "      <td>2020-04-17 13:55:19.129243</td>\n",
       "    </tr>\n",
       "    <tr>\n",
       "      <th>9</th>\n",
       "      <td>10</td>\n",
       "      <td>admin_1</td>\n",
       "      <td>2020-04-17 15:00:33.138530</td>\n",
       "    </tr>\n",
       "  </tbody>\n",
       "</table>\n",
       "</div>"
      ],
      "text/plain": [
       "   index      uid                    datetime\n",
       "0      1  admin_1  2020-04-17 12:01:23.743946\n",
       "1      2  admin_3  2020-04-17 12:17:39.287778\n",
       "2      3  admin_3  2020-04-17 12:17:40.001768\n",
       "3      4  admin_1  2020-04-17 12:27:30.646665\n",
       "4      5  admin_1  2020-04-17 12:35:44.884757\n",
       "5      6  admin_1  2020-04-17 12:35:52.735016\n",
       "6      7  admin_3  2020-04-17 12:36:21.401412\n",
       "7      8  admin_3  2020-04-17 12:36:22.023355\n",
       "8      9  admin_1  2020-04-17 13:55:19.129243\n",
       "9     10  admin_1  2020-04-17 15:00:33.138530"
      ]
     },
     "execution_count": 6,
     "metadata": {},
     "output_type": "execute_result"
    }
   ],
   "source": [
    "pd.io.sql.read_sql(\"select * from pageviews limit 1, 10\", connection)"
   ]
  },
  {
   "cell_type": "code",
   "execution_count": 7,
   "id": "f6f8e364-bfb8-481f-9fa4-fdbd6b7f4eb5",
   "metadata": {},
   "outputs": [],
   "source": [
    "pageviews = pd.io.sql.read_sql(\"select uid, datetime from pageviews where uid like '%user%' order by uid asc\", connection, index_col='datetime', parse_dates='datetime')"
   ]
  },
  {
   "cell_type": "code",
   "execution_count": 8,
   "id": "f544ccbe-4e8a-4117-bac7-097e48bb2988",
   "metadata": {},
   "outputs": [
    {
     "data": {
      "text/plain": [
       "DatetimeIndex(['2020-04-26 21:53:59.624136', '2020-04-26 22:06:19.478143',\n",
       "               '2020-04-26 22:12:09.614497', '2020-04-30 19:29:01.831635',\n",
       "               '2020-05-05 20:26:32.894852', '2020-05-07 18:51:12.029577',\n",
       "               '2020-05-11 21:56:54.292312', '2020-05-14 22:56:14.464582',\n",
       "               '2020-05-14 23:59:38.758438', '2020-05-15 00:05:27.798227',\n",
       "               ...\n",
       "               '2020-05-19 11:42:52.923123', '2020-05-19 11:53:36.247138',\n",
       "               '2020-05-19 11:55:47.392661', '2020-05-19 12:04:10.045383',\n",
       "               '2020-04-17 22:46:26.785035', '2020-04-29 16:51:21.877630',\n",
       "               '2020-05-09 20:30:47.034282', '2020-05-22 11:30:18.368990',\n",
       "               '2020-05-21 16:28:28.217529', '2020-05-21 16:36:40.915488'],\n",
       "              dtype='datetime64[ns]', name='datetime', length=987, freq=None)"
      ]
     },
     "execution_count": 8,
     "metadata": {},
     "output_type": "execute_result"
    }
   ],
   "source": [
    "pageviews.index"
   ]
  },
  {
   "cell_type": "markdown",
   "id": "ed717639-695c-44c8-862d-b9cb08944c11",
   "metadata": {},
   "source": [
    "<h2><center>Закрытие соединения с БД</center></h2>"
   ]
  },
  {
   "cell_type": "code",
   "execution_count": 9,
   "id": "f2925391-3b9d-4ec9-9135-42d3c33ddac8",
   "metadata": {},
   "outputs": [],
   "source": [
    "connection.close()"
   ]
  },
  {
   "cell_type": "code",
   "execution_count": 10,
   "id": "88332c73-2fbd-4948-be81-c25542877e5f",
   "metadata": {},
   "outputs": [
    {
     "name": "stdout",
     "output_type": "stream",
     "text": [
      "<class 'pandas.core.frame.DataFrame'>\n",
      "DatetimeIndex: 987 entries, 2020-04-26 21:53:59.624136 to 2020-05-21 16:36:40.915488\n",
      "Data columns (total 1 columns):\n",
      " #   Column  Non-Null Count  Dtype \n",
      "---  ------  --------------  ----- \n",
      " 0   uid     987 non-null    object\n",
      "dtypes: object(1)\n",
      "memory usage: 15.4+ KB\n"
     ]
    }
   ],
   "source": [
    "pageviews.info()"
   ]
  },
  {
   "cell_type": "code",
   "execution_count": null,
   "id": "7477ed95-1e91-4e83-8b1b-0fd90dc4de6d",
   "metadata": {},
   "outputs": [],
   "source": []
  }
 ],
 "metadata": {
  "kernelspec": {
   "display_name": "Python 3 (ipykernel)",
   "language": "python",
   "name": "python3"
  },
  "language_info": {
   "codemirror_mode": {
    "name": "ipython",
    "version": 3
   },
   "file_extension": ".py",
   "mimetype": "text/x-python",
   "name": "python",
   "nbconvert_exporter": "python",
   "pygments_lexer": "ipython3",
   "version": "3.9.7"
  }
 },
 "nbformat": 4,
 "nbformat_minor": 5
}
