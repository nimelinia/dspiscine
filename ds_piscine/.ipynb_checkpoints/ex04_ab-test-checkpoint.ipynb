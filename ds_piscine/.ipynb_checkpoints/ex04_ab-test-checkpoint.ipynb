{
 "cells": [
  {
   "cell_type": "code",
   "execution_count": 1,
   "metadata": {},
   "outputs": [],
   "source": [
    "import pandas as pd\n",
    "import sqlite3"
   ]
  },
  {
   "cell_type": "markdown",
   "metadata": {},
   "source": [
    "## Create a connection to the database using the library `sqlite3`"
   ]
  },
  {
   "cell_type": "code",
   "execution_count": 2,
   "metadata": {},
   "outputs": [],
   "source": [
    "con = sqlite3.connect('../data/checking-logs.sqlite')"
   ]
  },
  {
   "cell_type": "markdown",
   "metadata": {},
   "source": [
    "## Using only one query for each of the groups, create two dataframes: `test_results` and `control_results` with the columns `time` and `avg_diff` and only two rows\n",
    "\n",
    "- `time` should have the values: `after` and `before`\n",
    "\n",
    "- `avg_diff` contains the average delta among all the users for the time period before each of them made their first visit to the page and afterward\n",
    "\n",
    "- only take into account the users that have observations before and after\n",
    "\n",
    "- we still are not using the lab `'project1'`"
   ]
  },
  {
   "cell_type": "code",
   "execution_count": 3,
   "metadata": {},
   "outputs": [],
   "source": [
    "test_results = pd.io.sql.read_sql(\n",
    "    \"\"\"\n",
    "    select\n",
    "        tmp.time,\n",
    "        avg(diff) as avg_diff\n",
    "        from (\n",
    "            select\n",
    "                test.uid,\n",
    "                (deadlines.deadlines - strftime('%s', test.first_commit_ts)) / 3600 as diff,\n",
    "                case\n",
    "                    when test.first_commit_ts < test.first_view_ts then 'before'\n",
    "                    else 'after'\n",
    "                end as time\n",
    "            from test\n",
    "            left join deadlines\n",
    "            on test.labname = deadlines.labs\n",
    "            where test.labname <> 'project1'\n",
    "        ) as tmp\n",
    "        where (\n",
    "            select count(*)\n",
    "            from test\n",
    "            where test.labname <> 'project1'\n",
    "            and test.first_commit_ts < test.first_view_ts\n",
    "            and test.uid = tmp.uid\n",
    "        ) > 0\n",
    "        and (\n",
    "            select count(*)\n",
    "            from test\n",
    "            where test.labname <> 'project1'\n",
    "            and test.first_commit_ts > test.first_view_ts\n",
    "            and test.uid = tmp.uid\n",
    "        ) > 0\n",
    "        group by tmp.time\n",
    "    \"\"\",\n",
    "    con,\n",
    ")"
   ]
  },
  {
   "cell_type": "code",
   "execution_count": 4,
   "metadata": {},
   "outputs": [
    {
     "data": {
      "text/html": [
       "<div>\n",
       "<style scoped>\n",
       "    .dataframe tbody tr th:only-of-type {\n",
       "        vertical-align: middle;\n",
       "    }\n",
       "\n",
       "    .dataframe tbody tr th {\n",
       "        vertical-align: top;\n",
       "    }\n",
       "\n",
       "    .dataframe thead th {\n",
       "        text-align: right;\n",
       "    }\n",
       "</style>\n",
       "<table border=\"1\" class=\"dataframe\">\n",
       "  <thead>\n",
       "    <tr style=\"text-align: right;\">\n",
       "      <th></th>\n",
       "      <th>time</th>\n",
       "      <th>avg_diff</th>\n",
       "    </tr>\n",
       "  </thead>\n",
       "  <tbody>\n",
       "    <tr>\n",
       "      <th>0</th>\n",
       "      <td>after</td>\n",
       "      <td>104.6000</td>\n",
       "    </tr>\n",
       "    <tr>\n",
       "      <th>1</th>\n",
       "      <td>before</td>\n",
       "      <td>60.5625</td>\n",
       "    </tr>\n",
       "  </tbody>\n",
       "</table>\n",
       "</div>"
      ],
      "text/plain": [
       "     time  avg_diff\n",
       "0   after  104.6000\n",
       "1  before   60.5625"
      ]
     },
     "execution_count": 4,
     "metadata": {},
     "output_type": "execute_result"
    }
   ],
   "source": [
    "test_results"
   ]
  },
  {
   "cell_type": "code",
   "execution_count": 5,
   "metadata": {},
   "outputs": [],
   "source": [
    "control_results = pd.io.sql.read_sql(\n",
    "    \"\"\"\n",
    "    select\n",
    "        tmp.time,\n",
    "        avg(diff) as avg_diff\n",
    "        from (\n",
    "            select\n",
    "                control.uid,\n",
    "                (deadlines.deadlines - strftime('%s', control.first_commit_ts)) / 3600 as diff,\n",
    "                case\n",
    "                    when control.first_commit_ts < control.first_view_ts then 'before'\n",
    "                    else 'after'\n",
    "                end as time\n",
    "            from control\n",
    "            left join deadlines\n",
    "            on control.labname = deadlines.labs\n",
    "            where control.labname <> 'project1'\n",
    "        ) as tmp\n",
    "        where (\n",
    "            select count(*)\n",
    "            from control\n",
    "            where control.labname <> 'project1'\n",
    "            and control.first_commit_ts < control.first_view_ts\n",
    "            and control.uid = tmp.uid\n",
    "        ) > 0\n",
    "        and (\n",
    "            select count(*)\n",
    "            from control\n",
    "            where control.labname <> 'project1'\n",
    "            and control.first_commit_ts > control.first_view_ts\n",
    "            and control.uid = tmp.uid\n",
    "        ) > 0\n",
    "        group by tmp.time\n",
    "    \"\"\",\n",
    "    con,\n",
    ")"
   ]
  },
  {
   "cell_type": "code",
   "execution_count": 6,
   "metadata": {},
   "outputs": [
    {
     "data": {
      "text/html": [
       "<div>\n",
       "<style scoped>\n",
       "    .dataframe tbody tr th:only-of-type {\n",
       "        vertical-align: middle;\n",
       "    }\n",
       "\n",
       "    .dataframe tbody tr th {\n",
       "        vertical-align: top;\n",
       "    }\n",
       "\n",
       "    .dataframe thead th {\n",
       "        text-align: right;\n",
       "    }\n",
       "</style>\n",
       "<table border=\"1\" class=\"dataframe\">\n",
       "  <thead>\n",
       "    <tr style=\"text-align: right;\">\n",
       "      <th></th>\n",
       "      <th>time</th>\n",
       "      <th>avg_diff</th>\n",
       "    </tr>\n",
       "  </thead>\n",
       "  <tbody>\n",
       "    <tr>\n",
       "      <th>0</th>\n",
       "      <td>after</td>\n",
       "      <td>117.636364</td>\n",
       "    </tr>\n",
       "    <tr>\n",
       "      <th>1</th>\n",
       "      <td>before</td>\n",
       "      <td>99.464286</td>\n",
       "    </tr>\n",
       "  </tbody>\n",
       "</table>\n",
       "</div>"
      ],
      "text/plain": [
       "     time    avg_diff\n",
       "0   after  117.636364\n",
       "1  before   99.464286"
      ]
     },
     "execution_count": 6,
     "metadata": {},
     "output_type": "execute_result"
    }
   ],
   "source": [
    "control_results"
   ]
  },
  {
   "cell_type": "markdown",
   "metadata": {},
   "source": [
    "## Close the connection"
   ]
  },
  {
   "cell_type": "code",
   "execution_count": 7,
   "metadata": {},
   "outputs": [],
   "source": [
    "con.close()"
   ]
  },
  {
   "cell_type": "markdown",
   "metadata": {},
   "source": [
    "## Have the answer: did the hypothesis turn out to be true and the page does affect the students' behavior?"
   ]
  },
  {
   "cell_type": "markdown",
   "metadata": {},
   "source": [
    "#### Difference in test group ~44 hours, difference in control group ~18 hours, so the hypothesis was true"
   ]
  }
 ],
 "metadata": {
  "kernelspec": {
   "display_name": "Python 3",
   "language": "python",
   "name": "python3"
  },
  "language_info": {
   "codemirror_mode": {
    "name": "ipython",
    "version": 3
   },
   "file_extension": ".py",
   "mimetype": "text/x-python",
   "name": "python",
   "nbconvert_exporter": "python",
   "pygments_lexer": "ipython3",
   "version": "3.8.5"
  }
 },
 "nbformat": 4,
 "nbformat_minor": 4
}
