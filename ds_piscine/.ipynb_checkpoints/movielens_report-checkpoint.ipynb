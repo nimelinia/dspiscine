{
 "cells": [
  {
   "cell_type": "markdown",
   "id": "4faeac35",
   "metadata": {},
   "source": [
    "# MovieLens Report\n",
    "Rush00 (Python DS School 21)"
   ]
  },
  {
   "cell_type": "markdown",
   "id": "1db89ae2",
   "metadata": {},
   "source": [
    "* Any built-in function is allowed\n",
    "* You can import the following libraries: os, sys, urllib, requests, beautifulsoup, json, pytest, collections, functools, datetime, re\n",
    "* Use Jupyter Notebook for creating the report\n",
    "\n",
    "## Task\n",
    "\n",
    "In this rush, you are going to work on your own analytical report. You will analyze data from the MovieLens database. By the end of the rush, you will have two files: movielens_analysis.py and movielens_report.ipynb.In the first file, you will need to create your own module with classes and methods. In the second file, you will create the report itself using only your module.\n",
    "\n",
    "#### Перевод\n",
    "\n",
    "В этой спешке вы будете работать над собственным аналитическим отчетом. Вы проанализируете данные из базы данных MovieLens. К концу спешки у вас будет два файла: movielens_analysis.py и movielens_report.ipynb. В первом файле вам нужно будет создать свой собственный модуль с классами и методами. Во втором файле вы создадите сам отчет, используя только свой модуль."
   ]
  },
  {
   "cell_type": "markdown",
   "id": "81a2c2f2",
   "metadata": {},
   "source": [
    "### Module\n",
    "\n",
    "Remember that the goal of the rush is to strengthen your skills.\n",
    "Try to use as much as you can from what you have learned from the previous days.\n",
    "\n",
    "* Use a smaller version of MovieLens dataset, download it, please\n",
    "* Read the README.txt very carefully. Focus on the file structures\n",
    "* In your module, you will need to create 4 classes corresponding to 4 files from the data and 1 class for testing\n",
    "* The classes and methods below are obligatory but you can add to them anything that suits your needs\n",
    "\n",
    "Class Ratings, Tags, Movies, Links can be found in attachments\n",
    "\n",
    "Class Tests:\n",
    "Create tests using PyTest for each and every method of the classes above.\n",
    "They should check:\n",
    "* if the methods return the correct data types\n",
    "* if the lists elements have the correct data types\n",
    "* if the returned data sorted correctly\n",
    "Run the tests before going to the next stage of the rush.\n",
    "\n",
    "#### Перевод\n",
    "\n",
    "Помните, что цель спешки - укрепить свои навыки.\n",
    "Постарайтесь использовать как можно больше из того, что вы узнали в предыдущие дни.\n",
    "\n",
    "* Используйте уменьшенную версию набора данных MovieLens, загрузите ее, пожалуйста\n",
    "* Внимательно прочтите README.txt. Сосредоточьтесь на файловых структурах\n",
    "* В вашем модуле вам нужно будет создать 4 класса, соответствующие 4 файлам из данных и 1 класс для тестирования\n",
    "* Приведенные ниже классы и методы являются обязательными, но вы можете добавить к ним все, что вам нужно.\n",
    "\n",
    "Рейтинги классов, теги, фильмы, ссылки можно найти во вложениях\n",
    "\n",
    "Классные тесты:\n",
    "Создавайте тесты с помощью PyTest для каждого метода перечисленных выше классов.\n",
    "Им следует проверить:\n",
    "* если методы возвращают правильные типы данных\n",
    "* если элементы списков имеют правильные типы данных\n",
    "* правильно ли отсортированы возвращаемые данные\n",
    "Перед тем, как перейти к следующему этапу раша, запустите тесты. "
   ]
  },
  {
   "cell_type": "markdown",
   "id": "c0fa1987",
   "metadata": {},
   "source": [
    "### Report\n",
    "\n",
    "Using only the classes and methods from movielens_analysis.py,\n",
    "prepare your report.\n",
    "You should do it in Jupyter Notebook.\n",
    "It is a great tool especially if you are a data scientist.\n",
    "It gives you an opportunity to work with the code interactively\n",
    "by launching and relaunching different cells with different values.\n",
    "You do not have to rerun your whole code from the beginning.\n",
    "Also, you can put in the cells not only code but text too,\n",
    "which is a great feature for making reports.\n",
    "Install it to your environment.\n",
    "In this part of the rush, we will give you more freedom.\n",
    "We are not going to define the structure of your report.\n",
    "The goal of the report is to tell us an interesting story\n",
    "about the MovieLens dataset.\n",
    "Find the good structure and the right sequence.\n",
    "\n",
    "The only constraints:\n",
    "* you must use each and every method from movielens_analysis.py except class Tests\n",
    "* every cell in your notebook should contain magic command %timeit\n",
    "* all other imports are prohibited as well as using built-in functions. If you need them, put them in your module in advance\n",
    "\n",
    "#### Перевод\n",
    "\n",
    "Используя только классы и методы из movielens_analysis.py, подготовьте свой отчет.\n",
    "Вы должны сделать это в Jupyter Notebook.\n",
    "Это отличный инструмент, особенно если вы специалист по данным.\n",
    "Дает возможность работать с кодом в интерактивном режиме путем запуска и перезапуска разных ячеек с разными значениями.\n",
    "Вам не нужно перезапускать весь код с самого начала.\n",
    "Также вы можете поместить в ячейки не только код, но и текст, что является отличной функцией для составления отчетов.\n",
    "Установите его в свою среду.\n",
    "В этой части спешки мы дадим вам больше свободы.\n",
    "Мы не собираемся определять структуру вашего отчета.\n",
    "Цель отчета - рассказать нам интересную историю о наборе данных MovieLens.\n",
    "Найдите хорошую структуру и правильную последовательность.\n",
    "\n",
    "Единственные ограничения:\n",
    "* вы должны использовать все методы из movielens_analysis.py, кроме тестов класса\n",
    "* каждая ячейка вашего блокнота должна содержать волшебную команду% timeit\n",
    "* запрещен любой другой импорт, а также использование встроенных функций. Если они вам нужны, заранее вставьте их в свой модуль."
   ]
  },
  {
   "cell_type": "markdown",
   "id": "b8e919fb",
   "metadata": {},
   "source": [
    "# imports"
   ]
  },
  {
   "cell_type": "code",
   "execution_count": 1,
   "id": "d2239086",
   "metadata": {},
   "outputs": [
    {
     "ename": "TypeError",
     "evalue": "'type' object is not subscriptable",
     "output_type": "error",
     "traceback": [
      "\u001b[0;31m---------------------------------------------------------------------------\u001b[0m",
      "\u001b[0;31mTypeError\u001b[0m                                 Traceback (most recent call last)",
      "\u001b[0;32m<ipython-input-1-5510b8ac788d>\u001b[0m in \u001b[0;36m<module>\u001b[0;34m\u001b[0m\n\u001b[0;32m----> 1\u001b[0;31m \u001b[0;32mfrom\u001b[0m \u001b[0mmovielens_analysis\u001b[0m \u001b[0;32mimport\u001b[0m \u001b[0;34m*\u001b[0m\u001b[0;34m\u001b[0m\u001b[0;34m\u001b[0m\u001b[0m\n\u001b[0m\u001b[1;32m      2\u001b[0m \u001b[0;34m\u001b[0m\u001b[0m\n\u001b[1;32m      3\u001b[0m \u001b[0;31m# https://stackoverflow.com/questions/5364050/reloading-submodules-in-ipython\u001b[0m\u001b[0;34m\u001b[0m\u001b[0;34m\u001b[0m\u001b[0;34m\u001b[0m\u001b[0m\n\u001b[1;32m      4\u001b[0m \u001b[0;31m# import importlib\u001b[0m\u001b[0;34m\u001b[0m\u001b[0;34m\u001b[0m\u001b[0;34m\u001b[0m\u001b[0m\n\u001b[1;32m      5\u001b[0m \u001b[0;31m# importlib.reload(movielens_analysis)\u001b[0m\u001b[0;34m\u001b[0m\u001b[0;34m\u001b[0m\u001b[0;34m\u001b[0m\u001b[0m\n",
      "\u001b[0;32m~/Desktop/21sh/ds_p/rush0/movielens_analysis.py\u001b[0m in \u001b[0;36m<module>\u001b[0;34m\u001b[0m\n\u001b[1;32m     95\u001b[0m                 \u001b[0;32mreturn\u001b[0m \u001b[0mdict\u001b[0m\u001b[0;34m(\u001b[0m\u001b[0mlist\u001b[0m\u001b[0;34m(\u001b[0m\u001b[0mself\u001b[0m\u001b[0;34m.\u001b[0m\u001b[0mcount_genres\u001b[0m\u001b[0;34m.\u001b[0m\u001b[0mitems\u001b[0m\u001b[0;34m(\u001b[0m\u001b[0;34m)\u001b[0m\u001b[0;34m)\u001b[0m\u001b[0;34m[\u001b[0m\u001b[0;34m:\u001b[0m\u001b[0mn\u001b[0m\u001b[0;34m]\u001b[0m\u001b[0;34m)\u001b[0m\u001b[0;34m\u001b[0m\u001b[0;34m\u001b[0m\u001b[0m\n\u001b[1;32m     96\u001b[0m \u001b[0;34m\u001b[0m\u001b[0m\n\u001b[0;32m---> 97\u001b[0;31m \u001b[0;32mdef\u001b[0m \u001b[0maverage\u001b[0m\u001b[0;34m(\u001b[0m\u001b[0mrait_list\u001b[0m\u001b[0;34m:\u001b[0m \u001b[0mlist\u001b[0m\u001b[0;34m[\u001b[0m\u001b[0mint\u001b[0m\u001b[0;34m]\u001b[0m\u001b[0;34m)\u001b[0m \u001b[0;34m->\u001b[0m \u001b[0mint\u001b[0m\u001b[0;34m:\u001b[0m\u001b[0;34m\u001b[0m\u001b[0;34m\u001b[0m\u001b[0m\n\u001b[0m\u001b[1;32m     98\u001b[0m \t\"\"\"\n\u001b[1;32m     99\u001b[0m         \u001b[0mвспомогательный\u001b[0m \u001b[0mметод\u001b[0m \u001b[0mчтобы\u001b[0m \u001b[0mпосчитать\u001b[0m \u001b[0mсреднее\u001b[0m \u001b[0mпо\u001b[0m \u001b[0mсписку\u001b[0m\u001b[0;34m\u001b[0m\u001b[0;34m\u001b[0m\u001b[0m\n",
      "\u001b[0;31mTypeError\u001b[0m: 'type' object is not subscriptable"
     ]
    }
   ],
   "source": [
    "from movielens_analysis import *\n",
    "\n",
    "# https://stackoverflow.com/questions/5364050/reloading-submodules-in-ipython\n",
    "# import importlib\n",
    "# importlib.reload(movielens_analysis)"
   ]
  },
  {
   "cell_type": "markdown",
   "id": "a74bbd06",
   "metadata": {},
   "source": [
    "# Анализ Movies"
   ]
  },
  {
   "cell_type": "code",
   "execution_count": null,
   "id": "5b9d59de",
   "metadata": {},
   "outputs": [],
   "source": [
    "%timeit movies = Movies('data/movies.csv')\n",
    "movies = Movies('data/movies.csv')"
   ]
  },
  {
   "cell_type": "markdown",
   "id": "f2ccecb0",
   "metadata": {},
   "source": [
    "##  Самые плодотворные года ов по выходу фильмов\n",
    "Посмотрим top-10 годов когда выходило больше всего фильмов"
   ]
  },
  {
   "cell_type": "code",
   "execution_count": null,
   "id": "eec26a27",
   "metadata": {},
   "outputs": [],
   "source": [
    "%timeit list(movies.dist_by_release().items())[:10]\n",
    "list(movies.dist_by_release().items())[:10]"
   ]
  },
  {
   "cell_type": "markdown",
   "id": "19be1eef",
   "metadata": {},
   "source": [
    "и когда выходило меньше всего фильмов:"
   ]
  },
  {
   "cell_type": "code",
   "execution_count": null,
   "id": "5bf87a22",
   "metadata": {},
   "outputs": [],
   "source": [
    "%timeit list(movies.dist_by_release().items())[-10::]\n",
    "list(movies.dist_by_release().items())[-10::]"
   ]
  },
  {
   "cell_type": "markdown",
   "id": "a9cdd18b",
   "metadata": {},
   "source": [
    "## Самые распространненные жанры"
   ]
  },
  {
   "cell_type": "markdown",
   "id": "f3afdf29",
   "metadata": {},
   "source": [
    "TOP-10 самых распространенных жанров"
   ]
  },
  {
   "cell_type": "code",
   "execution_count": null,
   "id": "50098951",
   "metadata": {},
   "outputs": [],
   "source": [
    "%timeit list(movies.dist_by_genres().items())[:10]\n",
    "list(movies.dist_by_genres().items())[:10]"
   ]
  },
  {
   "cell_type": "markdown",
   "id": "0206e7bd",
   "metadata": {},
   "source": [
    "## Фильмы, вышедшие в самом большом кол-ве жанров \n",
    "TOP-20"
   ]
  },
  {
   "cell_type": "code",
   "execution_count": null,
   "id": "500dc742",
   "metadata": {},
   "outputs": [],
   "source": [
    "%timeit movies.most_genres(20)\n",
    "movies.most_genres(20)"
   ]
  },
  {
   "cell_type": "code",
   "execution_count": null,
   "id": "db454f4c",
   "metadata": {},
   "outputs": [],
   "source": [
    "#%lsmagic"
   ]
  },
  {
   "cell_type": "markdown",
   "id": "556cafa0",
   "metadata": {},
   "source": [
    "# Анализ Ratings"
   ]
  },
  {
   "cell_type": "code",
   "execution_count": null,
   "id": "83aedd93",
   "metadata": {},
   "outputs": [],
   "source": [
    "%timeit ratings = Ratings('data/ratings.csv')\n",
    "ratings = Ratings('data/ratings.csv')"
   ]
  },
  {
   "cell_type": "markdown",
   "id": "37be919b",
   "metadata": {},
   "source": [
    "## Распределение кол-ва оценок фильмов по годам, отсортированных по годам по возрастанию"
   ]
  },
  {
   "cell_type": "code",
   "execution_count": null,
   "id": "b8be9327",
   "metadata": {},
   "outputs": [],
   "source": [
    "%timeit ratings.movies.dist_by_year()\n",
    "ratings.movies.dist_by_year()"
   ]
  },
  {
   "cell_type": "markdown",
   "id": "71621c30",
   "metadata": {},
   "source": [
    "## Распределение по кол-ва оценок фильмов по выставленному рейтингу"
   ]
  },
  {
   "cell_type": "code",
   "execution_count": null,
   "id": "6b5f1078",
   "metadata": {},
   "outputs": [],
   "source": [
    "%timeit ratings.movies.dist_by_rating()\n",
    "ratings.movies.dist_by_rating()"
   ]
  },
  {
   "cell_type": "markdown",
   "id": "70440a8f",
   "metadata": {},
   "source": [
    "## ТОП-20 id фильмов по количеству выставленных оценок "
   ]
  },
  {
   "cell_type": "code",
   "execution_count": null,
   "id": "dc87cf1b",
   "metadata": {},
   "outputs": [],
   "source": [
    "%timeit ratings.movies.top_by_num_of_ratings(20)\n",
    "ratings.movies.top_by_num_of_ratings(20)"
   ]
  },
  {
   "cell_type": "code",
   "execution_count": null,
   "id": "65f85fb9",
   "metadata": {},
   "outputs": [],
   "source": [
    "%timeit list_w_max_count_of_rating = ratings.movies.top_by_num_of_ratings(20).keys()\n",
    "list_w_max_count_of_rating = ratings.movies.top_by_num_of_ratings(20).keys()\n",
    "list_w_max_count_of_rating = list(list_w_max_count_of_rating)\n",
    "list_w_max_count_of_rating"
   ]
  },
  {
   "cell_type": "markdown",
   "id": "b019c823",
   "metadata": {},
   "source": [
    "## ТОП-20 id фильмов по средней оценке пользователей"
   ]
  },
  {
   "cell_type": "code",
   "execution_count": null,
   "id": "f7529904",
   "metadata": {},
   "outputs": [],
   "source": [
    "%timeit ratings.movies.top_by_ratings(20)\n",
    "ratings.movies.top_by_ratings(20)"
   ]
  },
  {
   "cell_type": "markdown",
   "id": "bdd14c8f",
   "metadata": {},
   "source": [
    "## ТОП-20 id фильмов по медианной оценке пользователей"
   ]
  },
  {
   "cell_type": "code",
   "execution_count": null,
   "id": "f4828275",
   "metadata": {},
   "outputs": [],
   "source": [
    "%timeit ratings.movies.top_by_ratings(20, metric=median)\n",
    "ratings.movies.top_by_ratings(20, metric=median)"
   ]
  },
  {
   "cell_type": "markdown",
   "id": "43a88e7e",
   "metadata": {},
   "source": [
    "## ТОП-20 id фильмов по самым спорным оценкам (максимальная дисперсия)"
   ]
  },
  {
   "cell_type": "code",
   "execution_count": null,
   "id": "0b9e07c0",
   "metadata": {},
   "outputs": [],
   "source": [
    "%timeit ratings.movies.top_controversial(20)\n",
    "ratings.movies.top_controversial(20)"
   ]
  },
  {
   "cell_type": "markdown",
   "id": "b98100c7",
   "metadata": {},
   "source": [
    "### ТОП-20 Распределение пользователей по количеству выставленных ими оценок"
   ]
  },
  {
   "cell_type": "code",
   "execution_count": null,
   "id": "efcf5374",
   "metadata": {},
   "outputs": [],
   "source": [
    "%timeit list(ratings.users.dist_by_users().items())[:20]\n",
    "list(ratings.users.dist_by_users().items())[:20]"
   ]
  },
  {
   "cell_type": "markdown",
   "id": "a1f03d5b",
   "metadata": {},
   "source": [
    "### ТОП-20 пользователей по максимальным средним оценкам, сделанным ими"
   ]
  },
  {
   "cell_type": "code",
   "execution_count": null,
   "id": "aec5e2e5",
   "metadata": {},
   "outputs": [],
   "source": [
    "%timeit list(ratings.users.dist_by_metric().items())[:20]\n",
    "list(ratings.users.dist_by_metric().items())[:20]"
   ]
  },
  {
   "cell_type": "markdown",
   "id": "1a42c365",
   "metadata": {},
   "source": [
    "### ТОП-20 распределение пользователей по максимальным медианным оценкам, сделанным ими"
   ]
  },
  {
   "cell_type": "code",
   "execution_count": null,
   "id": "d0055e7e",
   "metadata": {},
   "outputs": [],
   "source": [
    "%timeit list(ratings.users.dist_by_metric(metric=median).items())[:20]\n",
    "list(ratings.users.dist_by_metric(metric=median).items())[:20]"
   ]
  },
  {
   "cell_type": "markdown",
   "id": "fc60fa64",
   "metadata": {},
   "source": [
    "### ТОП-20 распределение пользователей по дисперации (разбросу оценок)"
   ]
  },
  {
   "cell_type": "code",
   "execution_count": null,
   "id": "e043ae0c",
   "metadata": {},
   "outputs": [],
   "source": [
    "%timeit ratings.users.top_controversial(20)\n",
    "ratings.users.top_controversial(20)"
   ]
  },
  {
   "cell_type": "markdown",
   "id": "9918937d",
   "metadata": {},
   "source": [
    "# Анализ Tags "
   ]
  },
  {
   "cell_type": "code",
   "execution_count": null,
   "id": "f0bfcb0e",
   "metadata": {},
   "outputs": [],
   "source": [
    "%timeit tags = Tags('data/tags.csv')\n",
    "tags = Tags('data/tags.csv')"
   ]
  },
  {
   "cell_type": "markdown",
   "id": "0c56a321",
   "metadata": {},
   "source": [
    "## Top-10 тегов, в которых больше всего слов"
   ]
  },
  {
   "cell_type": "code",
   "execution_count": null,
   "id": "02ddfdc2",
   "metadata": {},
   "outputs": [],
   "source": [
    "%timeit tags.most_words(10)\n",
    "tags.most_words(10)"
   ]
  },
  {
   "cell_type": "markdown",
   "id": "a1bb59d8",
   "metadata": {},
   "source": [
    "## Топ-20 самых длинных тегов по количеству символов"
   ]
  },
  {
   "cell_type": "code",
   "execution_count": null,
   "id": "b2ddfb67",
   "metadata": {},
   "outputs": [],
   "source": [
    "%timeit tags.longest(20)\n",
    "tags.longest(20)"
   ]
  },
  {
   "cell_type": "markdown",
   "id": "65ee474e",
   "metadata": {},
   "source": [
    "## ТОП-20 пересечение между тегами с большинством слов внутри и самых длинных тегов по количеству символов"
   ]
  },
  {
   "cell_type": "code",
   "execution_count": null,
   "id": "c2b99163",
   "metadata": {},
   "outputs": [],
   "source": [
    "%timeit tags.most_words_and_longest(20)\n",
    "tags.most_words_and_longest(20)"
   ]
  },
  {
   "cell_type": "markdown",
   "id": "be8f512f",
   "metadata": {},
   "source": [
    "## ТОП-20 самых популярных тегов"
   ]
  },
  {
   "cell_type": "code",
   "execution_count": null,
   "id": "3426cd2c",
   "metadata": {},
   "outputs": [],
   "source": [
    "%timeit tags.most_popular(20)\n",
    "tags.most_popular(20)"
   ]
  },
  {
   "cell_type": "markdown",
   "id": "3ed03ee2",
   "metadata": {},
   "source": [
    "## Все уникальные теги, которые включают слово"
   ]
  },
  {
   "cell_type": "code",
   "execution_count": null,
   "id": "b1117d94",
   "metadata": {},
   "outputs": [],
   "source": [
    "%timeit tags.tags_with('netflix')\n",
    "tags.tags_with('netflix')"
   ]
  },
  {
   "cell_type": "markdown",
   "id": "c7d826b4",
   "metadata": {},
   "source": [
    "# Анализ Links:\n"
   ]
  },
  {
   "cell_type": "code",
   "execution_count": null,
   "id": "6fdcfe17",
   "metadata": {},
   "outputs": [],
   "source": [
    "%timeit links = Links('data/links.csv')\n",
    "links = Links('data/links.csv')"
   ]
  },
  {
   "cell_type": "markdown",
   "id": "1f3c4eb3",
   "metadata": {},
   "source": [
    "## Запросим id самых оцениваемых фильмов"
   ]
  },
  {
   "cell_type": "code",
   "execution_count": null,
   "id": "d8671c5a",
   "metadata": {},
   "outputs": [],
   "source": [
    "%timeit links.get_imdb(list_w_max_count_of_rating)\n",
    "links.get_imdb(list_w_max_count_of_rating)"
   ]
  },
  {
   "cell_type": "markdown",
   "id": "8b8e8e47",
   "metadata": {},
   "source": [
    "## Получим директоров по ним "
   ]
  },
  {
   "cell_type": "code",
   "execution_count": null,
   "id": "dcb39308",
   "metadata": {},
   "outputs": [],
   "source": [
    "%timeit links.top_directors(20)\n",
    "links.top_directors(20)"
   ]
  },
  {
   "cell_type": "markdown",
   "id": "4b9cea2d",
   "metadata": {},
   "source": [
    "##  Данные по бюджету"
   ]
  },
  {
   "cell_type": "code",
   "execution_count": null,
   "id": "ca19c607",
   "metadata": {},
   "outputs": [],
   "source": [
    "%timeit links.most_expensive(20)\n",
    "links.most_expensive(20)"
   ]
  },
  {
   "cell_type": "markdown",
   "id": "dc54f451",
   "metadata": {},
   "source": [
    "## Данные по доходности (выручка - затраты)"
   ]
  },
  {
   "cell_type": "code",
   "execution_count": null,
   "id": "f87c000b",
   "metadata": {},
   "outputs": [],
   "source": [
    "%timeit links.most_profitable(20)\n",
    "links.most_profitable(20)"
   ]
  },
  {
   "cell_type": "markdown",
   "id": "1550906d",
   "metadata": {},
   "source": [
    "## Данные по времени в прокате"
   ]
  },
  {
   "cell_type": "code",
   "execution_count": null,
   "id": "5df33884",
   "metadata": {},
   "outputs": [],
   "source": [
    "%timeit links.longest(20)\n",
    "links.longest(20)"
   ]
  },
  {
   "cell_type": "markdown",
   "id": "a38fe599",
   "metadata": {},
   "source": [
    "## Затраты на минуту фильма"
   ]
  },
  {
   "cell_type": "code",
   "execution_count": null,
   "id": "ddd766b5",
   "metadata": {},
   "outputs": [],
   "source": [
    "%timeit links.top_cost_per_minute(20)\n",
    "links.top_cost_per_minute(20)"
   ]
  },
  {
   "cell_type": "code",
   "execution_count": null,
   "id": "d0237859",
   "metadata": {},
   "outputs": [],
   "source": []
  }
 ],
 "metadata": {
  "kernelspec": {
   "display_name": "Python 3",
   "language": "python",
   "name": "python3"
  },
  "language_info": {
   "codemirror_mode": {
    "name": "ipython",
    "version": 3
   },
   "file_extension": ".py",
   "mimetype": "text/x-python",
   "name": "python",
   "nbconvert_exporter": "python",
   "pygments_lexer": "ipython3",
   "version": "3.8.8"
  }
 },
 "nbformat": 4,
 "nbformat_minor": 5
}
